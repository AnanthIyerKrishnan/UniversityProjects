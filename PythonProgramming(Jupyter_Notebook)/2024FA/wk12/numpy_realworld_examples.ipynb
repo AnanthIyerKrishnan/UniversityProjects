{
 "cells": [
  {
   "cell_type": "markdown",
   "metadata": {},
   "source": [
    "# Ramadan Abdunabi\n",
    "## week 12: 11/05/2024\n",
    "## Numpy Real World Examples"
   ]
  },
  {
   "cell_type": "code",
   "execution_count": 3,
   "metadata": {},
   "outputs": [
    {
     "data": {
      "text/plain": [
       "array([ 18,  15, 100,  38,  45,  27,  27,   3,  44,  58,   3,  25,  91,\n",
       "         9,  26,  51,  76,  39,  26,  89,  30,  16,  28,  45,  72,  89,\n",
       "        77,  47,  47,  33,  60,  98,  32,  79,   2,  29,  36,  95,  46,\n",
       "        63,  82,  35,   9,  67,  37,  40,  19,  58,  97,  91])"
      ]
     },
     "execution_count": 3,
     "metadata": {},
     "output_type": "execute_result"
    }
   ],
   "source": [
    "# Computing Grades\n",
    "import numpy as np\n",
    "from numpy.random import random\n",
    "\n",
    "scores = np.round(random(50) * 101).astype(int)\n",
    "scores"
   ]
  },
  {
   "cell_type": "code",
   "execution_count": 4,
   "metadata": {},
   "outputs": [
    {
     "data": {
      "text/plain": [
       "47.38"
      ]
     },
     "execution_count": 4,
     "metadata": {},
     "output_type": "execute_result"
    }
   ],
   "source": [
    "np.mean(scores)"
   ]
  },
  {
   "cell_type": "code",
   "execution_count": 5,
   "metadata": {},
   "outputs": [
    {
     "data": {
      "text/plain": [
       "2"
      ]
     },
     "execution_count": 5,
     "metadata": {},
     "output_type": "execute_result"
    }
   ],
   "source": [
    "scores.min()"
   ]
  },
  {
   "cell_type": "code",
   "execution_count": 6,
   "metadata": {},
   "outputs": [
    {
     "data": {
      "text/plain": [
       "100"
      ]
     },
     "execution_count": 6,
     "metadata": {},
     "output_type": "execute_result"
    }
   ],
   "source": [
    "scores.max()"
   ]
  },
  {
   "cell_type": "code",
   "execution_count": 7,
   "metadata": {},
   "outputs": [
    {
     "data": {
      "text/plain": [
       "28.2268595490182"
      ]
     },
     "execution_count": 7,
     "metadata": {},
     "output_type": "execute_result"
    }
   ],
   "source": [
    "np.std(scores)"
   ]
  },
  {
   "cell_type": "code",
   "execution_count": 8,
   "metadata": {},
   "outputs": [
    {
     "data": {
      "text/plain": [
       "array([100,  91,  76,  89,  72,  89,  77,  98,  79,  95,  82,  97,  91])"
      ]
     },
     "execution_count": 8,
     "metadata": {},
     "output_type": "execute_result"
    }
   ],
   "source": [
    "scores[scores > 70]"
   ]
  },
  {
   "cell_type": "code",
   "execution_count": 9,
   "metadata": {},
   "outputs": [
    {
     "data": {
      "text/plain": [
       "13"
      ]
     },
     "execution_count": 9,
     "metadata": {},
     "output_type": "execute_result"
    }
   ],
   "source": [
    "len(scores[scores > 70])"
   ]
  },
  {
   "cell_type": "code",
   "execution_count": 13,
   "metadata": {},
   "outputs": [
    {
     "data": {
      "text/plain": [
       "array([ 91,  95,  97,  98, 100])"
      ]
     },
     "execution_count": 13,
     "metadata": {},
     "output_type": "execute_result"
    }
   ],
   "source": [
    "# find n largest scores\n",
    "n = 5\n",
    "scores.sort()\n",
    "scores[-n::]"
   ]
  },
  {
   "cell_type": "code",
   "execution_count": 14,
   "metadata": {},
   "outputs": [
    {
     "name": "stdout",
     "output_type": "stream",
     "text": [
      "slope = 9.999999999999996, and intercept = 39.999999999999986\n"
     ]
    }
   ],
   "source": [
    "# Linear Regression\n",
    "# Y = a + bX\n",
    "X = np.array([1, 2, 3, 4, 5,6])\n",
    "Y = np.array([50, 60, 70, 80, 90, 100])\n",
    "\n",
    "slope, intercept = np.polyfit(X,Y,1)\n",
    "\n",
    "print(f'slope = {slope}, and intercept = {intercept}')\n"
   ]
  },
  {
   "cell_type": "code",
   "execution_count": 16,
   "metadata": {},
   "outputs": [
    {
     "name": "stdout",
     "output_type": "stream",
     "text": [
      "Year 1: $10500.00\n",
      "Year 2: $11025.00\n",
      "Year 3: $11576.25\n",
      "Year 4: $12155.06\n",
      "Year 5: $12762.82\n",
      "Year 6: $13400.96\n",
      "Year 7: $14071.00\n",
      "Year 8: $14774.55\n",
      "Year 9: $15513.28\n",
      "Year 10: $16288.95\n"
     ]
    }
   ],
   "source": [
    "# Financial Calculations\n",
    "# calculating the future value of an investment\n",
    "\n",
    "initial_investment = 10000\n",
    "\n",
    "annual_interest_rate = 0.05\n",
    "\n",
    "years = np.arange(1, 11)\n",
    "\n",
    "future_value = initial_investment * (1 + annual_interest_rate) ** years\n",
    "\n",
    "for year, value in zip(years, future_value):\n",
    "    print(f'Year {year}: ${value:.2f}')"
   ]
  },
  {
   "cell_type": "code",
   "execution_count": 17,
   "metadata": {},
   "outputs": [
    {
     "name": "stdout",
     "output_type": "stream",
     "text": [
      "0.062000000000000006\n"
     ]
    }
   ],
   "source": [
    "# Portfolio Optimization\n",
    "\n",
    "returns = np.array([0.07, 0.05]) # Expected returns for Asset A and B\n",
    "\n",
    "weights = np.array([0.6, 0.4]) # Weights of each asset in the portfolio\n",
    "\n",
    "portfolio_return = np.dot(returns,weights)\n",
    "\n",
    "print(portfolio_return)"
   ]
  },
  {
   "cell_type": "code",
   "execution_count": 22,
   "metadata": {},
   "outputs": [
    {
     "name": "stdout",
     "output_type": "stream",
     "text": [
      "[0 1 0 0 0 1 0 0 0 1 1 1 1 1 1]\n",
      "[0 0 0 0 0 0 0 1 1 1 0 0 1 1 0]\n"
     ]
    }
   ],
   "source": [
    "# Healthcare\n",
    "# The effectiveness of a treatment by comparing patient outcomes\n",
    "\n",
    "sample = [0,1] # 1 = success, 0 = failure\n",
    "\n",
    "group_1 = np.random.choice(sample, 15)\n",
    "print(group_1)\n",
    "\n",
    "group_2 = np.random.choice(sample, 15)\n",
    "print(group_2)"
   ]
  },
  {
   "cell_type": "code",
   "execution_count": 23,
   "metadata": {},
   "outputs": [
    {
     "name": "stdout",
     "output_type": "stream",
     "text": [
      "Success rate for group 1 0.5333333333333333\n",
      "Success rate for group 2 0.3333333333333333\n"
     ]
    }
   ],
   "source": [
    "success_1 = np.mean(group_1)\n",
    "success_2 = np.mean(group_2)\n",
    "\n",
    "print(f'Success rate for group 1 {success_1}')\n",
    "print(f'Success rate for group 2 {success_2}')"
   ]
  },
  {
   "cell_type": "code",
   "execution_count": 24,
   "metadata": {},
   "outputs": [
    {
     "name": "stdout",
     "output_type": "stream",
     "text": [
      "Mean Measurement 10.16, Standard Deviation 0.2154065922853802\n"
     ]
    }
   ],
   "source": [
    "# Scientific Research\n",
    "\n",
    "m = np.array([10.1, 10.5, 9.9, 10.3, 10.0])\n",
    "\n",
    "mean_measurement = np.mean(m)\n",
    "std_measurement = np.std(m)\n",
    "\n",
    "print(f\"Mean Measurement {mean_measurement}, Standard Deviation {std_measurement}\")\n",
    "\n"
   ]
  },
  {
   "cell_type": "code",
   "execution_count": 34,
   "metadata": {},
   "outputs": [
    {
     "name": "stdout",
     "output_type": "stream",
     "text": [
      "[[[255 255 255]\n",
      "  [255 255 255]\n",
      "  [255 255 255]\n",
      "  ...\n",
      "  [255 255 255]\n",
      "  [255 255 255]\n",
      "  [255 255 255]]\n",
      "\n",
      " [[255 255 255]\n",
      "  [255 255 255]\n",
      "  [255 255 255]\n",
      "  ...\n",
      "  [255 255 255]\n",
      "  [255 255 255]\n",
      "  [255 255 255]]\n",
      "\n",
      " [[255 255 255]\n",
      "  [255 255 255]\n",
      "  [255 255 255]\n",
      "  ...\n",
      "  [255 255 255]\n",
      "  [255 255 255]\n",
      "  [255 255 255]]\n",
      "\n",
      " ...\n",
      "\n",
      " [[255 255 255]\n",
      "  [255 255 255]\n",
      "  [255 255 255]\n",
      "  ...\n",
      "  [255 255 255]\n",
      "  [255 255 255]\n",
      "  [255 255 255]]\n",
      "\n",
      " [[255 255 255]\n",
      "  [255 255 255]\n",
      "  [255 255 255]\n",
      "  ...\n",
      "  [255 255 255]\n",
      "  [255 255 255]\n",
      "  [255 255 255]]\n",
      "\n",
      " [[255 255 255]\n",
      "  [255 255 255]\n",
      "  [255 255 255]\n",
      "  ...\n",
      "  [255 255 255]\n",
      "  [255 255 255]\n",
      "  [255 255 255]]]\n",
      "3\n",
      "(192, 204, 3)\n"
     ]
    },
    {
     "data": {
      "image/png": "[encoded data removed]",
      "text/plain": [
       "<Figure size 720x360 with 2 Axes>"
      ]
     },
     "metadata": {
      "needs_background": "light"
     },
     "output_type": "display_data"
    }
   ],
   "source": [
    "# Image Processing\n",
    "# Converting a color image to grayscale using NumPy\n",
    "\n",
    "import matplotlib.pyplot as plt\n",
    "from PIL import Image\n",
    "\n",
    "image = np.array(Image.open('C:/Users/andaconda/Downloads/python.jpg'))\n",
    "print(image)\n",
    "print(image.ndim)\n",
    "print(image.shape)\n",
    "\n",
    "# Convert to grayscale\n",
    "gray_image = np.dot(image[...,:3], [0.2989, 0.5870, 0.1140])\n",
    "\n",
    "# Display original image\n",
    "plt.figure(figsize=(10,5))\n",
    "plt.subplot(1,2,1)\n",
    "plt.imshow(image)\n",
    "plt.title('Original Image')\n",
    "plt.axis('off')\n",
    "\n",
    "# Display grayscale image\n",
    "plt.subplot(1,2,2)\n",
    "plt.imshow(gray_image, cmap='gray')\n",
    "plt.title('Grayscale Image')\n",
    "plt.axis('off')\n",
    "\n",
    "plt.show()"
   ]
  },
  {
   "cell_type": "code",
   "execution_count": null,
   "metadata": {},
   "outputs": [],
   "source": []
  }
 ],
 "metadata": {
  "kernelspec": {
   "display_name": "Python 3.7 - default",
   "language": "python",
   "name": "py37_default"
  },
  "language_info": {
   "codemirror_mode": {
    "name": "ipython",
    "version": 3
   },
   "file_extension": ".py",
   "mimetype": "text/x-python",
   "name": "python",
   "nbconvert_exporter": "python",
   "pygments_lexer": "ipython3",
   "version": "3.7.7"
  }
 },
 "nbformat": 4,
 "nbformat_minor": 4
}
