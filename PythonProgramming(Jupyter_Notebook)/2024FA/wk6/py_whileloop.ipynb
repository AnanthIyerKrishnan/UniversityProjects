{
 "cells": [
  {
   "cell_type": "markdown",
   "metadata": {},
   "source": [
    "# Ramadan Abdunabi\n",
    "## Week6 - 09/26/2024\n",
    "### Python - While Loops"
   ]
  },
  {
   "cell_type": "markdown",
   "metadata": {},
   "source": [
    "**The general format of Python while loops:**\n",
    "\n",
    "<code>while test:\n",
    "           statements </code>"
   ]
  },
  {
   "cell_type": "code",
   "execution_count": 4,
   "metadata": {},
   "outputs": [
    {
     "name": "stdout",
     "output_type": "stream",
     "text": [
      "1  Hello!\n",
      "2  Hello!\n",
      "3  Hello!\n",
      "4  Hello!\n",
      "5  Hello!\n",
      "6  Hello!\n",
      "7  Hello!\n",
      "8  Hello!\n",
      "9  Hello!\n",
      "10  Hello!\n",
      "The value of count after while loop is: 11\n"
     ]
    }
   ],
   "source": [
    "count = 1\n",
    "\n",
    "while count <= 10:\n",
    "    print(count, ' Hello!')\n",
    "    count+=1 # count = count + 1\n",
    "\n",
    "print(f'The value of count after while loop is: {count}')"
   ]
  },
  {
   "cell_type": "code",
   "execution_count": 2,
   "metadata": {},
   "outputs": [
    {
     "data": {
      "text/plain": [
       "11"
      ]
     },
     "execution_count": 2,
     "metadata": {},
     "output_type": "execute_result"
    }
   ],
   "source": [
    "count"
   ]
  },
  {
   "cell_type": "code",
   "execution_count": 5,
   "metadata": {},
   "outputs": [
    {
     "name": "stdout",
     "output_type": "stream",
     "text": [
      "1  Hello!\n",
      "2  Hello!\n",
      "3  Hello!\n",
      "4  Hello!\n",
      "5  Hello!\n",
      "6  Hello!\n",
      "7  Hello!\n",
      "8  Hello!\n",
      "9  Hello!\n",
      "10  Hello!\n",
      "The value of count after while loop is: 11\n"
     ]
    }
   ],
   "source": [
    "# else\n",
    "count = 1\n",
    "\n",
    "while count <= 10:\n",
    "    print(count, ' Hello!')\n",
    "    count+=1 # count = count + 1\n",
    "else:\n",
    "    print(f'The value of count after while loop is: {count}')"
   ]
  },
  {
   "cell_type": "code",
   "execution_count": 8,
   "metadata": {},
   "outputs": [
    {
     "name": "stdout",
     "output_type": "stream",
     "text": [
      "Now the sum of value: 0 and value of: 1\n",
      "Now the sum of value: 1 and value of: 2\n",
      "Now the sum of value: 3 and value of: 3\n",
      "Now the sum of value: 6 and value of: 4\n",
      "Now the sum of value: 10 and value of: 5\n",
      "Now the sum of value: 15 and value of: 6\n",
      "Now the sum of value: 21 and value of: 7\n",
      "Now the sum of value: 28 and value of: 8\n",
      "Now the sum of value: 36 and value of: 9\n",
      "Now the sum of value: 45 and value of: 10\n",
      "The sum of all values: 55\n"
     ]
    }
   ],
   "source": [
    "count = 1\n",
    "sum = 0\n",
    "while count <= 10:\n",
    "        print(f'Now the sum of value: {sum} and value of: {count}')\n",
    "        sum+=count # sum = sum + count\n",
    "        count+=1\n",
    "else:\n",
    "    print(f'The sum of all values: {sum}')"
   ]
  },
  {
   "cell_type": "code",
   "execution_count": 10,
   "metadata": {},
   "outputs": [
    {
     "data": {
      "text/plain": [
       "[10, 15, 20, 25, 30, 35, 40, 45, 50]"
      ]
     },
     "execution_count": 10,
     "metadata": {},
     "output_type": "execute_result"
    }
   ],
   "source": [
    "# list\n",
    "lst = list(range(10,51,5))\n",
    "lst"
   ]
  },
  {
   "cell_type": "code",
   "execution_count": 12,
   "metadata": {},
   "outputs": [
    {
     "name": "stdout",
     "output_type": "stream",
     "text": [
      "10 15 20 25 30 35 40 45 50 "
     ]
    }
   ],
   "source": [
    "idx = 0\n",
    "while idx < len(lst):\n",
    "    print(lst[idx],end=' ')\n",
    "    idx+=1"
   ]
  },
  {
   "cell_type": "code",
   "execution_count": 13,
   "metadata": {},
   "outputs": [
    {
     "name": "stdout",
     "output_type": "stream",
     "text": [
      "red green blue purple "
     ]
    }
   ],
   "source": [
    "colors = (\"red\", \"green\", \"blue\", \"purple\")\n",
    "i = 0\n",
    "while i < len(colors):\n",
    "    print(colors[i],end=' ')\n",
    "    i+=1"
   ]
  },
  {
   "cell_type": "code",
   "execution_count": 14,
   "metadata": {},
   "outputs": [
    {
     "data": {
      "text/plain": [
       "[10, 15, 20, 25, 30, 35, 40, 45, 50]"
      ]
     },
     "execution_count": 14,
     "metadata": {},
     "output_type": "execute_result"
    }
   ],
   "source": [
    "lst"
   ]
  },
  {
   "cell_type": "code",
   "execution_count": 15,
   "metadata": {},
   "outputs": [
    {
     "name": "stdout",
     "output_type": "stream",
     "text": [
      "50\n",
      "45\n",
      "40\n",
      "35\n",
      "30\n",
      "25\n",
      "20\n",
      "15\n",
      "10\n"
     ]
    }
   ],
   "source": [
    "while lst:\n",
    "    print(lst.pop())"
   ]
  },
  {
   "cell_type": "code",
   "execution_count": 16,
   "metadata": {},
   "outputs": [
    {
     "data": {
      "text/plain": [
       "[]"
      ]
     },
     "execution_count": 16,
     "metadata": {},
     "output_type": "execute_result"
    }
   ],
   "source": [
    "lst"
   ]
  },
  {
   "cell_type": "code",
   "execution_count": 17,
   "metadata": {},
   "outputs": [
    {
     "name": "stdout",
     "output_type": "stream",
     "text": [
      "c i s 3 1 0 D a t a A n a l y t i c s "
     ]
    }
   ],
   "source": [
    "#string\n",
    "s = 'cis310DataAnalytics'\n",
    "i = 0\n",
    "while i < len(s):\n",
    "    print(s[i],end=' ')\n",
    "    i+=1"
   ]
  },
  {
   "cell_type": "code",
   "execution_count": 18,
   "metadata": {},
   "outputs": [
    {
     "name": "stdout",
     "output_type": "stream",
     "text": [
      "c i s 3 1 0 D a "
     ]
    }
   ],
   "source": [
    "#break keyword\n",
    "# break when  the letter is 'a' or 't'\n",
    "i = 0\n",
    "while i < len(s):\n",
    "    print(s[i],end=' ')\n",
    "    if s[i] == 'a' or s[i] == 't':\n",
    "        break\n",
    "    i+=1"
   ]
  },
  {
   "cell_type": "code",
   "execution_count": 21,
   "metadata": {},
   "outputs": [
    {
     "name": "stdout",
     "output_type": "stream",
     "text": [
      "c i s 3 1 0 D "
     ]
    }
   ],
   "source": [
    "i = 0\n",
    "while (i < len(s)) and ( s[i] != 'a' and s[i] != 't'):\n",
    "    print(s[i],end=' ')\n",
    "    i+=1"
   ]
  },
  {
   "cell_type": "code",
   "execution_count": 23,
   "metadata": {},
   "outputs": [
    {
     "name": "stdout",
     "output_type": "stream",
     "text": [
      "c i s 3 1 0 D A n l y i c s "
     ]
    }
   ],
   "source": [
    "#continue keyword\n",
    "i = 0\n",
    "while i < len(s):\n",
    "    if s[i] == 'a' or s[i] == 't':\n",
    "        i+=1\n",
    "        continue \n",
    "    print(s[i],end=' ')\n",
    "    i+=1"
   ]
  },
  {
   "cell_type": "code",
   "execution_count": null,
   "metadata": {},
   "outputs": [],
   "source": []
  }
 ],
 "metadata": {
  "kernelspec": {
   "display_name": "Python 3.7 - default",
   "language": "python",
   "name": "py37_default"
  },
  "language_info": {
   "codemirror_mode": {
    "name": "ipython",
    "version": 3
   },
   "file_extension": ".py",
   "mimetype": "text/x-python",
   "name": "python",
   "nbconvert_exporter": "python",
   "pygments_lexer": "ipython3",
   "version": "3.7.7"
  }
 },
 "nbformat": 4,
 "nbformat_minor": 4
}
