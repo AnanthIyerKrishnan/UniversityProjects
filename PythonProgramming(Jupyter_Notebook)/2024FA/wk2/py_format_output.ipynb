{
 "cells": [
  {
   "cell_type": "markdown",
   "metadata": {},
   "source": [
    "# Ramadan Abdunabi\n",
    "## Week2: 08/29/2024 - 09/03/2024\n",
    "### Formatting Output with %, .format(), and f-strings methods"
   ]
  },
  {
   "cell_type": "code",
   "execution_count": 1,
   "metadata": {},
   "outputs": [
    {
     "name": "stdout",
     "output_type": "stream",
     "text": [
      "The quick brown cat jumps over the lazy dog\n"
     ]
    }
   ],
   "source": [
    "# format with the percent specifier sign %\n",
    "print(\"The quick brown %s jumps over the lazy dog\" %'cat')"
   ]
  },
  {
   "cell_type": "code",
   "execution_count": 2,
   "metadata": {},
   "outputs": [
    {
     "name": "stdout",
     "output_type": "stream",
     "text": [
      "The quick brown fox jumps over the lazy dog\n"
     ]
    }
   ],
   "source": [
    "name1 = 'fox'\n",
    "name2 = 'dog'\n",
    "print(\"The quick brown %s jumps over the lazy %s\" %(name1,name2))"
   ]
  },
  {
   "cell_type": "code",
   "execution_count": 3,
   "metadata": {},
   "outputs": [
    {
     "name": "stdout",
     "output_type": "stream",
     "text": [
      "The quick brown 'cat' jumps over the lazy dog\n"
     ]
    }
   ],
   "source": [
    "print(\"The quick brown %r jumps over the lazy dog\" %'cat')"
   ]
  },
  {
   "cell_type": "code",
   "execution_count": 5,
   "metadata": {},
   "outputs": [
    {
     "name": "stdout",
     "output_type": "stream",
     "text": [
      "The quick brown \tcat jumps over the lazy dog\n"
     ]
    }
   ],
   "source": [
    "print(\"The quick brown %s jumps over the lazy dog\" %'\\tcat')"
   ]
  },
  {
   "cell_type": "code",
   "execution_count": 6,
   "metadata": {},
   "outputs": [
    {
     "name": "stdout",
     "output_type": "stream",
     "text": [
      "My score is 98.88 in CIS310\n"
     ]
    }
   ],
   "source": [
    "# Formatting numbers\n",
    "print('My score is %s in CIS310' %98.88)"
   ]
  },
  {
   "cell_type": "code",
   "execution_count": 7,
   "metadata": {},
   "outputs": [
    {
     "name": "stdout",
     "output_type": "stream",
     "text": [
      "My score is 98 in CIS310\n"
     ]
    }
   ],
   "source": [
    "print('My score is %d in CIS310' %98.88)"
   ]
  },
  {
   "cell_type": "code",
   "execution_count": 8,
   "metadata": {},
   "outputs": [
    {
     "name": "stdout",
     "output_type": "stream",
     "text": [
      "My score is 98.880000 in CIS310\n"
     ]
    }
   ],
   "source": [
    "print('My score is %f in CIS310' %98.88)"
   ]
  },
  {
   "cell_type": "code",
   "execution_count": 10,
   "metadata": {},
   "outputs": [
    {
     "name": "stdout",
     "output_type": "stream",
     "text": [
      "My score is      98.88 in CIS310\n"
     ]
    }
   ],
   "source": [
    "print('My score is %10.2f in CIS310' %98.88)"
   ]
  },
  {
   "cell_type": "code",
   "execution_count": 11,
   "metadata": {},
   "outputs": [
    {
     "name": "stdout",
     "output_type": "stream",
     "text": [
      "My score is: 98.880 in CIS310\n"
     ]
    }
   ],
   "source": [
    "print('My score is: %5.3f in CIS310' %98.88)"
   ]
  },
  {
   "cell_type": "code",
   "execution_count": 13,
   "metadata": {},
   "outputs": [],
   "source": [
    "import webbrowser as web"
   ]
  },
  {
   "cell_type": "code",
   "execution_count": 14,
   "metadata": {},
   "outputs": [
    {
     "data": {
      "text/plain": [
       "True"
      ]
     },
     "execution_count": 14,
     "metadata": {},
     "output_type": "execute_result"
    }
   ],
   "source": [
    "web.open('https://docs.python.org/3/')"
   ]
  },
  {
   "cell_type": "code",
   "execution_count": 17,
   "metadata": {},
   "outputs": [
    {
     "name": "stdout",
     "output_type": "stream",
     "text": [
      "I'm using the general purpose language Python to perform data analysis!\n"
     ]
    }
   ],
   "source": [
    "# Formatting with the .format() method {}\n",
    "print(\"I'm using the general purpose language {} to perform data analysis!\".format('Python'))"
   ]
  },
  {
   "cell_type": "code",
   "execution_count": 18,
   "metadata": {},
   "outputs": [
    {
     "name": "stdout",
     "output_type": "stream",
     "text": [
      "The brown fox jumps over the lazy dog\n"
     ]
    }
   ],
   "source": [
    "print(\"The {1} {0} jumps over the {3} {2}\".format('fox','brown','dog','lazy'))"
   ]
  },
  {
   "cell_type": "code",
   "execution_count": 20,
   "metadata": {},
   "outputs": [
    {
     "name": "stdout",
     "output_type": "stream",
     "text": [
      "The lazy fox jumps over the brown dog\n"
     ]
    }
   ],
   "source": [
    "print(\"The {3} {0} jumps over the {1} {2}\".format('fox','brown','dog','lazy'))"
   ]
  },
  {
   "cell_type": "code",
   "execution_count": 21,
   "metadata": {},
   "outputs": [
    {
     "name": "stdout",
     "output_type": "stream",
     "text": [
      "The lazy fox jumps over the brown dog\n"
     ]
    }
   ],
   "source": [
    "name1, name2 = 'lazy', 'brown'\n",
    "print(\"The {3} {0} jumps over the {1} {2}\".format('fox',name2,'dog',name1))"
   ]
  },
  {
   "cell_type": "code",
   "execution_count": 22,
   "metadata": {},
   "outputs": [
    {
     "name": "stdout",
     "output_type": "stream",
     "text": [
      "Food     | Calories \n",
      "Apples   | 3.5      \n",
      "Almonds  | 10.9     \n"
     ]
    }
   ],
   "source": [
    "print('{0:8} | {1:9}'.format('Food', 'Calories'))\n",
    "print('{0:8} | {1:9}'.format('Apples', '3.5'))\n",
    "print('{0:8} | {1:9}'.format('Almonds', '10.9'))"
   ]
  },
  {
   "cell_type": "code",
   "execution_count": 24,
   "metadata": {},
   "outputs": [
    {
     "name": "stdout",
     "output_type": "stream",
     "text": [
      "Food         | Calories \n",
      "Apples       | 3.5      \n",
      "Almonds      | 10.9     \n"
     ]
    }
   ],
   "source": [
    "#keywords\n",
    "print('{f:12} | {c:9}'.format(f='Food', c='Calories'))\n",
    "print('{0:12} | {1:9}'.format('Apples', '3.5'))\n",
    "print('{0:12} | {1:9}'.format('Almonds', '10.9'))"
   ]
  },
  {
   "cell_type": "code",
   "execution_count": 28,
   "metadata": {},
   "outputs": [
    {
     "name": "stdout",
     "output_type": "stream",
     "text": [
      "My GPA is: 3.98\n"
     ]
    }
   ],
   "source": [
    "# numbers\n",
    "gpa = 3.98\n",
    "print('My GPA is: {0:1.2f}'.format(gpa))"
   ]
  },
  {
   "cell_type": "code",
   "execution_count": 30,
   "metadata": {},
   "outputs": [
    {
     "name": "stdout",
     "output_type": "stream",
     "text": [
      "Dr. Abdunabi teaches CIS310 and CIS350 in Fall 2024\n"
     ]
    }
   ],
   "source": [
    "#Formatted String Literals f-strings\n",
    "name = 'Dr. Abdunabi'\n",
    "term = 'Fall 2024'\n",
    "print(f'{name} teaches CIS310 and CIS350 in {term}')"
   ]
  },
  {
   "cell_type": "code",
   "execution_count": 32,
   "metadata": {},
   "outputs": [
    {
     "name": "stdout",
     "output_type": "stream",
     "text": [
      "Dr. Abdunabi teaches CIS310 and CIS350 in 'Fall 2024'\n"
     ]
    }
   ],
   "source": [
    "print(f\"{name} teaches CIS310 and CIS350 in {term!r}\")"
   ]
  },
  {
   "cell_type": "code",
   "execution_count": 34,
   "metadata": {},
   "outputs": [
    {
     "name": "stdout",
     "output_type": "stream",
     "text": [
      "The area for the radius 2.50 is 13.38\n"
     ]
    }
   ],
   "source": [
    "# numbers\n",
    "#numbers\n",
    "radius = 2.5\n",
    "area = (radius**2) * 2.1415\n",
    "print(f'The area for the radius {radius:2.2f} is {area:2.2f}')"
   ]
  },
  {
   "cell_type": "code",
   "execution_count": 35,
   "metadata": {},
   "outputs": [
    {
     "name": "stdout",
     "output_type": "stream",
     "text": [
      "The area for the radius 2.50 is 19.63\n"
     ]
    }
   ],
   "source": [
    "import math\n",
    "area = (radius**2) * math.pi\n",
    "print(f'The area for the radius {radius:2.2f} is {area:2.2f}')"
   ]
  },
  {
   "cell_type": "code",
   "execution_count": 36,
   "metadata": {},
   "outputs": [
    {
     "name": "stdout",
     "output_type": "stream",
     "text": [
      "The value of the math pi is 3.141592653589793\n"
     ]
    }
   ],
   "source": [
    "print(f'The value of the math pi is {math.pi}')"
   ]
  },
  {
   "cell_type": "code",
   "execution_count": 38,
   "metadata": {},
   "outputs": [
    {
     "name": "stdout",
     "output_type": "stream",
     "text": [
      "Enter the value of a: 15\n",
      "The user input is 15\n"
     ]
    }
   ],
   "source": [
    "# Python input() Function\n",
    "a = input('Enter the value of a: ')\n",
    "print(f'The user input is {a}')"
   ]
  },
  {
   "cell_type": "code",
   "execution_count": 39,
   "metadata": {},
   "outputs": [
    {
     "data": {
      "text/plain": [
       "str"
      ]
     },
     "execution_count": 39,
     "metadata": {},
     "output_type": "execute_result"
    }
   ],
   "source": [
    "type(a)"
   ]
  },
  {
   "cell_type": "code",
   "execution_count": 45,
   "metadata": {},
   "outputs": [
    {
     "name": "stdout",
     "output_type": "stream",
     "text": [
      "Enter the value of radius: 2.5\n",
      "The area is 19.634954084936208\n"
     ]
    }
   ],
   "source": [
    "radius = float(input('Enter the value of radius: '))\n",
    "area = (radius**2) * math.pi\n",
    "print(f'The area is {area}')"
   ]
  },
  {
   "cell_type": "code",
   "execution_count": 1,
   "metadata": {},
   "outputs": [],
   "source": [
    "# Adding code in week 3\n",
    "# Python Casting Primitive Data Types\n",
    "# Casting to int\n",
    "x = int(1)\n",
    "y = int(2.5)\n",
    "z = int(\"5\")"
   ]
  },
  {
   "cell_type": "code",
   "execution_count": 2,
   "metadata": {},
   "outputs": [
    {
     "data": {
      "text/plain": [
       "int"
      ]
     },
     "execution_count": 2,
     "metadata": {},
     "output_type": "execute_result"
    }
   ],
   "source": [
    "type(x)"
   ]
  },
  {
   "cell_type": "code",
   "execution_count": 3,
   "metadata": {},
   "outputs": [
    {
     "data": {
      "text/plain": [
       "1"
      ]
     },
     "execution_count": 3,
     "metadata": {},
     "output_type": "execute_result"
    }
   ],
   "source": [
    "x"
   ]
  },
  {
   "cell_type": "code",
   "execution_count": 4,
   "metadata": {},
   "outputs": [
    {
     "data": {
      "text/plain": [
       "int"
      ]
     },
     "execution_count": 4,
     "metadata": {},
     "output_type": "execute_result"
    }
   ],
   "source": [
    "type(y)"
   ]
  },
  {
   "cell_type": "code",
   "execution_count": 5,
   "metadata": {},
   "outputs": [
    {
     "data": {
      "text/plain": [
       "2"
      ]
     },
     "execution_count": 5,
     "metadata": {},
     "output_type": "execute_result"
    }
   ],
   "source": [
    "y"
   ]
  },
  {
   "cell_type": "code",
   "execution_count": 6,
   "metadata": {},
   "outputs": [
    {
     "data": {
      "text/plain": [
       "int"
      ]
     },
     "execution_count": 6,
     "metadata": {},
     "output_type": "execute_result"
    }
   ],
   "source": [
    "type(z)"
   ]
  },
  {
   "cell_type": "code",
   "execution_count": 7,
   "metadata": {},
   "outputs": [
    {
     "data": {
      "text/plain": [
       "5"
      ]
     },
     "execution_count": 7,
     "metadata": {},
     "output_type": "execute_result"
    }
   ],
   "source": [
    "z"
   ]
  },
  {
   "cell_type": "code",
   "execution_count": 9,
   "metadata": {},
   "outputs": [],
   "source": [
    "# cast to float\n",
    "x = float(1) # x will be 1.0\n",
    "y = float(2.8) # y will be 2.8\n",
    "z = float(\"3\") # z will be 3.0\n",
    "w = float('4.2') # w will be 4.2"
   ]
  },
  {
   "cell_type": "code",
   "execution_count": 10,
   "metadata": {},
   "outputs": [
    {
     "name": "stdout",
     "output_type": "stream",
     "text": [
      "1.0 2.8 3.0 4.2\n"
     ]
    }
   ],
   "source": [
    "print(x,y,z,w)"
   ]
  },
  {
   "cell_type": "code",
   "execution_count": 11,
   "metadata": {},
   "outputs": [
    {
     "name": "stdout",
     "output_type": "stream",
     "text": [
      "The string values are: cis, 2,4.5\n"
     ]
    }
   ],
   "source": [
    "#cast tp string\n",
    "x = str(\"cis\") # x will be 'cis'\n",
    "y = str(2) # y will be '2'\n",
    "z = str(4.5) # z will be '4.5'\n",
    "print(f'The string values are: {x}, {y},{z}')"
   ]
  },
  {
   "cell_type": "code",
   "execution_count": 12,
   "metadata": {},
   "outputs": [
    {
     "data": {
      "text/plain": [
       "str"
      ]
     },
     "execution_count": 12,
     "metadata": {},
     "output_type": "execute_result"
    }
   ],
   "source": [
    "type(x)"
   ]
  },
  {
   "cell_type": "code",
   "execution_count": 13,
   "metadata": {},
   "outputs": [
    {
     "data": {
      "text/plain": [
       "'cis'"
      ]
     },
     "execution_count": 13,
     "metadata": {},
     "output_type": "execute_result"
    }
   ],
   "source": [
    "x"
   ]
  },
  {
   "cell_type": "code",
   "execution_count": 14,
   "metadata": {},
   "outputs": [
    {
     "data": {
      "text/plain": [
       "'2'"
      ]
     },
     "execution_count": 14,
     "metadata": {},
     "output_type": "execute_result"
    }
   ],
   "source": [
    "y"
   ]
  },
  {
   "cell_type": "code",
   "execution_count": 15,
   "metadata": {},
   "outputs": [
    {
     "data": {
      "text/plain": [
       "'4.5'"
      ]
     },
     "execution_count": 15,
     "metadata": {},
     "output_type": "execute_result"
    }
   ],
   "source": [
    "z"
   ]
  },
  {
   "cell_type": "code",
   "execution_count": null,
   "metadata": {},
   "outputs": [],
   "source": []
  }
 ],
 "metadata": {
  "kernelspec": {
   "display_name": "Python 3.7 - default",
   "language": "python",
   "name": "py37_default"
  },
  "language_info": {
   "codemirror_mode": {
    "name": "ipython",
    "version": 3
   },
   "file_extension": ".py",
   "mimetype": "text/x-python",
   "name": "python",
   "nbconvert_exporter": "python",
   "pygments_lexer": "ipython3",
   "version": "3.7.7"
  }
 },
 "nbformat": 4,
 "nbformat_minor": 4
}
