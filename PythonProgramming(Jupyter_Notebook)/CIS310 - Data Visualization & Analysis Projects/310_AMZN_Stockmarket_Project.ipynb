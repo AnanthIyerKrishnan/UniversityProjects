{
 "cells": [
  {
   "cell_type": "code",
   "execution_count": 2,
   "metadata": {},
   "outputs": [],
   "source": [
    "#Let's go ahead and start with some imports\n",
    "import pandas as pd\n",
    "from pandas import Series,DataFrame\n",
    "import numpy as np\n",
    "\n",
    "# For Visualization\n",
    "import matplotlib.pyplot as plt\n",
    "#import seaborn as sns\n",
    "#sns.set_style('whitegrid')\n",
    "%matplotlib inline\n",
    "\n",
    "# For reading stock data from yahoo\n",
    "#from pandas.io.data import DataReader\n",
    "#import pandas_datareader as pdr\n",
    "\n",
    "\n",
    "# For time stamps\n",
    "from datetime import datetime\n",
    "\n",
    "# For division\n",
    "#from __future__ import division"
   ]
  },
  {
   "cell_type": "code",
   "execution_count": null,
   "metadata": {},
   "outputs": [],
   "source": [
    "# The tech stocks we'll use for this analysis\n",
    "tech_list = ['AAPL','GOOG','MSFT','AMZN']\n",
    "\n",
    "# Set up End and Start times for data grab\n",
    "end = datetime.now()\n",
    "start = datetime(end.year - 1,end.month,end.day)\n",
    "\n",
    "\n",
    "#For loop for grabing yahoo finance data and setting as a dataframe\n",
    "\n",
    "for stock in tech_list:   \n",
    "    # Set DataFrame as the Stock Ticker\n",
    "    globals()[stock] = pdr.DataReader(stock,'yahoo',start,end)"
   ]
  },
  {
   "cell_type": "code",
   "execution_count": null,
   "metadata": {},
   "outputs": [],
   "source": [
    "# Summary Stats\n",
    "AAPL.describe()"
   ]
  },
  {
   "cell_type": "code",
   "execution_count": null,
   "metadata": {},
   "outputs": [],
   "source": [
    "AAPL.info()"
   ]
  },
  {
   "cell_type": "code",
   "execution_count": null,
   "metadata": {},
   "outputs": [],
   "source": [
    "AAPL.head()"
   ]
  },
  {
   "cell_type": "code",
   "execution_count": null,
   "metadata": {},
   "outputs": [],
   "source": [
    "AAPL['Adj Close'].plot(legend=True,figsize=(10,4))"
   ]
  },
  {
   "cell_type": "code",
   "execution_count": null,
   "metadata": {},
   "outputs": [],
   "source": [
    "AAPL['Volume'].plot(legend=True,figsize=(10,4))"
   ]
  },
  {
   "cell_type": "code",
   "execution_count": null,
   "metadata": {},
   "outputs": [],
   "source": [
    "AMZN.head()"
   ]
  },
  {
   "cell_type": "markdown",
   "metadata": {},
   "source": [
    "### upload data from CSV\n",
    "### Source\n",
    "https://finance.yahoo.com/quote/AMZN/history?period1=1325376000&period2=1606521600&interval=1d&filter=history&frequency=1d&includeAdjustedClose=true"
   ]
  },
  {
   "cell_type": "code",
   "execution_count": 3,
   "metadata": {},
   "outputs": [],
   "source": [
    "#upload from CSV\n",
    "\n",
    "data = pd.read_csv('AMZN.csv')"
   ]
  },
  {
   "cell_type": "code",
   "execution_count": 4,
   "metadata": {},
   "outputs": [
    {
     "data": {
      "text/html": [
       "<div>\n",
       "<style scoped>\n",
       "    .dataframe tbody tr th:only-of-type {\n",
       "        vertical-align: middle;\n",
       "    }\n",
       "\n",
       "    .dataframe tbody tr th {\n",
       "        vertical-align: top;\n",
       "    }\n",
       "\n",
       "    .dataframe thead th {\n",
       "        text-align: right;\n",
       "    }\n",
       "</style>\n",
       "<table border=\"1\" class=\"dataframe\">\n",
       "  <thead>\n",
       "    <tr style=\"text-align: right;\">\n",
       "      <th></th>\n",
       "      <th>Date</th>\n",
       "      <th>Source</th>\n",
       "      <th>Open</th>\n",
       "      <th>High</th>\n",
       "      <th>Low</th>\n",
       "      <th>Close</th>\n",
       "      <th>Adj Close</th>\n",
       "      <th>Volume</th>\n",
       "      <th>Stock</th>\n",
       "    </tr>\n",
       "  </thead>\n",
       "  <tbody>\n",
       "    <tr>\n",
       "      <th>0</th>\n",
       "      <td>1/3/2012</td>\n",
       "      <td>yahoo</td>\n",
       "      <td>175.889999</td>\n",
       "      <td>179.479996</td>\n",
       "      <td>175.550003</td>\n",
       "      <td>179.029999</td>\n",
       "      <td>179.029999</td>\n",
       "      <td>5110800</td>\n",
       "      <td>amazon</td>\n",
       "    </tr>\n",
       "    <tr>\n",
       "      <th>1</th>\n",
       "      <td>1/4/2012</td>\n",
       "      <td>yahoo</td>\n",
       "      <td>179.210007</td>\n",
       "      <td>180.500000</td>\n",
       "      <td>176.070007</td>\n",
       "      <td>177.509995</td>\n",
       "      <td>177.509995</td>\n",
       "      <td>4205200</td>\n",
       "      <td>amazon</td>\n",
       "    </tr>\n",
       "    <tr>\n",
       "      <th>2</th>\n",
       "      <td>1/5/2012</td>\n",
       "      <td>yahoo</td>\n",
       "      <td>175.940002</td>\n",
       "      <td>178.250000</td>\n",
       "      <td>174.050003</td>\n",
       "      <td>177.610001</td>\n",
       "      <td>177.610001</td>\n",
       "      <td>3809100</td>\n",
       "      <td>amazon</td>\n",
       "    </tr>\n",
       "    <tr>\n",
       "      <th>3</th>\n",
       "      <td>1/6/2012</td>\n",
       "      <td>yahoo</td>\n",
       "      <td>178.070007</td>\n",
       "      <td>184.649994</td>\n",
       "      <td>177.500000</td>\n",
       "      <td>182.610001</td>\n",
       "      <td>182.610001</td>\n",
       "      <td>7008400</td>\n",
       "      <td>amazon</td>\n",
       "    </tr>\n",
       "    <tr>\n",
       "      <th>4</th>\n",
       "      <td>1/9/2012</td>\n",
       "      <td>yahoo</td>\n",
       "      <td>182.759995</td>\n",
       "      <td>184.369995</td>\n",
       "      <td>177.000000</td>\n",
       "      <td>178.559998</td>\n",
       "      <td>178.559998</td>\n",
       "      <td>5056900</td>\n",
       "      <td>amazon</td>\n",
       "    </tr>\n",
       "  </tbody>\n",
       "</table>\n",
       "</div>"
      ],
      "text/plain": [
       "       Date Source        Open        High         Low       Close  \\\n",
       "0  1/3/2012  yahoo  175.889999  179.479996  175.550003  179.029999   \n",
       "1  1/4/2012  yahoo  179.210007  180.500000  176.070007  177.509995   \n",
       "2  1/5/2012  yahoo  175.940002  178.250000  174.050003  177.610001   \n",
       "3  1/6/2012  yahoo  178.070007  184.649994  177.500000  182.610001   \n",
       "4  1/9/2012  yahoo  182.759995  184.369995  177.000000  178.559998   \n",
       "\n",
       "    Adj Close   Volume   Stock  \n",
       "0  179.029999  5110800  amazon  \n",
       "1  177.509995  4205200  amazon  \n",
       "2  177.610001  3809100  amazon  \n",
       "3  182.610001  7008400  amazon  \n",
       "4  178.559998  5056900  amazon  "
      ]
     },
     "execution_count": 4,
     "metadata": {},
     "output_type": "execute_result"
    }
   ],
   "source": [
    "data.head()"
   ]
  },
  {
   "cell_type": "code",
   "execution_count": 5,
   "metadata": {},
   "outputs": [
    {
     "data": {
      "text/html": [
       "<div>\n",
       "<style scoped>\n",
       "    .dataframe tbody tr th:only-of-type {\n",
       "        vertical-align: middle;\n",
       "    }\n",
       "\n",
       "    .dataframe tbody tr th {\n",
       "        vertical-align: top;\n",
       "    }\n",
       "\n",
       "    .dataframe thead th {\n",
       "        text-align: right;\n",
       "    }\n",
       "</style>\n",
       "<table border=\"1\" class=\"dataframe\">\n",
       "  <thead>\n",
       "    <tr style=\"text-align: right;\">\n",
       "      <th></th>\n",
       "      <th>Open</th>\n",
       "      <th>High</th>\n",
       "      <th>Low</th>\n",
       "      <th>Close</th>\n",
       "      <th>Adj Close</th>\n",
       "      <th>Volume</th>\n",
       "    </tr>\n",
       "  </thead>\n",
       "  <tbody>\n",
       "    <tr>\n",
       "      <th>count</th>\n",
       "      <td>2241.000000</td>\n",
       "      <td>2240.000000</td>\n",
       "      <td>2242.000000</td>\n",
       "      <td>2239.000000</td>\n",
       "      <td>2241.000000</td>\n",
       "      <td>2.242000e+03</td>\n",
       "    </tr>\n",
       "    <tr>\n",
       "      <th>mean</th>\n",
       "      <td>991.401419</td>\n",
       "      <td>1002.190218</td>\n",
       "      <td>979.221717</td>\n",
       "      <td>991.895355</td>\n",
       "      <td>991.190696</td>\n",
       "      <td>4.118187e+06</td>\n",
       "    </tr>\n",
       "    <tr>\n",
       "      <th>std</th>\n",
       "      <td>802.269032</td>\n",
       "      <td>811.968123</td>\n",
       "      <td>790.843600</td>\n",
       "      <td>801.664757</td>\n",
       "      <td>801.654109</td>\n",
       "      <td>2.278888e+06</td>\n",
       "    </tr>\n",
       "    <tr>\n",
       "      <th>min</th>\n",
       "      <td>173.809998</td>\n",
       "      <td>178.250000</td>\n",
       "      <td>172.000000</td>\n",
       "      <td>175.929993</td>\n",
       "      <td>175.929993</td>\n",
       "      <td>0.000000e+00</td>\n",
       "    </tr>\n",
       "    <tr>\n",
       "      <th>25%</th>\n",
       "      <td>320.359985</td>\n",
       "      <td>323.687500</td>\n",
       "      <td>315.807487</td>\n",
       "      <td>321.385010</td>\n",
       "      <td>320.510010</td>\n",
       "      <td>2.688550e+06</td>\n",
       "    </tr>\n",
       "    <tr>\n",
       "      <th>50%</th>\n",
       "      <td>717.380005</td>\n",
       "      <td>723.394989</td>\n",
       "      <td>712.629975</td>\n",
       "      <td>719.299988</td>\n",
       "      <td>719.070007</td>\n",
       "      <td>3.528700e+06</td>\n",
       "    </tr>\n",
       "    <tr>\n",
       "      <th>75%</th>\n",
       "      <td>1660.000000</td>\n",
       "      <td>1679.964966</td>\n",
       "      <td>1633.707459</td>\n",
       "      <td>1661.830017</td>\n",
       "      <td>1660.510010</td>\n",
       "      <td>4.839800e+06</td>\n",
       "    </tr>\n",
       "    <tr>\n",
       "      <th>max</th>\n",
       "      <td>3547.000000</td>\n",
       "      <td>3552.250000</td>\n",
       "      <td>3486.689941</td>\n",
       "      <td>3531.449951</td>\n",
       "      <td>3531.449951</td>\n",
       "      <td>2.385610e+07</td>\n",
       "    </tr>\n",
       "  </tbody>\n",
       "</table>\n",
       "</div>"
      ],
      "text/plain": [
       "              Open         High          Low        Close    Adj Close  \\\n",
       "count  2241.000000  2240.000000  2242.000000  2239.000000  2241.000000   \n",
       "mean    991.401419  1002.190218   979.221717   991.895355   991.190696   \n",
       "std     802.269032   811.968123   790.843600   801.664757   801.654109   \n",
       "min     173.809998   178.250000   172.000000   175.929993   175.929993   \n",
       "25%     320.359985   323.687500   315.807487   321.385010   320.510010   \n",
       "50%     717.380005   723.394989   712.629975   719.299988   719.070007   \n",
       "75%    1660.000000  1679.964966  1633.707459  1661.830017  1660.510010   \n",
       "max    3547.000000  3552.250000  3486.689941  3531.449951  3531.449951   \n",
       "\n",
       "             Volume  \n",
       "count  2.242000e+03  \n",
       "mean   4.118187e+06  \n",
       "std    2.278888e+06  \n",
       "min    0.000000e+00  \n",
       "25%    2.688550e+06  \n",
       "50%    3.528700e+06  \n",
       "75%    4.839800e+06  \n",
       "max    2.385610e+07  "
      ]
     },
     "execution_count": 5,
     "metadata": {},
     "output_type": "execute_result"
    }
   ],
   "source": [
    "data.describe()"
   ]
  },
  {
   "cell_type": "code",
   "execution_count": 6,
   "metadata": {},
   "outputs": [
    {
     "name": "stdout",
     "output_type": "stream",
     "text": [
      "<class 'pandas.core.frame.DataFrame'>\n",
      "RangeIndex: 2242 entries, 0 to 2241\n",
      "Data columns (total 9 columns):\n",
      " #   Column     Non-Null Count  Dtype  \n",
      "---  ------     --------------  -----  \n",
      " 0   Date       2242 non-null   object \n",
      " 1   Source     2242 non-null   object \n",
      " 2   Open       2241 non-null   float64\n",
      " 3   High       2240 non-null   float64\n",
      " 4   Low        2242 non-null   float64\n",
      " 5   Close      2239 non-null   float64\n",
      " 6   Adj Close  2241 non-null   float64\n",
      " 7   Volume     2242 non-null   int64  \n",
      " 8   Stock      2242 non-null   object \n",
      "dtypes: float64(5), int64(1), object(3)\n",
      "memory usage: 157.8+ KB\n"
     ]
    }
   ],
   "source": [
    "data.info()"
   ]
  },
  {
   "cell_type": "code",
   "execution_count": 7,
   "metadata": {},
   "outputs": [
    {
     "data": {
      "text/plain": [
       "<matplotlib.axes._subplots.AxesSubplot at 0x26beef98948>"
      ]
     },
     "execution_count": 7,
     "metadata": {},
     "output_type": "execute_result"
    },
    {
     "data": {
      "image/png": "[encoded data removed]",
      "text/plain": [
       "<Figure size 720x288 with 1 Axes>"
      ]
     },
     "metadata": {
      "needs_background": "light"
     },
     "output_type": "display_data"
    }
   ],
   "source": [
    "data['Adj Close'].plot(legend=True,figsize=(10,4))"
   ]
  },
  {
   "cell_type": "code",
   "execution_count": 8,
   "metadata": {},
   "outputs": [
    {
     "data": {
      "text/html": [
       "<div>\n",
       "<style scoped>\n",
       "    .dataframe tbody tr th:only-of-type {\n",
       "        vertical-align: middle;\n",
       "    }\n",
       "\n",
       "    .dataframe tbody tr th {\n",
       "        vertical-align: top;\n",
       "    }\n",
       "\n",
       "    .dataframe thead th {\n",
       "        text-align: right;\n",
       "    }\n",
       "</style>\n",
       "<table border=\"1\" class=\"dataframe\">\n",
       "  <thead>\n",
       "    <tr style=\"text-align: right;\">\n",
       "      <th></th>\n",
       "      <th>Date</th>\n",
       "      <th>Source</th>\n",
       "      <th>Open</th>\n",
       "      <th>High</th>\n",
       "      <th>Low</th>\n",
       "      <th>Close</th>\n",
       "      <th>Adj Close</th>\n",
       "      <th>Volume</th>\n",
       "      <th>Stock</th>\n",
       "    </tr>\n",
       "  </thead>\n",
       "  <tbody>\n",
       "    <tr>\n",
       "      <th>2237</th>\n",
       "      <td>11/20/2020</td>\n",
       "      <td>yahoo</td>\n",
       "      <td>3117.020020</td>\n",
       "      <td>3132.889893</td>\n",
       "      <td>3098.050049</td>\n",
       "      <td>3099.399902</td>\n",
       "      <td>3099.399902</td>\n",
       "      <td>3374400</td>\n",
       "      <td>amazon</td>\n",
       "    </tr>\n",
       "    <tr>\n",
       "      <th>2238</th>\n",
       "      <td>11/23/2020</td>\n",
       "      <td>yahoo</td>\n",
       "      <td>3116.699951</td>\n",
       "      <td>3139.750000</td>\n",
       "      <td>3065.459961</td>\n",
       "      <td>3098.389893</td>\n",
       "      <td>3098.389893</td>\n",
       "      <td>4708900</td>\n",
       "      <td>amazon</td>\n",
       "    </tr>\n",
       "    <tr>\n",
       "      <th>2239</th>\n",
       "      <td>11/24/2020</td>\n",
       "      <td>yahoo</td>\n",
       "      <td>3100.500000</td>\n",
       "      <td>3134.250000</td>\n",
       "      <td>3086.260010</td>\n",
       "      <td>3118.060059</td>\n",
       "      <td>3118.060059</td>\n",
       "      <td>3602100</td>\n",
       "      <td>amazon</td>\n",
       "    </tr>\n",
       "    <tr>\n",
       "      <th>2240</th>\n",
       "      <td>11/25/2020</td>\n",
       "      <td>yahoo</td>\n",
       "      <td>3141.870117</td>\n",
       "      <td>3198.000000</td>\n",
       "      <td>3140.260010</td>\n",
       "      <td>3185.070068</td>\n",
       "      <td>3185.070068</td>\n",
       "      <td>3790400</td>\n",
       "      <td>amazon</td>\n",
       "    </tr>\n",
       "    <tr>\n",
       "      <th>2241</th>\n",
       "      <td>11/27/2020</td>\n",
       "      <td>yahoo</td>\n",
       "      <td>3211.260010</td>\n",
       "      <td>3216.189941</td>\n",
       "      <td>3190.050049</td>\n",
       "      <td>3195.340088</td>\n",
       "      <td>3195.340088</td>\n",
       "      <td>2392900</td>\n",
       "      <td>amazon</td>\n",
       "    </tr>\n",
       "  </tbody>\n",
       "</table>\n",
       "</div>"
      ],
      "text/plain": [
       "            Date Source         Open         High          Low        Close  \\\n",
       "2237  11/20/2020  yahoo  3117.020020  3132.889893  3098.050049  3099.399902   \n",
       "2238  11/23/2020  yahoo  3116.699951  3139.750000  3065.459961  3098.389893   \n",
       "2239  11/24/2020  yahoo  3100.500000  3134.250000  3086.260010  3118.060059   \n",
       "2240  11/25/2020  yahoo  3141.870117  3198.000000  3140.260010  3185.070068   \n",
       "2241  11/27/2020  yahoo  3211.260010  3216.189941  3190.050049  3195.340088   \n",
       "\n",
       "        Adj Close   Volume   Stock  \n",
       "2237  3099.399902  3374400  amazon  \n",
       "2238  3098.389893  4708900  amazon  \n",
       "2239  3118.060059  3602100  amazon  \n",
       "2240  3185.070068  3790400  amazon  \n",
       "2241  3195.340088  2392900  amazon  "
      ]
     },
     "execution_count": 8,
     "metadata": {},
     "output_type": "execute_result"
    }
   ],
   "source": [
    "data.tail()"
   ]
  },
  {
   "cell_type": "markdown",
   "metadata": {},
   "source": [
    "#### Also, we can use pandas.api.types.is_numeric_dtype to count the number of numerical and none-numerical variables "
   ]
  },
  {
   "cell_type": "code",
   "execution_count": 9,
   "metadata": {},
   "outputs": [
    {
     "name": "stdout",
     "output_type": "stream",
     "text": [
      "numerical variables: 6 none-numerical variables: 3\n"
     ]
    }
   ],
   "source": [
    "from pandas.api.types import is_numeric_dtype\n",
    "n=0\n",
    "for c in data.columns:\n",
    "    if is_numeric_dtype(data[c]): n+=1\n",
    "\n",
    "print('numerical variables:', n, 'none-numerical variables:',len(data.columns)-n)\n"
   ]
  },
  {
   "cell_type": "code",
   "execution_count": 10,
   "metadata": {},
   "outputs": [
    {
     "data": {
      "text/plain": [
       "(2242, 9)"
      ]
     },
     "execution_count": 10,
     "metadata": {},
     "output_type": "execute_result"
    }
   ],
   "source": [
    "data.shape"
   ]
  },
  {
   "cell_type": "markdown",
   "metadata": {},
   "source": [
    "- Total number of observations: **28900**\n",
    " - Total number of variables (columns): **47**\n",
    " - The number of numerical variables: **25**\n",
    " - The number none-numerical variables: **22**"
   ]
  },
  {
   "cell_type": "markdown",
   "metadata": {},
   "source": [
    "## To find the variables having missing values and the number of rows including missing values, we use isnull and then sum as following:"
   ]
  },
  {
   "cell_type": "code",
   "execution_count": 11,
   "metadata": {},
   "outputs": [
    {
     "data": {
      "text/plain": [
       "Date         0\n",
       "Source       0\n",
       "Open         1\n",
       "High         2\n",
       "Low          0\n",
       "Close        3\n",
       "Adj Close    1\n",
       "Volume       0\n",
       "Stock        0\n",
       "dtype: int64"
      ]
     },
     "execution_count": 11,
     "metadata": {},
     "output_type": "execute_result"
    }
   ],
   "source": [
    "data.isnull().sum()"
   ]
  },
  {
   "cell_type": "markdown",
   "metadata": {},
   "source": [
    "## 2). Preparing data for analytics\n",
    "- **Handling missing values**\n",
    "- **Removing the properties that have abnormal price**\n",
    "- **Removing all columns that have a constant value**\n",
    "- **Replacing the column SALEDATE with the columns, SALEYEAR and SALEMONTH**\n",
    "- **Transform the values of sale price, PRICE, into values represented in thousands**"
   ]
  },
  {
   "cell_type": "markdown",
   "metadata": {},
   "source": [
    "### Handling missing values\n",
    "The data has only 9 records that include missing values. Therefore, we can remove them without losing  a lot of information. After removing these records, our data will include **28891** records"
   ]
  },
  {
   "cell_type": "code",
   "execution_count": 12,
   "metadata": {},
   "outputs": [],
   "source": [
    "data.dropna(inplace=True)"
   ]
  },
  {
   "cell_type": "code",
   "execution_count": 13,
   "metadata": {},
   "outputs": [
    {
     "data": {
      "text/plain": [
       "Date         0\n",
       "Source       0\n",
       "Open         0\n",
       "High         0\n",
       "Low          0\n",
       "Close        0\n",
       "Adj Close    0\n",
       "Volume       0\n",
       "Stock        0\n",
       "dtype: int64"
      ]
     },
     "execution_count": 13,
     "metadata": {},
     "output_type": "execute_result"
    }
   ],
   "source": [
    "data.isnull().sum()"
   ]
  },
  {
   "cell_type": "code",
   "execution_count": 14,
   "metadata": {},
   "outputs": [
    {
     "data": {
      "text/plain": [
       "<matplotlib.axes._subplots.AxesSubplot at 0x26bf20f5188>"
      ]
     },
     "execution_count": 14,
     "metadata": {},
     "output_type": "execute_result"
    },
    {
     "data": {
      "image/png": "[encoded data removed]",
      "text/plain": [
       "<Figure size 432x288 with 1 Axes>"
      ]
     },
     "metadata": {
      "needs_background": "light"
     },
     "output_type": "display_data"
    }
   ],
   "source": [
    "data['Volume'].plot(kind='hist',bins=50)"
   ]
  },
  {
   "cell_type": "code",
   "execution_count": 15,
   "metadata": {},
   "outputs": [
    {
     "data": {
      "text/plain": [
       "<matplotlib.axes._subplots.AxesSubplot at 0x26bf21e8488>"
      ]
     },
     "execution_count": 15,
     "metadata": {},
     "output_type": "execute_result"
    },
    {
     "data": {
      "image/png": "[encoded data removed]",
      "text/plain": [
       "<Figure size 432x288 with 1 Axes>"
      ]
     },
     "metadata": {
      "needs_background": "light"
     },
     "output_type": "display_data"
    }
   ],
   "source": [
    "data['Volume'].plot(kind='hist',bins=100)"
   ]
  },
  {
   "cell_type": "markdown",
   "metadata": {},
   "source": [
    "### Removing the properties that have abnormal price\n",
    "First, we can have a look at the distribution of the properties price. The distribution of the sale price plotted below tell us that the majority of the properties in our data have a sale price that is less than \\$1,250,000. However, it does not show us the abnnomal prices."
   ]
  },
  {
   "cell_type": "code",
   "execution_count": 16,
   "metadata": {},
   "outputs": [
    {
     "data": {
      "text/plain": [
       "0"
      ]
     },
     "execution_count": 16,
     "metadata": {},
     "output_type": "execute_result"
    }
   ],
   "source": [
    "data['Volume'].min()"
   ]
  },
  {
   "cell_type": "code",
   "execution_count": 17,
   "metadata": {},
   "outputs": [
    {
     "data": {
      "text/plain": [
       "23856100"
      ]
     },
     "execution_count": 17,
     "metadata": {},
     "output_type": "execute_result"
    }
   ],
   "source": [
    "data['Volume'].max()"
   ]
  },
  {
   "cell_type": "markdown",
   "metadata": {},
   "source": [
    "We can expect very expensive properties that because some properties are buildings with multiple units. However,  properties with very low prices deserve our attention. We remove the properties associated with exterime (price<\\$10,000):\n",
    "- Sorting the prices and display the lowest ones to see whether there are abnormal prices (very low prices)\n",
    "- Plotting the number of rooms, full bed rooms, and bath rooms for the properties costing less than \\$10,000\n",
    "- Removing these properties"
   ]
  },
  {
   "cell_type": "code",
   "execution_count": 18,
   "metadata": {},
   "outputs": [
    {
     "data": {
      "text/plain": [
       "29      0\n",
       "114     1\n",
       "18      5\n",
       "161     6\n",
       "47     23\n",
       "Name: Volume, dtype: int64"
      ]
     },
     "execution_count": 18,
     "metadata": {},
     "output_type": "execute_result"
    }
   ],
   "source": [
    "data['Volume'].sort_values(ascending=True).head(5)"
   ]
  },
  {
   "cell_type": "code",
   "execution_count": 19,
   "metadata": {},
   "outputs": [
    {
     "data": {
      "text/plain": [
       "(2228, 9)"
      ]
     },
     "execution_count": 19,
     "metadata": {},
     "output_type": "execute_result"
    }
   ],
   "source": [
    "# We remove the properties with exterime low prices (price <10,000)\n",
    "data=data[data['Volume']>100000]\n",
    "data.shape"
   ]
  },
  {
   "cell_type": "code",
   "execution_count": 20,
   "metadata": {},
   "outputs": [
    {
     "data": {
      "text/plain": [
       "2007     881300\n",
       "245      984400\n",
       "1001    1091200\n",
       "126     1331700\n",
       "879     1343400\n",
       "Name: Volume, dtype: int64"
      ]
     },
     "execution_count": 20,
     "metadata": {},
     "output_type": "execute_result"
    }
   ],
   "source": [
    "data['Volume'].sort_values(ascending=True).head(5)"
   ]
  },
  {
   "cell_type": "code",
   "execution_count": 21,
   "metadata": {},
   "outputs": [],
   "source": [
    "#data['stock'] = 'amazon'"
   ]
  },
  {
   "cell_type": "code",
   "execution_count": 22,
   "metadata": {},
   "outputs": [
    {
     "data": {
      "text/html": [
       "<div>\n",
       "<style scoped>\n",
       "    .dataframe tbody tr th:only-of-type {\n",
       "        vertical-align: middle;\n",
       "    }\n",
       "\n",
       "    .dataframe tbody tr th {\n",
       "        vertical-align: top;\n",
       "    }\n",
       "\n",
       "    .dataframe thead th {\n",
       "        text-align: right;\n",
       "    }\n",
       "</style>\n",
       "<table border=\"1\" class=\"dataframe\">\n",
       "  <thead>\n",
       "    <tr style=\"text-align: right;\">\n",
       "      <th></th>\n",
       "      <th>Date</th>\n",
       "      <th>Source</th>\n",
       "      <th>Open</th>\n",
       "      <th>High</th>\n",
       "      <th>Low</th>\n",
       "      <th>Close</th>\n",
       "      <th>Adj Close</th>\n",
       "      <th>Volume</th>\n",
       "      <th>Stock</th>\n",
       "    </tr>\n",
       "  </thead>\n",
       "  <tbody>\n",
       "    <tr>\n",
       "      <th>0</th>\n",
       "      <td>1/3/2012</td>\n",
       "      <td>yahoo</td>\n",
       "      <td>175.889999</td>\n",
       "      <td>179.479996</td>\n",
       "      <td>175.550003</td>\n",
       "      <td>179.029999</td>\n",
       "      <td>179.029999</td>\n",
       "      <td>5110800</td>\n",
       "      <td>amazon</td>\n",
       "    </tr>\n",
       "    <tr>\n",
       "      <th>1</th>\n",
       "      <td>1/4/2012</td>\n",
       "      <td>yahoo</td>\n",
       "      <td>179.210007</td>\n",
       "      <td>180.500000</td>\n",
       "      <td>176.070007</td>\n",
       "      <td>177.509995</td>\n",
       "      <td>177.509995</td>\n",
       "      <td>4205200</td>\n",
       "      <td>amazon</td>\n",
       "    </tr>\n",
       "    <tr>\n",
       "      <th>2</th>\n",
       "      <td>1/5/2012</td>\n",
       "      <td>yahoo</td>\n",
       "      <td>175.940002</td>\n",
       "      <td>178.250000</td>\n",
       "      <td>174.050003</td>\n",
       "      <td>177.610001</td>\n",
       "      <td>177.610001</td>\n",
       "      <td>3809100</td>\n",
       "      <td>amazon</td>\n",
       "    </tr>\n",
       "    <tr>\n",
       "      <th>3</th>\n",
       "      <td>1/6/2012</td>\n",
       "      <td>yahoo</td>\n",
       "      <td>178.070007</td>\n",
       "      <td>184.649994</td>\n",
       "      <td>177.500000</td>\n",
       "      <td>182.610001</td>\n",
       "      <td>182.610001</td>\n",
       "      <td>7008400</td>\n",
       "      <td>amazon</td>\n",
       "    </tr>\n",
       "    <tr>\n",
       "      <th>4</th>\n",
       "      <td>1/9/2012</td>\n",
       "      <td>yahoo</td>\n",
       "      <td>182.759995</td>\n",
       "      <td>184.369995</td>\n",
       "      <td>177.000000</td>\n",
       "      <td>178.559998</td>\n",
       "      <td>178.559998</td>\n",
       "      <td>5056900</td>\n",
       "      <td>amazon</td>\n",
       "    </tr>\n",
       "  </tbody>\n",
       "</table>\n",
       "</div>"
      ],
      "text/plain": [
       "       Date Source        Open        High         Low       Close  \\\n",
       "0  1/3/2012  yahoo  175.889999  179.479996  175.550003  179.029999   \n",
       "1  1/4/2012  yahoo  179.210007  180.500000  176.070007  177.509995   \n",
       "2  1/5/2012  yahoo  175.940002  178.250000  174.050003  177.610001   \n",
       "3  1/6/2012  yahoo  178.070007  184.649994  177.500000  182.610001   \n",
       "4  1/9/2012  yahoo  182.759995  184.369995  177.000000  178.559998   \n",
       "\n",
       "    Adj Close   Volume   Stock  \n",
       "0  179.029999  5110800  amazon  \n",
       "1  177.509995  4205200  amazon  \n",
       "2  177.610001  3809100  amazon  \n",
       "3  182.610001  7008400  amazon  \n",
       "4  178.559998  5056900  amazon  "
      ]
     },
     "execution_count": 22,
     "metadata": {},
     "output_type": "execute_result"
    }
   ],
   "source": [
    "data.head()"
   ]
  },
  {
   "cell_type": "code",
   "execution_count": 23,
   "metadata": {},
   "outputs": [],
   "source": [
    "#data.to_csv('AMZN.csv')"
   ]
  },
  {
   "cell_type": "markdown",
   "metadata": {},
   "source": [
    "### Removing all columns that have a constant value"
   ]
  },
  {
   "cell_type": "code",
   "execution_count": 24,
   "metadata": {},
   "outputs": [
    {
     "name": "stdout",
     "output_type": "stream",
     "text": [
      "Constant Columns: ['Source', 'Stock']\n",
      "(2228, 7)\n"
     ]
    }
   ],
   "source": [
    "constant_columns = []\n",
    "for c in data.columns:\n",
    "    n = len(data[c].unique())\n",
    "    if n==1:constant_columns.append(c)\n",
    "\n",
    "print('Constant Columns:', constant_columns)\n",
    "data.drop(columns= constant_columns, axis=1, inplace=True)\n",
    "print(data.shape)"
   ]
  },
  {
   "cell_type": "markdown",
   "metadata": {},
   "source": [
    "### Replacing the column Date with the columns, Year, Month, and Day\n"
   ]
  },
  {
   "cell_type": "code",
   "execution_count": 25,
   "metadata": {},
   "outputs": [
    {
     "data": {
      "text/html": [
       "<div>\n",
       "<style scoped>\n",
       "    .dataframe tbody tr th:only-of-type {\n",
       "        vertical-align: middle;\n",
       "    }\n",
       "\n",
       "    .dataframe tbody tr th {\n",
       "        vertical-align: top;\n",
       "    }\n",
       "\n",
       "    .dataframe thead th {\n",
       "        text-align: right;\n",
       "    }\n",
       "</style>\n",
       "<table border=\"1\" class=\"dataframe\">\n",
       "  <thead>\n",
       "    <tr style=\"text-align: right;\">\n",
       "      <th></th>\n",
       "      <th>Date</th>\n",
       "      <th>Year</th>\n",
       "      <th>Month</th>\n",
       "      <th>Day</th>\n",
       "    </tr>\n",
       "  </thead>\n",
       "  <tbody>\n",
       "    <tr>\n",
       "      <th>0</th>\n",
       "      <td>1/3/2012</td>\n",
       "      <td>2012</td>\n",
       "      <td>1</td>\n",
       "      <td>3</td>\n",
       "    </tr>\n",
       "    <tr>\n",
       "      <th>1</th>\n",
       "      <td>1/4/2012</td>\n",
       "      <td>2012</td>\n",
       "      <td>1</td>\n",
       "      <td>4</td>\n",
       "    </tr>\n",
       "    <tr>\n",
       "      <th>2</th>\n",
       "      <td>1/5/2012</td>\n",
       "      <td>2012</td>\n",
       "      <td>1</td>\n",
       "      <td>5</td>\n",
       "    </tr>\n",
       "    <tr>\n",
       "      <th>3</th>\n",
       "      <td>1/6/2012</td>\n",
       "      <td>2012</td>\n",
       "      <td>1</td>\n",
       "      <td>6</td>\n",
       "    </tr>\n",
       "    <tr>\n",
       "      <th>4</th>\n",
       "      <td>1/9/2012</td>\n",
       "      <td>2012</td>\n",
       "      <td>1</td>\n",
       "      <td>9</td>\n",
       "    </tr>\n",
       "  </tbody>\n",
       "</table>\n",
       "</div>"
      ],
      "text/plain": [
       "       Date  Year  Month  Day\n",
       "0  1/3/2012  2012      1    3\n",
       "1  1/4/2012  2012      1    4\n",
       "2  1/5/2012  2012      1    5\n",
       "3  1/6/2012  2012      1    6\n",
       "4  1/9/2012  2012      1    9"
      ]
     },
     "execution_count": 25,
     "metadata": {},
     "output_type": "execute_result"
    }
   ],
   "source": [
    "dateObject = pd.DatetimeIndex(data['Date'])\n",
    "data['Year'] = dateObject.year\n",
    "data['Month'] = dateObject.month\n",
    "data['Day'] = dateObject.day\n",
    "data[['Date', 'Year', 'Month', 'Day']].head()    "
   ]
  },
  {
   "cell_type": "code",
   "execution_count": 26,
   "metadata": {},
   "outputs": [
    {
     "data": {
      "text/html": [
       "<div>\n",
       "<style scoped>\n",
       "    .dataframe tbody tr th:only-of-type {\n",
       "        vertical-align: middle;\n",
       "    }\n",
       "\n",
       "    .dataframe tbody tr th {\n",
       "        vertical-align: top;\n",
       "    }\n",
       "\n",
       "    .dataframe thead th {\n",
       "        text-align: right;\n",
       "    }\n",
       "</style>\n",
       "<table border=\"1\" class=\"dataframe\">\n",
       "  <thead>\n",
       "    <tr style=\"text-align: right;\">\n",
       "      <th></th>\n",
       "      <th>Date</th>\n",
       "      <th>Open</th>\n",
       "      <th>High</th>\n",
       "      <th>Low</th>\n",
       "      <th>Close</th>\n",
       "      <th>Adj Close</th>\n",
       "      <th>Volume</th>\n",
       "      <th>Year</th>\n",
       "      <th>Month</th>\n",
       "      <th>Day</th>\n",
       "    </tr>\n",
       "  </thead>\n",
       "  <tbody>\n",
       "    <tr>\n",
       "      <th>0</th>\n",
       "      <td>1/3/2012</td>\n",
       "      <td>175.889999</td>\n",
       "      <td>179.479996</td>\n",
       "      <td>175.550003</td>\n",
       "      <td>179.029999</td>\n",
       "      <td>179.029999</td>\n",
       "      <td>5110800</td>\n",
       "      <td>2012</td>\n",
       "      <td>1</td>\n",
       "      <td>3</td>\n",
       "    </tr>\n",
       "    <tr>\n",
       "      <th>1</th>\n",
       "      <td>1/4/2012</td>\n",
       "      <td>179.210007</td>\n",
       "      <td>180.500000</td>\n",
       "      <td>176.070007</td>\n",
       "      <td>177.509995</td>\n",
       "      <td>177.509995</td>\n",
       "      <td>4205200</td>\n",
       "      <td>2012</td>\n",
       "      <td>1</td>\n",
       "      <td>4</td>\n",
       "    </tr>\n",
       "    <tr>\n",
       "      <th>2</th>\n",
       "      <td>1/5/2012</td>\n",
       "      <td>175.940002</td>\n",
       "      <td>178.250000</td>\n",
       "      <td>174.050003</td>\n",
       "      <td>177.610001</td>\n",
       "      <td>177.610001</td>\n",
       "      <td>3809100</td>\n",
       "      <td>2012</td>\n",
       "      <td>1</td>\n",
       "      <td>5</td>\n",
       "    </tr>\n",
       "    <tr>\n",
       "      <th>3</th>\n",
       "      <td>1/6/2012</td>\n",
       "      <td>178.070007</td>\n",
       "      <td>184.649994</td>\n",
       "      <td>177.500000</td>\n",
       "      <td>182.610001</td>\n",
       "      <td>182.610001</td>\n",
       "      <td>7008400</td>\n",
       "      <td>2012</td>\n",
       "      <td>1</td>\n",
       "      <td>6</td>\n",
       "    </tr>\n",
       "    <tr>\n",
       "      <th>4</th>\n",
       "      <td>1/9/2012</td>\n",
       "      <td>182.759995</td>\n",
       "      <td>184.369995</td>\n",
       "      <td>177.000000</td>\n",
       "      <td>178.559998</td>\n",
       "      <td>178.559998</td>\n",
       "      <td>5056900</td>\n",
       "      <td>2012</td>\n",
       "      <td>1</td>\n",
       "      <td>9</td>\n",
       "    </tr>\n",
       "    <tr>\n",
       "      <th>5</th>\n",
       "      <td>1/10/2012</td>\n",
       "      <td>181.100006</td>\n",
       "      <td>182.399994</td>\n",
       "      <td>177.100006</td>\n",
       "      <td>179.339996</td>\n",
       "      <td>179.339996</td>\n",
       "      <td>3985800</td>\n",
       "      <td>2012</td>\n",
       "      <td>1</td>\n",
       "      <td>10</td>\n",
       "    </tr>\n",
       "    <tr>\n",
       "      <th>6</th>\n",
       "      <td>1/11/2012</td>\n",
       "      <td>179.639999</td>\n",
       "      <td>180.770004</td>\n",
       "      <td>178.190002</td>\n",
       "      <td>178.899994</td>\n",
       "      <td>178.899994</td>\n",
       "      <td>3102700</td>\n",
       "      <td>2012</td>\n",
       "      <td>1</td>\n",
       "      <td>11</td>\n",
       "    </tr>\n",
       "    <tr>\n",
       "      <th>7</th>\n",
       "      <td>1/12/2012</td>\n",
       "      <td>179.419998</td>\n",
       "      <td>179.490005</td>\n",
       "      <td>175.750000</td>\n",
       "      <td>175.929993</td>\n",
       "      <td>175.929993</td>\n",
       "      <td>5385800</td>\n",
       "      <td>2012</td>\n",
       "      <td>1</td>\n",
       "      <td>12</td>\n",
       "    </tr>\n",
       "    <tr>\n",
       "      <th>8</th>\n",
       "      <td>1/13/2012</td>\n",
       "      <td>175.809998</td>\n",
       "      <td>178.800003</td>\n",
       "      <td>173.500000</td>\n",
       "      <td>178.419998</td>\n",
       "      <td>178.419998</td>\n",
       "      <td>4753500</td>\n",
       "      <td>2012</td>\n",
       "      <td>1</td>\n",
       "      <td>13</td>\n",
       "    </tr>\n",
       "    <tr>\n",
       "      <th>9</th>\n",
       "      <td>1/17/2012</td>\n",
       "      <td>180.149994</td>\n",
       "      <td>183.300003</td>\n",
       "      <td>178.509995</td>\n",
       "      <td>181.660004</td>\n",
       "      <td>181.660004</td>\n",
       "      <td>5644500</td>\n",
       "      <td>2012</td>\n",
       "      <td>1</td>\n",
       "      <td>17</td>\n",
       "    </tr>\n",
       "    <tr>\n",
       "      <th>10</th>\n",
       "      <td>1/18/2012</td>\n",
       "      <td>181.940002</td>\n",
       "      <td>190.250000</td>\n",
       "      <td>181.119995</td>\n",
       "      <td>189.440002</td>\n",
       "      <td>189.440002</td>\n",
       "      <td>7473500</td>\n",
       "      <td>2012</td>\n",
       "      <td>1</td>\n",
       "      <td>18</td>\n",
       "    </tr>\n",
       "    <tr>\n",
       "      <th>11</th>\n",
       "      <td>1/19/2012</td>\n",
       "      <td>190.880005</td>\n",
       "      <td>195.940002</td>\n",
       "      <td>190.360001</td>\n",
       "      <td>194.449997</td>\n",
       "      <td>194.449997</td>\n",
       "      <td>7096000</td>\n",
       "      <td>2012</td>\n",
       "      <td>1</td>\n",
       "      <td>19</td>\n",
       "    </tr>\n",
       "    <tr>\n",
       "      <th>12</th>\n",
       "      <td>1/20/2012</td>\n",
       "      <td>190.710007</td>\n",
       "      <td>192.899994</td>\n",
       "      <td>189.039993</td>\n",
       "      <td>190.929993</td>\n",
       "      <td>190.929993</td>\n",
       "      <td>5610300</td>\n",
       "      <td>2012</td>\n",
       "      <td>1</td>\n",
       "      <td>20</td>\n",
       "    </tr>\n",
       "    <tr>\n",
       "      <th>13</th>\n",
       "      <td>1/23/2012</td>\n",
       "      <td>190.789993</td>\n",
       "      <td>191.729996</td>\n",
       "      <td>185.229996</td>\n",
       "      <td>186.089996</td>\n",
       "      <td>186.089996</td>\n",
       "      <td>4585300</td>\n",
       "      <td>2012</td>\n",
       "      <td>1</td>\n",
       "      <td>23</td>\n",
       "    </tr>\n",
       "    <tr>\n",
       "      <th>15</th>\n",
       "      <td>1/25/2012</td>\n",
       "      <td>186.990005</td>\n",
       "      <td>188.169998</td>\n",
       "      <td>184.610001</td>\n",
       "      <td>187.800003</td>\n",
       "      <td>187.800003</td>\n",
       "      <td>4306400</td>\n",
       "      <td>2012</td>\n",
       "      <td>1</td>\n",
       "      <td>25</td>\n",
       "    </tr>\n",
       "    <tr>\n",
       "      <th>16</th>\n",
       "      <td>1/26/2012</td>\n",
       "      <td>189.300003</td>\n",
       "      <td>194.850006</td>\n",
       "      <td>188.729996</td>\n",
       "      <td>193.320007</td>\n",
       "      <td>193.320007</td>\n",
       "      <td>5873600</td>\n",
       "      <td>2012</td>\n",
       "      <td>1</td>\n",
       "      <td>26</td>\n",
       "    </tr>\n",
       "    <tr>\n",
       "      <th>17</th>\n",
       "      <td>1/27/2012</td>\n",
       "      <td>193.089996</td>\n",
       "      <td>196.500000</td>\n",
       "      <td>192.330002</td>\n",
       "      <td>195.369995</td>\n",
       "      <td>195.369995</td>\n",
       "      <td>4659000</td>\n",
       "      <td>2012</td>\n",
       "      <td>1</td>\n",
       "      <td>27</td>\n",
       "    </tr>\n",
       "    <tr>\n",
       "      <th>19</th>\n",
       "      <td>1/31/2012</td>\n",
       "      <td>194.000000</td>\n",
       "      <td>195.630005</td>\n",
       "      <td>189.699997</td>\n",
       "      <td>194.440002</td>\n",
       "      <td>194.440002</td>\n",
       "      <td>12772200</td>\n",
       "      <td>2012</td>\n",
       "      <td>1</td>\n",
       "      <td>31</td>\n",
       "    </tr>\n",
       "    <tr>\n",
       "      <th>20</th>\n",
       "      <td>2/1/2012</td>\n",
       "      <td>173.809998</td>\n",
       "      <td>179.949997</td>\n",
       "      <td>172.000000</td>\n",
       "      <td>179.460007</td>\n",
       "      <td>179.460007</td>\n",
       "      <td>21336600</td>\n",
       "      <td>2012</td>\n",
       "      <td>2</td>\n",
       "      <td>1</td>\n",
       "    </tr>\n",
       "    <tr>\n",
       "      <th>21</th>\n",
       "      <td>2/2/2012</td>\n",
       "      <td>179.649994</td>\n",
       "      <td>181.940002</td>\n",
       "      <td>176.800003</td>\n",
       "      <td>181.720001</td>\n",
       "      <td>181.720001</td>\n",
       "      <td>8736300</td>\n",
       "      <td>2012</td>\n",
       "      <td>2</td>\n",
       "      <td>2</td>\n",
       "    </tr>\n",
       "    <tr>\n",
       "      <th>23</th>\n",
       "      <td>2/6/2012</td>\n",
       "      <td>186.279999</td>\n",
       "      <td>186.559998</td>\n",
       "      <td>182.919998</td>\n",
       "      <td>183.139999</td>\n",
       "      <td>183.139999</td>\n",
       "      <td>5310000</td>\n",
       "      <td>2012</td>\n",
       "      <td>2</td>\n",
       "      <td>6</td>\n",
       "    </tr>\n",
       "    <tr>\n",
       "      <th>24</th>\n",
       "      <td>2/7/2012</td>\n",
       "      <td>182.649994</td>\n",
       "      <td>184.940002</td>\n",
       "      <td>182.059998</td>\n",
       "      <td>184.190002</td>\n",
       "      <td>184.190002</td>\n",
       "      <td>5103900</td>\n",
       "      <td>2012</td>\n",
       "      <td>2</td>\n",
       "      <td>7</td>\n",
       "    </tr>\n",
       "    <tr>\n",
       "      <th>25</th>\n",
       "      <td>2/8/2012</td>\n",
       "      <td>184.949997</td>\n",
       "      <td>186.490005</td>\n",
       "      <td>182.910004</td>\n",
       "      <td>185.479996</td>\n",
       "      <td>185.479996</td>\n",
       "      <td>5476600</td>\n",
       "      <td>2012</td>\n",
       "      <td>2</td>\n",
       "      <td>8</td>\n",
       "    </tr>\n",
       "    <tr>\n",
       "      <th>26</th>\n",
       "      <td>2/9/2012</td>\n",
       "      <td>184.500000</td>\n",
       "      <td>185.690002</td>\n",
       "      <td>181.759995</td>\n",
       "      <td>184.979996</td>\n",
       "      <td>184.979996</td>\n",
       "      <td>7189200</td>\n",
       "      <td>2012</td>\n",
       "      <td>2</td>\n",
       "      <td>9</td>\n",
       "    </tr>\n",
       "    <tr>\n",
       "      <th>27</th>\n",
       "      <td>2/10/2012</td>\n",
       "      <td>183.419998</td>\n",
       "      <td>187.630005</td>\n",
       "      <td>182.520004</td>\n",
       "      <td>185.539993</td>\n",
       "      <td>185.539993</td>\n",
       "      <td>5797100</td>\n",
       "      <td>2012</td>\n",
       "      <td>2</td>\n",
       "      <td>10</td>\n",
       "    </tr>\n",
       "    <tr>\n",
       "      <th>28</th>\n",
       "      <td>2/13/2012</td>\n",
       "      <td>187.169998</td>\n",
       "      <td>192.500000</td>\n",
       "      <td>185.679993</td>\n",
       "      <td>191.589996</td>\n",
       "      <td>191.589996</td>\n",
       "      <td>6071400</td>\n",
       "      <td>2012</td>\n",
       "      <td>2</td>\n",
       "      <td>13</td>\n",
       "    </tr>\n",
       "    <tr>\n",
       "      <th>30</th>\n",
       "      <td>2/15/2012</td>\n",
       "      <td>191.289993</td>\n",
       "      <td>191.539993</td>\n",
       "      <td>183.259995</td>\n",
       "      <td>184.470001</td>\n",
       "      <td>184.470001</td>\n",
       "      <td>7794400</td>\n",
       "      <td>2012</td>\n",
       "      <td>2</td>\n",
       "      <td>15</td>\n",
       "    </tr>\n",
       "    <tr>\n",
       "      <th>32</th>\n",
       "      <td>2/17/2012</td>\n",
       "      <td>180.089996</td>\n",
       "      <td>183.410004</td>\n",
       "      <td>179.360001</td>\n",
       "      <td>182.500000</td>\n",
       "      <td>182.500000</td>\n",
       "      <td>7418100</td>\n",
       "      <td>2012</td>\n",
       "      <td>2</td>\n",
       "      <td>17</td>\n",
       "    </tr>\n",
       "    <tr>\n",
       "      <th>33</th>\n",
       "      <td>2/21/2012</td>\n",
       "      <td>182.649994</td>\n",
       "      <td>184.750000</td>\n",
       "      <td>180.580002</td>\n",
       "      <td>182.259995</td>\n",
       "      <td>182.259995</td>\n",
       "      <td>6756500</td>\n",
       "      <td>2012</td>\n",
       "      <td>2</td>\n",
       "      <td>21</td>\n",
       "    </tr>\n",
       "    <tr>\n",
       "      <th>34</th>\n",
       "      <td>2/22/2012</td>\n",
       "      <td>181.949997</td>\n",
       "      <td>182.990005</td>\n",
       "      <td>180.289993</td>\n",
       "      <td>180.580002</td>\n",
       "      <td>180.580002</td>\n",
       "      <td>5785400</td>\n",
       "      <td>2012</td>\n",
       "      <td>2</td>\n",
       "      <td>22</td>\n",
       "    </tr>\n",
       "    <tr>\n",
       "      <th>35</th>\n",
       "      <td>2/23/2012</td>\n",
       "      <td>179.639999</td>\n",
       "      <td>180.750000</td>\n",
       "      <td>176.960007</td>\n",
       "      <td>178.889999</td>\n",
       "      <td>178.889999</td>\n",
       "      <td>5153800</td>\n",
       "      <td>2012</td>\n",
       "      <td>2</td>\n",
       "      <td>23</td>\n",
       "    </tr>\n",
       "    <tr>\n",
       "      <th>36</th>\n",
       "      <td>2/24/2012</td>\n",
       "      <td>179.699997</td>\n",
       "      <td>180.740005</td>\n",
       "      <td>178.369995</td>\n",
       "      <td>179.130005</td>\n",
       "      <td>179.130005</td>\n",
       "      <td>3668700</td>\n",
       "      <td>2012</td>\n",
       "      <td>2</td>\n",
       "      <td>24</td>\n",
       "    </tr>\n",
       "    <tr>\n",
       "      <th>37</th>\n",
       "      <td>2/27/2012</td>\n",
       "      <td>177.539993</td>\n",
       "      <td>179.190002</td>\n",
       "      <td>176.500000</td>\n",
       "      <td>178.529999</td>\n",
       "      <td>178.529999</td>\n",
       "      <td>3706200</td>\n",
       "      <td>2012</td>\n",
       "      <td>2</td>\n",
       "      <td>27</td>\n",
       "    </tr>\n",
       "    <tr>\n",
       "      <th>38</th>\n",
       "      <td>2/28/2012</td>\n",
       "      <td>178.899994</td>\n",
       "      <td>184.289993</td>\n",
       "      <td>177.949997</td>\n",
       "      <td>183.800003</td>\n",
       "      <td>183.800003</td>\n",
       "      <td>5764500</td>\n",
       "      <td>2012</td>\n",
       "      <td>2</td>\n",
       "      <td>28</td>\n",
       "    </tr>\n",
       "    <tr>\n",
       "      <th>39</th>\n",
       "      <td>2/29/2012</td>\n",
       "      <td>183.889999</td>\n",
       "      <td>184.000000</td>\n",
       "      <td>179.009995</td>\n",
       "      <td>179.690002</td>\n",
       "      <td>179.690002</td>\n",
       "      <td>5300300</td>\n",
       "      <td>2012</td>\n",
       "      <td>2</td>\n",
       "      <td>29</td>\n",
       "    </tr>\n",
       "    <tr>\n",
       "      <th>40</th>\n",
       "      <td>3/1/2012</td>\n",
       "      <td>179.889999</td>\n",
       "      <td>180.490005</td>\n",
       "      <td>176.580002</td>\n",
       "      <td>180.039993</td>\n",
       "      <td>180.039993</td>\n",
       "      <td>4936000</td>\n",
       "      <td>2012</td>\n",
       "      <td>3</td>\n",
       "      <td>1</td>\n",
       "    </tr>\n",
       "    <tr>\n",
       "      <th>41</th>\n",
       "      <td>3/2/2012</td>\n",
       "      <td>179.479996</td>\n",
       "      <td>181.839996</td>\n",
       "      <td>178.919998</td>\n",
       "      <td>179.300003</td>\n",
       "      <td>179.300003</td>\n",
       "      <td>3657800</td>\n",
       "      <td>2012</td>\n",
       "      <td>3</td>\n",
       "      <td>2</td>\n",
       "    </tr>\n",
       "    <tr>\n",
       "      <th>42</th>\n",
       "      <td>3/5/2012</td>\n",
       "      <td>179.000000</td>\n",
       "      <td>181.820007</td>\n",
       "      <td>178.179993</td>\n",
       "      <td>180.259995</td>\n",
       "      <td>180.259995</td>\n",
       "      <td>4682700</td>\n",
       "      <td>2012</td>\n",
       "      <td>3</td>\n",
       "      <td>5</td>\n",
       "    </tr>\n",
       "    <tr>\n",
       "      <th>44</th>\n",
       "      <td>3/7/2012</td>\n",
       "      <td>182.649994</td>\n",
       "      <td>185.500000</td>\n",
       "      <td>182.399994</td>\n",
       "      <td>183.770004</td>\n",
       "      <td>183.770004</td>\n",
       "      <td>4951500</td>\n",
       "      <td>2012</td>\n",
       "      <td>3</td>\n",
       "      <td>7</td>\n",
       "    </tr>\n",
       "    <tr>\n",
       "      <th>45</th>\n",
       "      <td>3/8/2012</td>\n",
       "      <td>184.169998</td>\n",
       "      <td>188.380005</td>\n",
       "      <td>183.800003</td>\n",
       "      <td>187.639999</td>\n",
       "      <td>187.639999</td>\n",
       "      <td>4221500</td>\n",
       "      <td>2012</td>\n",
       "      <td>3</td>\n",
       "      <td>8</td>\n",
       "    </tr>\n",
       "    <tr>\n",
       "      <th>46</th>\n",
       "      <td>3/9/2012</td>\n",
       "      <td>186.789993</td>\n",
       "      <td>187.199997</td>\n",
       "      <td>183.440002</td>\n",
       "      <td>184.320007</td>\n",
       "      <td>184.320007</td>\n",
       "      <td>4510600</td>\n",
       "      <td>2012</td>\n",
       "      <td>3</td>\n",
       "      <td>9</td>\n",
       "    </tr>\n",
       "    <tr>\n",
       "      <th>48</th>\n",
       "      <td>3/13/2012</td>\n",
       "      <td>183.919998</td>\n",
       "      <td>184.869995</td>\n",
       "      <td>180.770004</td>\n",
       "      <td>184.589996</td>\n",
       "      <td>184.589996</td>\n",
       "      <td>4405800</td>\n",
       "      <td>2012</td>\n",
       "      <td>3</td>\n",
       "      <td>13</td>\n",
       "    </tr>\n",
       "    <tr>\n",
       "      <th>49</th>\n",
       "      <td>3/14/2012</td>\n",
       "      <td>183.649994</td>\n",
       "      <td>184.320007</td>\n",
       "      <td>181.139999</td>\n",
       "      <td>182.259995</td>\n",
       "      <td>182.259995</td>\n",
       "      <td>3699700</td>\n",
       "      <td>2012</td>\n",
       "      <td>3</td>\n",
       "      <td>14</td>\n",
       "    </tr>\n",
       "    <tr>\n",
       "      <th>50</th>\n",
       "      <td>3/15/2012</td>\n",
       "      <td>182.020004</td>\n",
       "      <td>184.429993</td>\n",
       "      <td>180.300003</td>\n",
       "      <td>184.429993</td>\n",
       "      <td>184.429993</td>\n",
       "      <td>4160100</td>\n",
       "      <td>2012</td>\n",
       "      <td>3</td>\n",
       "      <td>15</td>\n",
       "    </tr>\n",
       "    <tr>\n",
       "      <th>51</th>\n",
       "      <td>3/16/2012</td>\n",
       "      <td>183.279999</td>\n",
       "      <td>185.679993</td>\n",
       "      <td>182.350006</td>\n",
       "      <td>185.050003</td>\n",
       "      <td>185.050003</td>\n",
       "      <td>4934000</td>\n",
       "      <td>2012</td>\n",
       "      <td>3</td>\n",
       "      <td>16</td>\n",
       "    </tr>\n",
       "    <tr>\n",
       "      <th>52</th>\n",
       "      <td>3/19/2012</td>\n",
       "      <td>183.449997</td>\n",
       "      <td>186.679993</td>\n",
       "      <td>183.000000</td>\n",
       "      <td>185.520004</td>\n",
       "      <td>185.520004</td>\n",
       "      <td>3903400</td>\n",
       "      <td>2012</td>\n",
       "      <td>3</td>\n",
       "      <td>19</td>\n",
       "    </tr>\n",
       "    <tr>\n",
       "      <th>53</th>\n",
       "      <td>3/20/2012</td>\n",
       "      <td>184.880005</td>\n",
       "      <td>194.410004</td>\n",
       "      <td>182.880005</td>\n",
       "      <td>192.330002</td>\n",
       "      <td>192.330002</td>\n",
       "      <td>9165400</td>\n",
       "      <td>2012</td>\n",
       "      <td>3</td>\n",
       "      <td>20</td>\n",
       "    </tr>\n",
       "    <tr>\n",
       "      <th>55</th>\n",
       "      <td>3/22/2012</td>\n",
       "      <td>190.539993</td>\n",
       "      <td>194.059998</td>\n",
       "      <td>190.259995</td>\n",
       "      <td>192.399994</td>\n",
       "      <td>192.399994</td>\n",
       "      <td>3739600</td>\n",
       "      <td>2012</td>\n",
       "      <td>3</td>\n",
       "      <td>22</td>\n",
       "    </tr>\n",
       "    <tr>\n",
       "      <th>56</th>\n",
       "      <td>3/23/2012</td>\n",
       "      <td>192.009995</td>\n",
       "      <td>196.199997</td>\n",
       "      <td>191.800003</td>\n",
       "      <td>195.039993</td>\n",
       "      <td>195.039993</td>\n",
       "      <td>5984000</td>\n",
       "      <td>2012</td>\n",
       "      <td>3</td>\n",
       "      <td>23</td>\n",
       "    </tr>\n",
       "    <tr>\n",
       "      <th>57</th>\n",
       "      <td>3/26/2012</td>\n",
       "      <td>196.479996</td>\n",
       "      <td>202.970001</td>\n",
       "      <td>195.500000</td>\n",
       "      <td>202.869995</td>\n",
       "      <td>202.869995</td>\n",
       "      <td>7613700</td>\n",
       "      <td>2012</td>\n",
       "      <td>3</td>\n",
       "      <td>26</td>\n",
       "    </tr>\n",
       "  </tbody>\n",
       "</table>\n",
       "</div>"
      ],
      "text/plain": [
       "         Date        Open        High         Low       Close   Adj Close  \\\n",
       "0    1/3/2012  175.889999  179.479996  175.550003  179.029999  179.029999   \n",
       "1    1/4/2012  179.210007  180.500000  176.070007  177.509995  177.509995   \n",
       "2    1/5/2012  175.940002  178.250000  174.050003  177.610001  177.610001   \n",
       "3    1/6/2012  178.070007  184.649994  177.500000  182.610001  182.610001   \n",
       "4    1/9/2012  182.759995  184.369995  177.000000  178.559998  178.559998   \n",
       "5   1/10/2012  181.100006  182.399994  177.100006  179.339996  179.339996   \n",
       "6   1/11/2012  179.639999  180.770004  178.190002  178.899994  178.899994   \n",
       "7   1/12/2012  179.419998  179.490005  175.750000  175.929993  175.929993   \n",
       "8   1/13/2012  175.809998  178.800003  173.500000  178.419998  178.419998   \n",
       "9   1/17/2012  180.149994  183.300003  178.509995  181.660004  181.660004   \n",
       "10  1/18/2012  181.940002  190.250000  181.119995  189.440002  189.440002   \n",
       "11  1/19/2012  190.880005  195.940002  190.360001  194.449997  194.449997   \n",
       "12  1/20/2012  190.710007  192.899994  189.039993  190.929993  190.929993   \n",
       "13  1/23/2012  190.789993  191.729996  185.229996  186.089996  186.089996   \n",
       "15  1/25/2012  186.990005  188.169998  184.610001  187.800003  187.800003   \n",
       "16  1/26/2012  189.300003  194.850006  188.729996  193.320007  193.320007   \n",
       "17  1/27/2012  193.089996  196.500000  192.330002  195.369995  195.369995   \n",
       "19  1/31/2012  194.000000  195.630005  189.699997  194.440002  194.440002   \n",
       "20   2/1/2012  173.809998  179.949997  172.000000  179.460007  179.460007   \n",
       "21   2/2/2012  179.649994  181.940002  176.800003  181.720001  181.720001   \n",
       "23   2/6/2012  186.279999  186.559998  182.919998  183.139999  183.139999   \n",
       "24   2/7/2012  182.649994  184.940002  182.059998  184.190002  184.190002   \n",
       "25   2/8/2012  184.949997  186.490005  182.910004  185.479996  185.479996   \n",
       "26   2/9/2012  184.500000  185.690002  181.759995  184.979996  184.979996   \n",
       "27  2/10/2012  183.419998  187.630005  182.520004  185.539993  185.539993   \n",
       "28  2/13/2012  187.169998  192.500000  185.679993  191.589996  191.589996   \n",
       "30  2/15/2012  191.289993  191.539993  183.259995  184.470001  184.470001   \n",
       "32  2/17/2012  180.089996  183.410004  179.360001  182.500000  182.500000   \n",
       "33  2/21/2012  182.649994  184.750000  180.580002  182.259995  182.259995   \n",
       "34  2/22/2012  181.949997  182.990005  180.289993  180.580002  180.580002   \n",
       "35  2/23/2012  179.639999  180.750000  176.960007  178.889999  178.889999   \n",
       "36  2/24/2012  179.699997  180.740005  178.369995  179.130005  179.130005   \n",
       "37  2/27/2012  177.539993  179.190002  176.500000  178.529999  178.529999   \n",
       "38  2/28/2012  178.899994  184.289993  177.949997  183.800003  183.800003   \n",
       "39  2/29/2012  183.889999  184.000000  179.009995  179.690002  179.690002   \n",
       "40   3/1/2012  179.889999  180.490005  176.580002  180.039993  180.039993   \n",
       "41   3/2/2012  179.479996  181.839996  178.919998  179.300003  179.300003   \n",
       "42   3/5/2012  179.000000  181.820007  178.179993  180.259995  180.259995   \n",
       "44   3/7/2012  182.649994  185.500000  182.399994  183.770004  183.770004   \n",
       "45   3/8/2012  184.169998  188.380005  183.800003  187.639999  187.639999   \n",
       "46   3/9/2012  186.789993  187.199997  183.440002  184.320007  184.320007   \n",
       "48  3/13/2012  183.919998  184.869995  180.770004  184.589996  184.589996   \n",
       "49  3/14/2012  183.649994  184.320007  181.139999  182.259995  182.259995   \n",
       "50  3/15/2012  182.020004  184.429993  180.300003  184.429993  184.429993   \n",
       "51  3/16/2012  183.279999  185.679993  182.350006  185.050003  185.050003   \n",
       "52  3/19/2012  183.449997  186.679993  183.000000  185.520004  185.520004   \n",
       "53  3/20/2012  184.880005  194.410004  182.880005  192.330002  192.330002   \n",
       "55  3/22/2012  190.539993  194.059998  190.259995  192.399994  192.399994   \n",
       "56  3/23/2012  192.009995  196.199997  191.800003  195.039993  195.039993   \n",
       "57  3/26/2012  196.479996  202.970001  195.500000  202.869995  202.869995   \n",
       "\n",
       "      Volume  Year  Month  Day  \n",
       "0    5110800  2012      1    3  \n",
       "1    4205200  2012      1    4  \n",
       "2    3809100  2012      1    5  \n",
       "3    7008400  2012      1    6  \n",
       "4    5056900  2012      1    9  \n",
       "5    3985800  2012      1   10  \n",
       "6    3102700  2012      1   11  \n",
       "7    5385800  2012      1   12  \n",
       "8    4753500  2012      1   13  \n",
       "9    5644500  2012      1   17  \n",
       "10   7473500  2012      1   18  \n",
       "11   7096000  2012      1   19  \n",
       "12   5610300  2012      1   20  \n",
       "13   4585300  2012      1   23  \n",
       "15   4306400  2012      1   25  \n",
       "16   5873600  2012      1   26  \n",
       "17   4659000  2012      1   27  \n",
       "19  12772200  2012      1   31  \n",
       "20  21336600  2012      2    1  \n",
       "21   8736300  2012      2    2  \n",
       "23   5310000  2012      2    6  \n",
       "24   5103900  2012      2    7  \n",
       "25   5476600  2012      2    8  \n",
       "26   7189200  2012      2    9  \n",
       "27   5797100  2012      2   10  \n",
       "28   6071400  2012      2   13  \n",
       "30   7794400  2012      2   15  \n",
       "32   7418100  2012      2   17  \n",
       "33   6756500  2012      2   21  \n",
       "34   5785400  2012      2   22  \n",
       "35   5153800  2012      2   23  \n",
       "36   3668700  2012      2   24  \n",
       "37   3706200  2012      2   27  \n",
       "38   5764500  2012      2   28  \n",
       "39   5300300  2012      2   29  \n",
       "40   4936000  2012      3    1  \n",
       "41   3657800  2012      3    2  \n",
       "42   4682700  2012      3    5  \n",
       "44   4951500  2012      3    7  \n",
       "45   4221500  2012      3    8  \n",
       "46   4510600  2012      3    9  \n",
       "48   4405800  2012      3   13  \n",
       "49   3699700  2012      3   14  \n",
       "50   4160100  2012      3   15  \n",
       "51   4934000  2012      3   16  \n",
       "52   3903400  2012      3   19  \n",
       "53   9165400  2012      3   20  \n",
       "55   3739600  2012      3   22  \n",
       "56   5984000  2012      3   23  \n",
       "57   7613700  2012      3   26  "
      ]
     },
     "execution_count": 26,
     "metadata": {},
     "output_type": "execute_result"
    }
   ],
   "source": [
    "data.head(50)"
   ]
  },
  {
   "cell_type": "code",
   "execution_count": 27,
   "metadata": {},
   "outputs": [],
   "source": [
    "# iqnore\n",
    "#data.drop(columns=['SALEDATE'], axis=1, inplace=True)\n",
    "#data.shape"
   ]
  },
  {
   "cell_type": "markdown",
   "metadata": {},
   "source": [
    "### Transform the values of sale price, PRICE, into values represented in thousands"
   ]
  },
  {
   "cell_type": "code",
   "execution_count": 28,
   "metadata": {},
   "outputs": [],
   "source": [
    "data[['Volume']]=data[['Volume']]/1000"
   ]
  },
  {
   "cell_type": "code",
   "execution_count": 29,
   "metadata": {},
   "outputs": [
    {
     "data": {
      "text/html": [
       "<div>\n",
       "<style scoped>\n",
       "    .dataframe tbody tr th:only-of-type {\n",
       "        vertical-align: middle;\n",
       "    }\n",
       "\n",
       "    .dataframe tbody tr th {\n",
       "        vertical-align: top;\n",
       "    }\n",
       "\n",
       "    .dataframe thead th {\n",
       "        text-align: right;\n",
       "    }\n",
       "</style>\n",
       "<table border=\"1\" class=\"dataframe\">\n",
       "  <thead>\n",
       "    <tr style=\"text-align: right;\">\n",
       "      <th></th>\n",
       "      <th>Date</th>\n",
       "      <th>Open</th>\n",
       "      <th>High</th>\n",
       "      <th>Low</th>\n",
       "      <th>Close</th>\n",
       "      <th>Adj Close</th>\n",
       "      <th>Volume</th>\n",
       "      <th>Year</th>\n",
       "      <th>Month</th>\n",
       "      <th>Day</th>\n",
       "    </tr>\n",
       "  </thead>\n",
       "  <tbody>\n",
       "    <tr>\n",
       "      <th>0</th>\n",
       "      <td>1/3/2012</td>\n",
       "      <td>175.889999</td>\n",
       "      <td>179.479996</td>\n",
       "      <td>175.550003</td>\n",
       "      <td>179.029999</td>\n",
       "      <td>179.029999</td>\n",
       "      <td>5110.8</td>\n",
       "      <td>2012</td>\n",
       "      <td>1</td>\n",
       "      <td>3</td>\n",
       "    </tr>\n",
       "    <tr>\n",
       "      <th>1</th>\n",
       "      <td>1/4/2012</td>\n",
       "      <td>179.210007</td>\n",
       "      <td>180.500000</td>\n",
       "      <td>176.070007</td>\n",
       "      <td>177.509995</td>\n",
       "      <td>177.509995</td>\n",
       "      <td>4205.2</td>\n",
       "      <td>2012</td>\n",
       "      <td>1</td>\n",
       "      <td>4</td>\n",
       "    </tr>\n",
       "    <tr>\n",
       "      <th>2</th>\n",
       "      <td>1/5/2012</td>\n",
       "      <td>175.940002</td>\n",
       "      <td>178.250000</td>\n",
       "      <td>174.050003</td>\n",
       "      <td>177.610001</td>\n",
       "      <td>177.610001</td>\n",
       "      <td>3809.1</td>\n",
       "      <td>2012</td>\n",
       "      <td>1</td>\n",
       "      <td>5</td>\n",
       "    </tr>\n",
       "    <tr>\n",
       "      <th>3</th>\n",
       "      <td>1/6/2012</td>\n",
       "      <td>178.070007</td>\n",
       "      <td>184.649994</td>\n",
       "      <td>177.500000</td>\n",
       "      <td>182.610001</td>\n",
       "      <td>182.610001</td>\n",
       "      <td>7008.4</td>\n",
       "      <td>2012</td>\n",
       "      <td>1</td>\n",
       "      <td>6</td>\n",
       "    </tr>\n",
       "    <tr>\n",
       "      <th>4</th>\n",
       "      <td>1/9/2012</td>\n",
       "      <td>182.759995</td>\n",
       "      <td>184.369995</td>\n",
       "      <td>177.000000</td>\n",
       "      <td>178.559998</td>\n",
       "      <td>178.559998</td>\n",
       "      <td>5056.9</td>\n",
       "      <td>2012</td>\n",
       "      <td>1</td>\n",
       "      <td>9</td>\n",
       "    </tr>\n",
       "  </tbody>\n",
       "</table>\n",
       "</div>"
      ],
      "text/plain": [
       "       Date        Open        High         Low       Close   Adj Close  \\\n",
       "0  1/3/2012  175.889999  179.479996  175.550003  179.029999  179.029999   \n",
       "1  1/4/2012  179.210007  180.500000  176.070007  177.509995  177.509995   \n",
       "2  1/5/2012  175.940002  178.250000  174.050003  177.610001  177.610001   \n",
       "3  1/6/2012  178.070007  184.649994  177.500000  182.610001  182.610001   \n",
       "4  1/9/2012  182.759995  184.369995  177.000000  178.559998  178.559998   \n",
       "\n",
       "   Volume  Year  Month  Day  \n",
       "0  5110.8  2012      1    3  \n",
       "1  4205.2  2012      1    4  \n",
       "2  3809.1  2012      1    5  \n",
       "3  7008.4  2012      1    6  \n",
       "4  5056.9  2012      1    9  "
      ]
     },
     "execution_count": 29,
     "metadata": {},
     "output_type": "execute_result"
    }
   ],
   "source": [
    "data.head()"
   ]
  },
  {
   "cell_type": "markdown",
   "metadata": {},
   "source": [
    "## 3). Use visualization for data analysis\n",
    "- 3.1. Show the trend of average Adj Close over years\n",
    "- 3.2. Show the average sale-price over the months\n",
    "- 3.3. Show the number of properties that have been sold over months\n",
    "- 3.4. Show the average/sum of sale price for all 4 quadrant in Washington D.C.\n",
    "- 3.5. Show the number of properties that have been sold in each of the 4 quandrant\n",
    "- 3.6. Plot the average sale price over the number of fireplaces for properties that exist within NW and were sold in 2015\n",
    "- 3.7. Show the average sale-price for each of the property grades\n",
    "- 3.8. Is there any relation between neighborhood and sale price?"
   ]
  },
  {
   "cell_type": "code",
   "execution_count": 30,
   "metadata": {},
   "outputs": [
    {
     "data": {
      "text/plain": [
       "<matplotlib.axes._subplots.AxesSubplot at 0x26bf23fd508>"
      ]
     },
     "execution_count": 30,
     "metadata": {},
     "output_type": "execute_result"
    },
    {
     "data": {
      "image/png": "[encoded data removed]",
      "text/plain": [
       "<Figure size 576x432 with 1 Axes>"
      ]
     },
     "metadata": {
      "needs_background": "light"
     },
     "output_type": "display_data"
    }
   ],
   "source": [
    "# 3.1. Show the trend of average Adj Close over years\n",
    "data[['Year', 'Volume']].groupby('Year').mean().plot(figsize=(8,6),y= 'Volume', fontsize=12,title='Average Volume over Years')"
   ]
  },
  {
   "cell_type": "code",
   "execution_count": 33,
   "metadata": {},
   "outputs": [
    {
     "data": {
      "text/plain": [
       "<matplotlib.axes._subplots.AxesSubplot at 0x26bf34cd608>"
      ]
     },
     "execution_count": 33,
     "metadata": {},
     "output_type": "execute_result"
    },
    {
     "data": {
      "image/png": "[encoded data removed]",
      "text/plain": [
       "<Figure size 720x288 with 1 Axes>"
      ]
     },
     "metadata": {
      "needs_background": "light"
     },
     "output_type": "display_data"
    }
   ],
   "source": [
    "# Let's see a historical view of the closing price\n",
    "data['Adj Close'].plot(legend=True,figsize=(10,4))"
   ]
  },
  {
   "cell_type": "code",
   "execution_count": 34,
   "metadata": {},
   "outputs": [
    {
     "data": {
      "text/plain": [
       "<matplotlib.axes._subplots.AxesSubplot at 0x26bf353b208>"
      ]
     },
     "execution_count": 34,
     "metadata": {},
     "output_type": "execute_result"
    },
    {
     "data": {
      "image/png": "[encoded data removed]",
      "text/plain": [
       "<Figure size 576x432 with 1 Axes>"
      ]
     },
     "metadata": {
      "needs_background": "light"
     },
     "output_type": "display_data"
    }
   ],
   "source": [
    "#3.2. Show the average volume over the months\n",
    "# According to the figure below, June and Juli have the highest sale price average, while Janurary, March, and September have the lowest sale price average\n",
    "data[['Month', 'Volume']].groupby('Month').mean().plot(figsize=(8,6),y= 'Volume', fontsize=12,title='Average Volume over Months')"
   ]
  },
  {
   "cell_type": "code",
   "execution_count": 35,
   "metadata": {},
   "outputs": [
    {
     "data": {
      "text/plain": [
       "<matplotlib.axes._subplots.AxesSubplot at 0x26bf3545488>"
      ]
     },
     "execution_count": 35,
     "metadata": {},
     "output_type": "execute_result"
    },
    {
     "data": {
      "image/png": "[encoded data removed]",
      "text/plain": [
       "<Figure size 576x432 with 1 Axes>"
      ]
     },
     "metadata": {
      "needs_background": "light"
     },
     "output_type": "display_data"
    }
   ],
   "source": [
    "#3.2. Show the average volume over the days\n",
    "# According to the figure below, June and Juli have the highest sale price average, while Janurary, March, and September have the lowest sale price average\n",
    "data[['Day', 'Volume']].groupby('Day').mean().plot.bar(figsize=(8,6),y= 'Volume', fontsize=12,title='Average Volume over Days')"
   ]
  },
  {
   "cell_type": "code",
   "execution_count": 36,
   "metadata": {},
   "outputs": [
    {
     "data": {
      "text/plain": [
       "<matplotlib.axes._subplots.AxesSubplot at 0x26bf35a0488>"
      ]
     },
     "execution_count": 36,
     "metadata": {},
     "output_type": "execute_result"
    },
    {
     "data": {
      "image/png": "[encoded data removed]",
      "text/plain": [
       "<Figure size 576x432 with 1 Axes>"
      ]
     },
     "metadata": {
      "needs_background": "light"
     },
     "output_type": "display_data"
    }
   ],
   "source": [
    "# 3.4. Show the average/sum of cloasing per day.\n",
    "# According to the figure below, the northwest region has the highest sale price, and southwest region has the lowest sale price\n",
    "data[['Date', 'Adj Close']].plot(figsize=(8,6), x = 'Date', y= 'Adj Close', fontsize=12,title='Average Closing  each day over the past 8 years')"
   ]
  },
  {
   "cell_type": "code",
   "execution_count": 37,
   "metadata": {},
   "outputs": [],
   "source": [
    "data['Date'] = pd.to_datetime(data['Date'], format='%m/%d/%Y')"
   ]
  },
  {
   "cell_type": "code",
   "execution_count": 38,
   "metadata": {},
   "outputs": [
    {
     "name": "stdout",
     "output_type": "stream",
     "text": [
      "<class 'pandas.core.frame.DataFrame'>\n",
      "Int64Index: 2228 entries, 0 to 2241\n",
      "Data columns (total 10 columns):\n",
      " #   Column     Non-Null Count  Dtype         \n",
      "---  ------     --------------  -----         \n",
      " 0   Date       2228 non-null   datetime64[ns]\n",
      " 1   Open       2228 non-null   float64       \n",
      " 2   High       2228 non-null   float64       \n",
      " 3   Low        2228 non-null   float64       \n",
      " 4   Close      2228 non-null   float64       \n",
      " 5   Adj Close  2228 non-null   float64       \n",
      " 6   Volume     2228 non-null   float64       \n",
      " 7   Year       2228 non-null   int64         \n",
      " 8   Month      2228 non-null   int64         \n",
      " 9   Day        2228 non-null   int64         \n",
      "dtypes: datetime64[ns](1), float64(6), int64(3)\n",
      "memory usage: 191.5 KB\n"
     ]
    }
   ],
   "source": [
    "data.info()"
   ]
  },
  {
   "cell_type": "code",
   "execution_count": 39,
   "metadata": {},
   "outputs": [
    {
     "data": {
      "text/plain": [
       "<matplotlib.axes._subplots.AxesSubplot at 0x26bf3733fc8>"
      ]
     },
     "execution_count": 39,
     "metadata": {},
     "output_type": "execute_result"
    },
    {
     "data": {
      "image/png": "[encoded data removed]",
      "text/plain": [
       "<Figure size 576x432 with 1 Axes>"
      ]
     },
     "metadata": {
      "needs_background": "light"
     },
     "output_type": "display_data"
    }
   ],
   "source": [
    "# According to the figure below, the northwest region has the highest sale price, and southwest region has the lowest sale price\n",
    "data[['Date', 'Adj Close']].plot(figsize=(8,6), x = 'Date', y= 'Adj Close', fontsize=12,title='Average Closing  each day over the past 8 years')"
   ]
  },
  {
   "cell_type": "code",
   "execution_count": 40,
   "metadata": {},
   "outputs": [
    {
     "data": {
      "text/plain": [
       "Text(0.5, 0, 'Month')"
      ]
     },
     "execution_count": 40,
     "metadata": {},
     "output_type": "execute_result"
    },
    {
     "data": {
      "image/png": "[encoded data removed]",
      "text/plain": [
       "<Figure size 576x432 with 1 Axes>"
      ]
     },
     "metadata": {
      "needs_background": "light"
     },
     "output_type": "display_data"
    }
   ],
   "source": [
    "data[['Date', 'Adj Close']].groupby(data['Date'].dt.month).mean().plot(figsize=(8,6), y= 'Adj Close', fontsize=12,title='Average Closing  each day over the past 8 years')\n",
    "plt.xlabel('Month')"
   ]
  },
  {
   "cell_type": "code",
   "execution_count": 41,
   "metadata": {},
   "outputs": [
    {
     "data": {
      "text/html": [
       "<div>\n",
       "<style scoped>\n",
       "    .dataframe tbody tr th:only-of-type {\n",
       "        vertical-align: middle;\n",
       "    }\n",
       "\n",
       "    .dataframe tbody tr th {\n",
       "        vertical-align: top;\n",
       "    }\n",
       "\n",
       "    .dataframe thead th {\n",
       "        text-align: right;\n",
       "    }\n",
       "</style>\n",
       "<table border=\"1\" class=\"dataframe\">\n",
       "  <thead>\n",
       "    <tr style=\"text-align: right;\">\n",
       "      <th></th>\n",
       "      <th>Date</th>\n",
       "      <th>Open</th>\n",
       "      <th>High</th>\n",
       "      <th>Low</th>\n",
       "      <th>Close</th>\n",
       "      <th>Adj Close</th>\n",
       "      <th>Volume</th>\n",
       "      <th>Year</th>\n",
       "      <th>Month</th>\n",
       "      <th>Day</th>\n",
       "    </tr>\n",
       "  </thead>\n",
       "  <tbody>\n",
       "    <tr>\n",
       "      <th>1</th>\n",
       "      <td>2012-01-04</td>\n",
       "      <td>179.210007</td>\n",
       "      <td>180.500000</td>\n",
       "      <td>176.070007</td>\n",
       "      <td>177.509995</td>\n",
       "      <td>177.509995</td>\n",
       "      <td>4205.2</td>\n",
       "      <td>2012</td>\n",
       "      <td>1</td>\n",
       "      <td>4</td>\n",
       "    </tr>\n",
       "    <tr>\n",
       "      <th>4</th>\n",
       "      <td>2012-01-09</td>\n",
       "      <td>182.759995</td>\n",
       "      <td>184.369995</td>\n",
       "      <td>177.000000</td>\n",
       "      <td>178.559998</td>\n",
       "      <td>178.559998</td>\n",
       "      <td>5056.9</td>\n",
       "      <td>2012</td>\n",
       "      <td>1</td>\n",
       "      <td>9</td>\n",
       "    </tr>\n",
       "    <tr>\n",
       "      <th>5</th>\n",
       "      <td>2012-01-10</td>\n",
       "      <td>181.100006</td>\n",
       "      <td>182.399994</td>\n",
       "      <td>177.100006</td>\n",
       "      <td>179.339996</td>\n",
       "      <td>179.339996</td>\n",
       "      <td>3985.8</td>\n",
       "      <td>2012</td>\n",
       "      <td>1</td>\n",
       "      <td>10</td>\n",
       "    </tr>\n",
       "    <tr>\n",
       "      <th>6</th>\n",
       "      <td>2012-01-11</td>\n",
       "      <td>179.639999</td>\n",
       "      <td>180.770004</td>\n",
       "      <td>178.190002</td>\n",
       "      <td>178.899994</td>\n",
       "      <td>178.899994</td>\n",
       "      <td>3102.7</td>\n",
       "      <td>2012</td>\n",
       "      <td>1</td>\n",
       "      <td>11</td>\n",
       "    </tr>\n",
       "    <tr>\n",
       "      <th>7</th>\n",
       "      <td>2012-01-12</td>\n",
       "      <td>179.419998</td>\n",
       "      <td>179.490005</td>\n",
       "      <td>175.750000</td>\n",
       "      <td>175.929993</td>\n",
       "      <td>175.929993</td>\n",
       "      <td>5385.8</td>\n",
       "      <td>2012</td>\n",
       "      <td>1</td>\n",
       "      <td>12</td>\n",
       "    </tr>\n",
       "    <tr>\n",
       "      <th>...</th>\n",
       "      <td>...</td>\n",
       "      <td>...</td>\n",
       "      <td>...</td>\n",
       "      <td>...</td>\n",
       "      <td>...</td>\n",
       "      <td>...</td>\n",
       "      <td>...</td>\n",
       "      <td>...</td>\n",
       "      <td>...</td>\n",
       "      <td>...</td>\n",
       "    </tr>\n",
       "    <tr>\n",
       "      <th>2234</th>\n",
       "      <td>2020-11-17</td>\n",
       "      <td>3183.540039</td>\n",
       "      <td>3189.250000</td>\n",
       "      <td>3135.260010</td>\n",
       "      <td>3135.659912</td>\n",
       "      <td>3135.659912</td>\n",
       "      <td>3444.7</td>\n",
       "      <td>2020</td>\n",
       "      <td>11</td>\n",
       "      <td>17</td>\n",
       "    </tr>\n",
       "    <tr>\n",
       "      <th>2235</th>\n",
       "      <td>2020-11-18</td>\n",
       "      <td>3134.000000</td>\n",
       "      <td>3140.000000</td>\n",
       "      <td>3105.100098</td>\n",
       "      <td>3105.459961</td>\n",
       "      <td>3105.459961</td>\n",
       "      <td>2916.8</td>\n",
       "      <td>2020</td>\n",
       "      <td>11</td>\n",
       "      <td>18</td>\n",
       "    </tr>\n",
       "    <tr>\n",
       "      <th>2237</th>\n",
       "      <td>2020-11-20</td>\n",
       "      <td>3117.020020</td>\n",
       "      <td>3132.889893</td>\n",
       "      <td>3098.050049</td>\n",
       "      <td>3099.399902</td>\n",
       "      <td>3099.399902</td>\n",
       "      <td>3374.4</td>\n",
       "      <td>2020</td>\n",
       "      <td>11</td>\n",
       "      <td>20</td>\n",
       "    </tr>\n",
       "    <tr>\n",
       "      <th>2238</th>\n",
       "      <td>2020-11-23</td>\n",
       "      <td>3116.699951</td>\n",
       "      <td>3139.750000</td>\n",
       "      <td>3065.459961</td>\n",
       "      <td>3098.389893</td>\n",
       "      <td>3098.389893</td>\n",
       "      <td>4708.9</td>\n",
       "      <td>2020</td>\n",
       "      <td>11</td>\n",
       "      <td>23</td>\n",
       "    </tr>\n",
       "    <tr>\n",
       "      <th>2241</th>\n",
       "      <td>2020-11-27</td>\n",
       "      <td>3211.260010</td>\n",
       "      <td>3216.189941</td>\n",
       "      <td>3190.050049</td>\n",
       "      <td>3195.340088</td>\n",
       "      <td>3195.340088</td>\n",
       "      <td>2392.9</td>\n",
       "      <td>2020</td>\n",
       "      <td>11</td>\n",
       "      <td>27</td>\n",
       "    </tr>\n",
       "  </tbody>\n",
       "</table>\n",
       "<p>1105 rows × 10 columns</p>\n",
       "</div>"
      ],
      "text/plain": [
       "           Date         Open         High          Low        Close  \\\n",
       "1    2012-01-04   179.210007   180.500000   176.070007   177.509995   \n",
       "4    2012-01-09   182.759995   184.369995   177.000000   178.559998   \n",
       "5    2012-01-10   181.100006   182.399994   177.100006   179.339996   \n",
       "6    2012-01-11   179.639999   180.770004   178.190002   178.899994   \n",
       "7    2012-01-12   179.419998   179.490005   175.750000   175.929993   \n",
       "...         ...          ...          ...          ...          ...   \n",
       "2234 2020-11-17  3183.540039  3189.250000  3135.260010  3135.659912   \n",
       "2235 2020-11-18  3134.000000  3140.000000  3105.100098  3105.459961   \n",
       "2237 2020-11-20  3117.020020  3132.889893  3098.050049  3099.399902   \n",
       "2238 2020-11-23  3116.699951  3139.750000  3065.459961  3098.389893   \n",
       "2241 2020-11-27  3211.260010  3216.189941  3190.050049  3195.340088   \n",
       "\n",
       "        Adj Close  Volume  Year  Month  Day  \n",
       "1      177.509995  4205.2  2012      1    4  \n",
       "4      178.559998  5056.9  2012      1    9  \n",
       "5      179.339996  3985.8  2012      1   10  \n",
       "6      178.899994  3102.7  2012      1   11  \n",
       "7      175.929993  5385.8  2012      1   12  \n",
       "...           ...     ...   ...    ...  ...  \n",
       "2234  3135.659912  3444.7  2020     11   17  \n",
       "2235  3105.459961  2916.8  2020     11   18  \n",
       "2237  3099.399902  3374.4  2020     11   20  \n",
       "2238  3098.389893  4708.9  2020     11   23  \n",
       "2241  3195.340088  2392.9  2020     11   27  \n",
       "\n",
       "[1105 rows x 10 columns]"
      ]
     },
     "execution_count": 41,
     "metadata": {},
     "output_type": "execute_result"
    }
   ],
   "source": [
    "filter1 =data['Year']>2015\n",
    "filter2 =data[data['Adj Close'] < data['Open']]\n",
    "filter2\n"
   ]
  },
  {
   "cell_type": "code",
   "execution_count": 42,
   "metadata": {},
   "outputs": [
    {
     "data": {
      "text/plain": [
       "0       False\n",
       "1       False\n",
       "2       False\n",
       "3       False\n",
       "4       False\n",
       "        ...  \n",
       "2237     True\n",
       "2238     True\n",
       "2239     True\n",
       "2240     True\n",
       "2241     True\n",
       "Name: Year, Length: 2228, dtype: bool"
      ]
     },
     "execution_count": 42,
     "metadata": {},
     "output_type": "execute_result"
    }
   ],
   "source": [
    "filter1"
   ]
  },
  {
   "cell_type": "code",
   "execution_count": 43,
   "metadata": {},
   "outputs": [
    {
     "data": {
      "text/plain": [
       "Text(0, 0.5, 'Number of Stocks')"
      ]
     },
     "execution_count": 43,
     "metadata": {},
     "output_type": "execute_result"
    },
    {
     "data": {
      "image/png": "[encoded data removed]",
      "text/plain": [
       "<Figure size 720x432 with 1 Axes>"
      ]
     },
     "metadata": {
      "needs_background": "light"
     },
     "output_type": "display_data"
    }
   ],
   "source": [
    "filter1 =data['Year']>2015\n",
    "filter2 =data['Adj Close'] < data['Open']\n",
    "result=data[filter1 & filter2]\n",
    "result[['Year', 'Adj Close']].groupby('Year').count().plot.bar(figsize=(10,6), y= 'Adj Close', fontsize=12, legend=True, \n",
    "                                                               title='Number of stocks where the closing price is smaller than the openning')\n",
    "\n",
    "plt.ylabel(\"Number of Stocks\")"
   ]
  },
  {
   "cell_type": "code",
   "execution_count": 44,
   "metadata": {},
   "outputs": [
    {
     "data": {
      "text/plain": [
       "Text(0, 0.5, 'Number of Stocks')"
      ]
     },
     "execution_count": 44,
     "metadata": {},
     "output_type": "execute_result"
    },
    {
     "data": {
      "image/png": "[encoded data removed]",
      "text/plain": [
       "<Figure size 720x432 with 1 Axes>"
      ]
     },
     "metadata": {
      "needs_background": "light"
     },
     "output_type": "display_data"
    }
   ],
   "source": [
    "# compare the high and low\n",
    "data[['Year', 'High','Low']].groupby('Year').mean().plot(figsize=(10,6), y= ['High','Low'], fontsize=12, legend=True, \n",
    "                                                               title='Number of stocks where the closing price is smaller than the openning')\n",
    "\n",
    "plt.ylabel(\"Number of Stocks\")"
   ]
  },
  {
   "cell_type": "code",
   "execution_count": 45,
   "metadata": {},
   "outputs": [
    {
     "data": {
      "text/plain": [
       "Text(0, 0.5, 'Number of Stocks')"
      ]
     },
     "execution_count": 45,
     "metadata": {},
     "output_type": "execute_result"
    },
    {
     "data": {
      "image/png": "[encoded data removed]",
      "text/plain": [
       "<Figure size 720x432 with 1 Axes>"
      ]
     },
     "metadata": {
      "needs_background": "light"
     },
     "output_type": "display_data"
    }
   ],
   "source": [
    "# compare the high and low\n",
    "data[['Year', 'High','Low']].groupby('Year').sum().plot(figsize=(10,6), y= ['High','Low'], fontsize=12, legend=True, \n",
    "                                                               title='Number of stocks where the closing price is smaller than the openning')\n",
    "\n",
    "plt.ylabel(\"Number of Stocks\")"
   ]
  },
  {
   "cell_type": "code",
   "execution_count": 46,
   "metadata": {},
   "outputs": [
    {
     "data": {
      "text/plain": [
       "Text(0, 0.5, 'Average Price of Stocks')"
      ]
     },
     "execution_count": 46,
     "metadata": {},
     "output_type": "execute_result"
    },
    {
     "data": {
      "image/png": "[encoded data removed]",
      "text/plain": [
       "<Figure size 720x432 with 1 Axes>"
      ]
     },
     "metadata": {
      "needs_background": "light"
     },
     "output_type": "display_data"
    }
   ],
   "source": [
    "# compare the high and low\n",
    "data[['Year', 'High','Low','Close']].groupby('Year').mean().plot(figsize=(10,6), y= ['High','Low','Close'], fontsize=12, legend=True, \n",
    "                                                               title='Number of stocks where the closing price is smaller than the openning')\n",
    "\n",
    "plt.ylabel(\"Average Price of Stocks\")"
   ]
  },
  {
   "cell_type": "code",
   "execution_count": 47,
   "metadata": {},
   "outputs": [
    {
     "data": {
      "text/plain": [
       "Text(0, 0.5, 'Average Price of Stocks')"
      ]
     },
     "execution_count": 47,
     "metadata": {},
     "output_type": "execute_result"
    },
    {
     "data": {
      "image/png": "[encoded data removed]",
      "text/plain": [
       "<Figure size 720x432 with 1 Axes>"
      ]
     },
     "metadata": {
      "needs_background": "light"
     },
     "output_type": "display_data"
    }
   ],
   "source": [
    "# compare the high and low\n",
    "data[['Month', 'High','Low','Close']].groupby('Month').mean().plot(figsize=(10,6), y= ['High','Low','Close'], fontsize=12, legend=True, \n",
    "                                                               title='Number of stocks where the closing price is smaller than the openning')\n",
    "\n",
    "plt.ylabel(\"Average Price of Stocks\")"
   ]
  },
  {
   "cell_type": "code",
   "execution_count": 48,
   "metadata": {},
   "outputs": [
    {
     "data": {
      "text/plain": [
       "Text(0, 0.5, 'Average Price of Stocks')"
      ]
     },
     "execution_count": 48,
     "metadata": {},
     "output_type": "execute_result"
    },
    {
     "data": {
      "image/png": "[encoded data removed]",
      "text/plain": [
       "<Figure size 720x432 with 1 Axes>"
      ]
     },
     "metadata": {
      "needs_background": "light"
     },
     "output_type": "display_data"
    }
   ],
   "source": [
    "# compare the high and low\n",
    "data[['Month', 'High','Low','Close']].groupby('Month').sum().plot(figsize=(10,6), y= ['High','Low','Close'], fontsize=12, legend=True, \n",
    "                                                               title='Number of stocks where the closing price is smaller than the openning')\n",
    "\n",
    "plt.ylabel(\"Average Price of Stocks\")"
   ]
  },
  {
   "cell_type": "code",
   "execution_count": 49,
   "metadata": {},
   "outputs": [
    {
     "data": {
      "text/plain": [
       "Text(0, 0.5, 'Average Price of Stocks')"
      ]
     },
     "execution_count": 49,
     "metadata": {},
     "output_type": "execute_result"
    },
    {
     "data": {
      "image/png": "[encoded data removed]",
      "text/plain": [
       "<Figure size 720x432 with 1 Axes>"
      ]
     },
     "metadata": {
      "needs_background": "light"
     },
     "output_type": "display_data"
    }
   ],
   "source": [
    "# compare the high and low\n",
    "data[['Month', 'Open','Close']].groupby('Month').sum().plot(figsize=(10,6), y= ['Open','Close'], fontsize=12, legend=True, \n",
    "                                                               title='Number of stocks where the closing price is smaller than the openning')\n",
    "\n",
    "plt.ylabel(\"Average Price of Stocks\")"
   ]
  },
  {
   "cell_type": "code",
   "execution_count": 50,
   "metadata": {},
   "outputs": [
    {
     "data": {
      "text/plain": [
       "Text(0, 0.5, 'Average Price of Stocks')"
      ]
     },
     "execution_count": 50,
     "metadata": {},
     "output_type": "execute_result"
    },
    {
     "data": {
      "image/png": "[encoded data removed]",
      "text/plain": [
       "<Figure size 720x432 with 1 Axes>"
      ]
     },
     "metadata": {
      "needs_background": "light"
     },
     "output_type": "display_data"
    }
   ],
   "source": [
    "# compare the high and low\n",
    "data[['Date', 'Open','Close']].plot(figsize=(10,6), y= ['Open','Close'], fontsize=12, legend=True, \n",
    "                                                               title='Number of stocks where the closing price is smaller than the openning')\n",
    "\n",
    "plt.ylabel(\"Average Price of Stocks\")"
   ]
  },
  {
   "cell_type": "code",
   "execution_count": 51,
   "metadata": {},
   "outputs": [
    {
     "data": {
      "text/plain": [
       "0.21198426929993275"
      ]
     },
     "execution_count": 51,
     "metadata": {},
     "output_type": "execute_result"
    }
   ],
   "source": [
    "data['Open'].mean() - data['Adj Close'].mean()"
   ]
  },
  {
   "cell_type": "markdown",
   "metadata": {},
   "source": [
    "## 4). Query the data to answer the following questions\n",
    "- 4.1.\tFind the zip-code that has the highest and lowest number of sales\n",
    "- 4.2.\tFind the quadrant that has the highest and lowest average sale price\n",
    "- 4.3.\tFind the zip-code and its quadrant for the highest and lowest average sale-price\n",
    "- 4.4.  Show the price, zip-code, quadrant, the number of stories, structural grade, and property condition for the most expensive property"
   ]
  },
  {
   "cell_type": "code",
   "execution_count": 52,
   "metadata": {},
   "outputs": [
    {
     "name": "stdout",
     "output_type": "stream",
     "text": [
      "The  Month with the lowest volume: 8 Volume 633655399.9999995\n",
      "The  Month with the highest volume: 10  Volume 897270199.9999995\n"
     ]
    }
   ],
   "source": [
    "# Find the month that has the highest and lowest number of volume\n",
    "r = data[['Month',  'Volume']].groupby(['Month']).sum()\n",
    "\n",
    "print('The  Month with the lowest volume:', r.idxmin()[0], 'Volume', r.min()[0] * 1000)\n",
    "print('The  Month with the highest volume:', r.idxmax()[0], ' Volume', r.max()[0] * 1000)"
   ]
  },
  {
   "cell_type": "code",
   "execution_count": 53,
   "metadata": {},
   "outputs": [
    {
     "name": "stdout",
     "output_type": "stream",
     "text": [
      "The  Day with the lowest volume: 2020-01-15 Volume 2896.6\n",
      "The  Day with the highest volume: 2015-02-20  Volume 3258.0\n"
     ]
    }
   ],
   "source": [
    "# Find the month that has the highest and lowest number of volume\n",
    "r = data['Volume']\n",
    "s=r.idxmin()\n",
    "x=r.idxmax()\n",
    "print('The  Day with the lowest volume:', data.iloc[r.idxmin()]['Date'].date(), 'Volume', data.iloc[r.idxmin()]['Volume'])\n",
    "print('The  Day with the highest volume:', data.iloc[r.idxmax()]['Date'].date(), ' Volume', data.iloc[r.idxmax()]['Volume'])\n"
   ]
  },
  {
   "cell_type": "code",
   "execution_count": 54,
   "metadata": {},
   "outputs": [
    {
     "data": {
      "text/html": [
       "<div>\n",
       "<style scoped>\n",
       "    .dataframe tbody tr th:only-of-type {\n",
       "        vertical-align: middle;\n",
       "    }\n",
       "\n",
       "    .dataframe tbody tr th {\n",
       "        vertical-align: top;\n",
       "    }\n",
       "\n",
       "    .dataframe thead th {\n",
       "        text-align: right;\n",
       "    }\n",
       "</style>\n",
       "<table border=\"1\" class=\"dataframe\">\n",
       "  <thead>\n",
       "    <tr style=\"text-align: right;\">\n",
       "      <th></th>\n",
       "      <th>Date</th>\n",
       "      <th>Open</th>\n",
       "      <th>High</th>\n",
       "      <th>Low</th>\n",
       "      <th>Close</th>\n",
       "      <th>Adj Close</th>\n",
       "      <th>Volume</th>\n",
       "      <th>Year</th>\n",
       "      <th>Month</th>\n",
       "      <th>Day</th>\n",
       "    </tr>\n",
       "  </thead>\n",
       "  <tbody>\n",
       "    <tr>\n",
       "      <th>0</th>\n",
       "      <td>2012-01-03</td>\n",
       "      <td>175.889999</td>\n",
       "      <td>179.479996</td>\n",
       "      <td>175.550003</td>\n",
       "      <td>179.029999</td>\n",
       "      <td>179.029999</td>\n",
       "      <td>5110.8</td>\n",
       "      <td>2012</td>\n",
       "      <td>1</td>\n",
       "      <td>3</td>\n",
       "    </tr>\n",
       "    <tr>\n",
       "      <th>1</th>\n",
       "      <td>2012-01-04</td>\n",
       "      <td>179.210007</td>\n",
       "      <td>180.500000</td>\n",
       "      <td>176.070007</td>\n",
       "      <td>177.509995</td>\n",
       "      <td>177.509995</td>\n",
       "      <td>4205.2</td>\n",
       "      <td>2012</td>\n",
       "      <td>1</td>\n",
       "      <td>4</td>\n",
       "    </tr>\n",
       "    <tr>\n",
       "      <th>2</th>\n",
       "      <td>2012-01-05</td>\n",
       "      <td>175.940002</td>\n",
       "      <td>178.250000</td>\n",
       "      <td>174.050003</td>\n",
       "      <td>177.610001</td>\n",
       "      <td>177.610001</td>\n",
       "      <td>3809.1</td>\n",
       "      <td>2012</td>\n",
       "      <td>1</td>\n",
       "      <td>5</td>\n",
       "    </tr>\n",
       "    <tr>\n",
       "      <th>3</th>\n",
       "      <td>2012-01-06</td>\n",
       "      <td>178.070007</td>\n",
       "      <td>184.649994</td>\n",
       "      <td>177.500000</td>\n",
       "      <td>182.610001</td>\n",
       "      <td>182.610001</td>\n",
       "      <td>7008.4</td>\n",
       "      <td>2012</td>\n",
       "      <td>1</td>\n",
       "      <td>6</td>\n",
       "    </tr>\n",
       "    <tr>\n",
       "      <th>4</th>\n",
       "      <td>2012-01-09</td>\n",
       "      <td>182.759995</td>\n",
       "      <td>184.369995</td>\n",
       "      <td>177.000000</td>\n",
       "      <td>178.559998</td>\n",
       "      <td>178.559998</td>\n",
       "      <td>5056.9</td>\n",
       "      <td>2012</td>\n",
       "      <td>1</td>\n",
       "      <td>9</td>\n",
       "    </tr>\n",
       "    <tr>\n",
       "      <th>...</th>\n",
       "      <td>...</td>\n",
       "      <td>...</td>\n",
       "      <td>...</td>\n",
       "      <td>...</td>\n",
       "      <td>...</td>\n",
       "      <td>...</td>\n",
       "      <td>...</td>\n",
       "      <td>...</td>\n",
       "      <td>...</td>\n",
       "      <td>...</td>\n",
       "    </tr>\n",
       "    <tr>\n",
       "      <th>2237</th>\n",
       "      <td>2020-11-20</td>\n",
       "      <td>3117.020020</td>\n",
       "      <td>3132.889893</td>\n",
       "      <td>3098.050049</td>\n",
       "      <td>3099.399902</td>\n",
       "      <td>3099.399902</td>\n",
       "      <td>3374.4</td>\n",
       "      <td>2020</td>\n",
       "      <td>11</td>\n",
       "      <td>20</td>\n",
       "    </tr>\n",
       "    <tr>\n",
       "      <th>2238</th>\n",
       "      <td>2020-11-23</td>\n",
       "      <td>3116.699951</td>\n",
       "      <td>3139.750000</td>\n",
       "      <td>3065.459961</td>\n",
       "      <td>3098.389893</td>\n",
       "      <td>3098.389893</td>\n",
       "      <td>4708.9</td>\n",
       "      <td>2020</td>\n",
       "      <td>11</td>\n",
       "      <td>23</td>\n",
       "    </tr>\n",
       "    <tr>\n",
       "      <th>2239</th>\n",
       "      <td>2020-11-24</td>\n",
       "      <td>3100.500000</td>\n",
       "      <td>3134.250000</td>\n",
       "      <td>3086.260010</td>\n",
       "      <td>3118.060059</td>\n",
       "      <td>3118.060059</td>\n",
       "      <td>3602.1</td>\n",
       "      <td>2020</td>\n",
       "      <td>11</td>\n",
       "      <td>24</td>\n",
       "    </tr>\n",
       "    <tr>\n",
       "      <th>2240</th>\n",
       "      <td>2020-11-25</td>\n",
       "      <td>3141.870117</td>\n",
       "      <td>3198.000000</td>\n",
       "      <td>3140.260010</td>\n",
       "      <td>3185.070068</td>\n",
       "      <td>3185.070068</td>\n",
       "      <td>3790.4</td>\n",
       "      <td>2020</td>\n",
       "      <td>11</td>\n",
       "      <td>25</td>\n",
       "    </tr>\n",
       "    <tr>\n",
       "      <th>2241</th>\n",
       "      <td>2020-11-27</td>\n",
       "      <td>3211.260010</td>\n",
       "      <td>3216.189941</td>\n",
       "      <td>3190.050049</td>\n",
       "      <td>3195.340088</td>\n",
       "      <td>3195.340088</td>\n",
       "      <td>2392.9</td>\n",
       "      <td>2020</td>\n",
       "      <td>11</td>\n",
       "      <td>27</td>\n",
       "    </tr>\n",
       "  </tbody>\n",
       "</table>\n",
       "<p>2228 rows × 10 columns</p>\n",
       "</div>"
      ],
      "text/plain": [
       "           Date         Open         High          Low        Close  \\\n",
       "0    2012-01-03   175.889999   179.479996   175.550003   179.029999   \n",
       "1    2012-01-04   179.210007   180.500000   176.070007   177.509995   \n",
       "2    2012-01-05   175.940002   178.250000   174.050003   177.610001   \n",
       "3    2012-01-06   178.070007   184.649994   177.500000   182.610001   \n",
       "4    2012-01-09   182.759995   184.369995   177.000000   178.559998   \n",
       "...         ...          ...          ...          ...          ...   \n",
       "2237 2020-11-20  3117.020020  3132.889893  3098.050049  3099.399902   \n",
       "2238 2020-11-23  3116.699951  3139.750000  3065.459961  3098.389893   \n",
       "2239 2020-11-24  3100.500000  3134.250000  3086.260010  3118.060059   \n",
       "2240 2020-11-25  3141.870117  3198.000000  3140.260010  3185.070068   \n",
       "2241 2020-11-27  3211.260010  3216.189941  3190.050049  3195.340088   \n",
       "\n",
       "        Adj Close  Volume  Year  Month  Day  \n",
       "0      179.029999  5110.8  2012      1    3  \n",
       "1      177.509995  4205.2  2012      1    4  \n",
       "2      177.610001  3809.1  2012      1    5  \n",
       "3      182.610001  7008.4  2012      1    6  \n",
       "4      178.559998  5056.9  2012      1    9  \n",
       "...           ...     ...   ...    ...  ...  \n",
       "2237  3099.399902  3374.4  2020     11   20  \n",
       "2238  3098.389893  4708.9  2020     11   23  \n",
       "2239  3118.060059  3602.1  2020     11   24  \n",
       "2240  3185.070068  3790.4  2020     11   25  \n",
       "2241  3195.340088  2392.9  2020     11   27  \n",
       "\n",
       "[2228 rows x 10 columns]"
      ]
     },
     "execution_count": 54,
     "metadata": {},
     "output_type": "execute_result"
    }
   ],
   "source": [
    "data"
   ]
  },
  {
   "cell_type": "code",
   "execution_count": 55,
   "metadata": {},
   "outputs": [
    {
     "data": {
      "text/plain": [
       "366.105011"
      ]
     },
     "execution_count": 55,
     "metadata": {},
     "output_type": "execute_result"
    }
   ],
   "source": [
    "#4.3. Find the month and day that has the lwest closing price!\n",
    "r = data[['Month', 'Day',  'Close']].groupby(['Month', 'Day']).mean()\n",
    "\n",
    "r.idxmin()[0]\n",
    "r.min()[0]\n"
   ]
  },
  {
   "cell_type": "code",
   "execution_count": 56,
   "metadata": {},
   "outputs": [
    {
     "name": "stdout",
     "output_type": "stream",
     "text": [
      "Closing:  3,531.4499509999996 \n",
      "Open: 3547.0 \n",
      "Year: 2020 \n",
      "Month: 9 \n",
      "Day: 2 \n",
      "Volume: 3931500.0\n"
     ]
    }
   ],
   "source": [
    "#4.4. Show the price, zip-code, quadrant, the number of stories, structural grade, and property condition for the most expensive property\n",
    "\n",
    "r = data.loc[data['Close'].idxmax()]\n",
    "print('Closing: ', f\"{r['Close']:,}\", '\\nOpen:', r['Open'],  '\\nYear:', r['Year'], '\\nMonth:', r['Month'],  '\\nDay:', r['Day'], '\\nVolume:', r['Volume']*1000)\n",
    "\n"
   ]
  },
  {
   "cell_type": "code",
   "execution_count": null,
   "metadata": {},
   "outputs": [],
   "source": []
  },
  {
   "cell_type": "code",
   "execution_count": null,
   "metadata": {},
   "outputs": [],
   "source": []
  }
 ],
 "metadata": {
  "kernelspec": {
   "display_name": "Python 3",
   "language": "python",
   "name": "python3"
  },
  "language_info": {
   "codemirror_mode": {
    "name": "ipython",
    "version": 3
   },
   "file_extension": ".py",
   "mimetype": "text/x-python",
   "name": "python",
   "nbconvert_exporter": "python",
   "pygments_lexer": "ipython3",
   "version": "3.7.7"
  }
 },
 "nbformat": 4,
 "nbformat_minor": 2
}
