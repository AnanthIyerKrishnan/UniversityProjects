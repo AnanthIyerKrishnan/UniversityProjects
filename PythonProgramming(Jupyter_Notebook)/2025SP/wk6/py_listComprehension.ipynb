{
 "cells": [
  {
   "cell_type": "markdown",
   "metadata": {},
   "source": [
    "# Ramadan Abdunabi\n",
    "## Week6 02/27/2025 - 03/04/2025\n",
    "### Python List Comprehension"
   ]
  },
  {
   "cell_type": "markdown",
   "metadata": {},
   "source": [
    "**list comprehensions make it easy to create lists while performing sophisticated filtering, mapping, and conditional logic on their members.**\n",
    "\n",
    "## List Comprehension Format:\n",
    "\n",
    "<code> new_list = [expression for member in iterable] <code/>"
   ]
  },
  {
   "cell_type": "code",
   "execution_count": 1,
   "metadata": {},
   "outputs": [],
   "source": [
    "message = \"Welcome To CIS310\"\n",
    "chars = []\n",
    "for letter in message:\n",
    "    if not message.isspace():\n",
    "        chars.append(letter)\n"
   ]
  },
  {
   "cell_type": "code",
   "execution_count": 2,
   "metadata": {},
   "outputs": [
    {
     "data": {
      "text/plain": [
       "['W',\n",
       " 'e',\n",
       " 'l',\n",
       " 'c',\n",
       " 'o',\n",
       " 'm',\n",
       " 'e',\n",
       " ' ',\n",
       " 'T',\n",
       " 'o',\n",
       " ' ',\n",
       " 'C',\n",
       " 'I',\n",
       " 'S',\n",
       " '3',\n",
       " '1',\n",
       " '0']"
      ]
     },
     "execution_count": 2,
     "metadata": {},
     "output_type": "execute_result"
    }
   ],
   "source": [
    "chars"
   ]
  },
  {
   "cell_type": "code",
   "execution_count": 3,
   "metadata": {},
   "outputs": [
    {
     "data": {
      "text/plain": [
       "['W',\n",
       " 'e',\n",
       " 'l',\n",
       " 'c',\n",
       " 'o',\n",
       " 'm',\n",
       " 'e',\n",
       " ' ',\n",
       " 'T',\n",
       " 'o',\n",
       " ' ',\n",
       " 'C',\n",
       " 'I',\n",
       " 'S',\n",
       " '3',\n",
       " '1',\n",
       " '0']"
      ]
     },
     "execution_count": 3,
     "metadata": {},
     "output_type": "execute_result"
    }
   ],
   "source": [
    "chars = [letter for letter in message]\n",
    "chars"
   ]
  },
  {
   "cell_type": "code",
   "execution_count": 4,
   "metadata": {},
   "outputs": [
    {
     "data": {
      "text/plain": [
       "range(0, 20)"
      ]
     },
     "execution_count": 4,
     "metadata": {},
     "output_type": "execute_result"
    }
   ],
   "source": [
    "range(20)"
   ]
  },
  {
   "cell_type": "code",
   "execution_count": 5,
   "metadata": {},
   "outputs": [],
   "source": [
    "squares = []\n",
    "for num in range(20):\n",
    "    squares.append(num**2)"
   ]
  },
  {
   "cell_type": "code",
   "execution_count": 6,
   "metadata": {},
   "outputs": [
    {
     "data": {
      "text/plain": [
       "[0,\n",
       " 1,\n",
       " 4,\n",
       " 9,\n",
       " 16,\n",
       " 25,\n",
       " 36,\n",
       " 49,\n",
       " 64,\n",
       " 81,\n",
       " 100,\n",
       " 121,\n",
       " 144,\n",
       " 169,\n",
       " 196,\n",
       " 225,\n",
       " 256,\n",
       " 289,\n",
       " 324,\n",
       " 361]"
      ]
     },
     "execution_count": 6,
     "metadata": {},
     "output_type": "execute_result"
    }
   ],
   "source": [
    "squares"
   ]
  },
  {
   "cell_type": "code",
   "execution_count": 7,
   "metadata": {},
   "outputs": [
    {
     "data": {
      "text/plain": [
       "[0,\n",
       " 1,\n",
       " 4,\n",
       " 9,\n",
       " 16,\n",
       " 25,\n",
       " 36,\n",
       " 49,\n",
       " 64,\n",
       " 81,\n",
       " 100,\n",
       " 121,\n",
       " 144,\n",
       " 169,\n",
       " 196,\n",
       " 225,\n",
       " 256,\n",
       " 289,\n",
       " 324,\n",
       " 361]"
      ]
     },
     "execution_count": 7,
     "metadata": {},
     "output_type": "execute_result"
    }
   ],
   "source": [
    "squares = [num**2 for num in range(20)]\n",
    "squares"
   ]
  },
  {
   "cell_type": "code",
   "execution_count": 8,
   "metadata": {},
   "outputs": [
    {
     "data": {
      "text/plain": [
       "[39.2, 50.0, 68.0, 77.9, 60.44, 32.0, 58.82]"
      ]
     },
     "execution_count": 8,
     "metadata": {},
     "output_type": "execute_result"
    }
   ],
   "source": [
    "c_lst = [4,10,20,25.5,15.8,0,14.9]\n",
    "f_lst = [((9/5) * t + 32) for t in c_lst]\n",
    "f_lst"
   ]
  },
  {
   "cell_type": "code",
   "execution_count": 2,
   "metadata": {},
   "outputs": [
    {
     "data": {
      "text/plain": [
       "[1.18, 25.44, 62.47, 4.92, 7.32]"
      ]
     },
     "execution_count": 2,
     "metadata": {},
     "output_type": "execute_result"
    }
   ],
   "source": [
    "# calculate the price after tax for a list of transactions:\n",
    "txns = [1.09, 23.56, 57.84, 4.56, 6.78]\n",
    "TAX_RATE = .08\n",
    "final_price = [round((t * (1+TAX_RATE)),2) for t in txns]\n",
    "final_price"
   ]
  },
  {
   "cell_type": "code",
   "execution_count": 5,
   "metadata": {},
   "outputs": [
    {
     "data": {
      "text/plain": [
       "[2, 4, 6, 8, 10, 12, 14, 16, 18, 20]"
      ]
     },
     "execution_count": 5,
     "metadata": {},
     "output_type": "execute_result"
    }
   ],
   "source": [
    "# Filter the data\n",
    "# new_list = [expression for member in iterable (if conditional)]\n",
    "even_lst = [n for n in range(1,21) if n % 2 == 0]\n",
    "even_lst"
   ]
  },
  {
   "cell_type": "code",
   "execution_count": 6,
   "metadata": {},
   "outputs": [
    {
     "data": {
      "text/plain": [
       "[0, 10, 20, 30, 40, 50, 60, 70, 80, 90, 100]"
      ]
     },
     "execution_count": 6,
     "metadata": {},
     "output_type": "execute_result"
    }
   ],
   "source": [
    "lst = [n for n in range(101) if n % 2 == 0 if n % 5 == 0]\n",
    "lst"
   ]
  },
  {
   "cell_type": "code",
   "execution_count": 8,
   "metadata": {},
   "outputs": [
    {
     "data": {
      "text/plain": [
       "['o',\n",
       " 'u',\n",
       " 'i',\n",
       " 'a',\n",
       " 'e',\n",
       " 'u',\n",
       " 'e',\n",
       " 'i',\n",
       " 'a',\n",
       " 'a',\n",
       " 'i',\n",
       " 'a',\n",
       " 'i',\n",
       " 'i',\n",
       " 'a',\n",
       " 'a',\n",
       " 'i',\n",
       " 'a',\n",
       " 'e',\n",
       " 'i',\n",
       " 'a',\n",
       " 'i']"
      ]
     },
     "execution_count": 8,
     "metadata": {},
     "output_type": "execute_result"
    }
   ],
   "source": [
    "s = \"CIS310 communicate students with analytical thinking and practical technical skills\"\n",
    "vowels = 'aeiou'\n",
    "vowels_lst = [letter for letter in s if letter in vowels]\n",
    "vowels_lst"
   ]
  },
  {
   "cell_type": "code",
   "execution_count": 11,
   "metadata": {},
   "outputs": [
    {
     "data": {
      "text/plain": [
       "[1.25, 0, 10.22, 3.78, 0, 1.16]"
      ]
     },
     "execution_count": 11,
     "metadata": {},
     "output_type": "execute_result"
    }
   ],
   "source": [
    "# Place conditional near the beginning\n",
    "# new_list = [expression (if conditional) for member in iterable]\n",
    "# mapping data\n",
    "sales = [1.25, -9.45, 10.22, 3.78, -5.92, 1.16]\n",
    "new_sales = [v if v > 0 else 0 for v in sales]\n",
    "new_sales"
   ]
  },
  {
   "cell_type": "code",
   "execution_count": 12,
   "metadata": {},
   "outputs": [
    {
     "data": {
      "text/plain": [
       "[1.25, 10.22, 3.78, 1.16]"
      ]
     },
     "execution_count": 12,
     "metadata": {},
     "output_type": "execute_result"
    }
   ],
   "source": [
    "# filter\n",
    "new_sales = [v for v in sales if v > 0]\n",
    "new_sales"
   ]
  },
  {
   "cell_type": "code",
   "execution_count": 14,
   "metadata": {},
   "outputs": [
    {
     "data": {
      "text/plain": [
       "['odd',\n",
       " 'even',\n",
       " 'odd',\n",
       " 'even',\n",
       " 'odd',\n",
       " 'even',\n",
       " 'odd',\n",
       " 'even',\n",
       " 'odd',\n",
       " 'even',\n",
       " 'odd',\n",
       " 'even',\n",
       " 'odd',\n",
       " 'even',\n",
       " 'odd',\n",
       " 'even',\n",
       " 'odd',\n",
       " 'even',\n",
       " 'odd',\n",
       " 'even']"
      ]
     },
     "execution_count": 14,
     "metadata": {},
     "output_type": "execute_result"
    }
   ],
   "source": [
    "lst = ['even' if n % 2 == 0 else 'odd' for n in range(1,21)]\n",
    "lst"
   ]
  },
  {
   "cell_type": "code",
   "execution_count": 16,
   "metadata": {},
   "outputs": [
    {
     "data": {
      "text/plain": [
       "['s',\n",
       " 't',\n",
       " 'd',\n",
       " 's',\n",
       " 'f',\n",
       " 'n',\n",
       " 'd',\n",
       " 't',\n",
       " 'h',\n",
       " 't',\n",
       " 't',\n",
       " 'h',\n",
       " 'f',\n",
       " 'n',\n",
       " 'n',\n",
       " 'c',\n",
       " 'l',\n",
       " 'm',\n",
       " 'p',\n",
       " 'c',\n",
       " 't',\n",
       " 'f',\n",
       " 'p',\n",
       " 'r',\n",
       " 'q',\n",
       " 'l',\n",
       " 't',\n",
       " 'y',\n",
       " 'd',\n",
       " 't',\n",
       " 'c',\n",
       " 's',\n",
       " 't',\n",
       " 't',\n",
       " 'h',\n",
       " 's',\n",
       " 'c',\n",
       " 'n',\n",
       " 'm',\n",
       " 'y',\n",
       " 't',\n",
       " 'r',\n",
       " 'l',\n",
       " 'l',\n",
       " 'n',\n",
       " 'n']"
      ]
     },
     "execution_count": 16,
     "metadata": {},
     "output_type": "execute_result"
    }
   ],
   "source": [
    "s = 'Studies found that the financial impact of Poor-Quality data cost the US economy $3.1 trillion in 2016'\n",
    "vowels = 'aeiou'\n",
    "consonants = [letter.lower() for letter in s if letter.isalpha() and letter.lower() not in vowels]\n",
    "consonants"
   ]
  },
  {
   "cell_type": "code",
   "execution_count": 18,
   "metadata": {},
   "outputs": [
    {
     "data": {
      "text/plain": [
       "[1, 9, 25, 49, 81, 121, 169, 225, 289, 361]"
      ]
     },
     "execution_count": 18,
     "metadata": {},
     "output_type": "execute_result"
    }
   ],
   "source": [
    "# Nested list comprehensions\n",
    "lst = [num**2 for num in [n for n in range(21) if n%2 != 0]]\n",
    "lst"
   ]
  },
  {
   "cell_type": "code",
   "execution_count": 19,
   "metadata": {},
   "outputs": [
    {
     "data": {
      "text/plain": [
       "{0,\n",
       " 1,\n",
       " 2,\n",
       " 3,\n",
       " 4,\n",
       " 5,\n",
       " 6,\n",
       " 7,\n",
       " 8,\n",
       " 9,\n",
       " 10,\n",
       " 11,\n",
       " 12,\n",
       " 13,\n",
       " 14,\n",
       " 15,\n",
       " 16,\n",
       " 17,\n",
       " 18,\n",
       " 19,\n",
       " 20,\n",
       " 21,\n",
       " 22,\n",
       " 23,\n",
       " 24,\n",
       " 25}"
      ]
     },
     "execution_count": 19,
     "metadata": {},
     "output_type": "execute_result"
    }
   ],
   "source": [
    "# Using Set and Dictionary Comprehensions\n",
    "s = {n for n in range(26)}\n",
    "s"
   ]
  },
  {
   "cell_type": "code",
   "execution_count": 20,
   "metadata": {},
   "outputs": [
    {
     "data": {
      "text/plain": [
       "{(0, 0, 0),\n",
       " (1, 2, 1),\n",
       " (2, 4, 4),\n",
       " (3, 6, 9),\n",
       " (4, 8, 16),\n",
       " (5, 10, 25),\n",
       " (6, 12, 36),\n",
       " (7, 14, 49),\n",
       " (8, 16, 64),\n",
       " (9, 18, 81),\n",
       " (10, 20, 100),\n",
       " (11, 22, 121),\n",
       " (12, 24, 144),\n",
       " (13, 26, 169),\n",
       " (14, 28, 196),\n",
       " (15, 30, 225),\n",
       " (16, 32, 256),\n",
       " (17, 34, 289),\n",
       " (18, 36, 324),\n",
       " (19, 38, 361),\n",
       " (20, 40, 400),\n",
       " (21, 42, 441),\n",
       " (22, 44, 484),\n",
       " (23, 46, 529),\n",
       " (24, 48, 576),\n",
       " (25, 50, 625)}"
      ]
     },
     "execution_count": 20,
     "metadata": {},
     "output_type": "execute_result"
    }
   ],
   "source": [
    "s = {(n,n*2,n**2) for n in range(26)}\n",
    "s"
   ]
  },
  {
   "cell_type": "code",
   "execution_count": 21,
   "metadata": {},
   "outputs": [
    {
     "data": {
      "text/plain": [
       "<generator object <genexpr> at 0x000001FFED6484C8>"
      ]
     },
     "execution_count": 21,
     "metadata": {},
     "output_type": "execute_result"
    }
   ],
   "source": [
    "s = (n for n in range(26))\n",
    "s"
   ]
  },
  {
   "cell_type": "code",
   "execution_count": 22,
   "metadata": {},
   "outputs": [
    {
     "data": {
      "text/plain": [
       "{0: 0,\n",
       " 1: 1,\n",
       " 2: 4,\n",
       " 3: 9,\n",
       " 4: 16,\n",
       " 5: 25,\n",
       " 6: 36,\n",
       " 7: 49,\n",
       " 8: 64,\n",
       " 9: 81,\n",
       " 10: 100,\n",
       " 11: 121,\n",
       " 12: 144,\n",
       " 13: 169,\n",
       " 14: 196,\n",
       " 15: 225,\n",
       " 16: 256,\n",
       " 17: 289,\n",
       " 18: 324,\n",
       " 19: 361,\n",
       " 20: 400,\n",
       " 21: 441,\n",
       " 22: 484,\n",
       " 23: 529,\n",
       " 24: 576,\n",
       " 25: 625}"
      ]
     },
     "execution_count": 22,
     "metadata": {},
     "output_type": "execute_result"
    }
   ],
   "source": [
    "# Dictionary\n",
    "d = {n:n**2 for n in range(26)}\n",
    "d"
   ]
  },
  {
   "cell_type": "code",
   "execution_count": 24,
   "metadata": {},
   "outputs": [
    {
     "data": {
      "text/plain": [
       "{'Austin': [40, 41, 42, 43, 44, 45, 46, 47],\n",
       " 'Tacoma': [40, 41, 42, 43, 44, 45, 46, 47],\n",
       " 'Topeka': [40, 41, 42, 43, 44, 45, 46, 47],\n",
       " 'Sacramento': [40, 41, 42, 43, 44, 45, 46, 47],\n",
       " 'Charlotte': [40, 41, 42, 43, 44, 45, 46, 47]}"
      ]
     },
     "execution_count": 24,
     "metadata": {},
     "output_type": "execute_result"
    }
   ],
   "source": [
    "cities = ['Austin', 'Tacoma', 'Topeka', 'Sacramento', 'Charlotte']\n",
    "temps = {city:[n for n in range(40,48)] for city in cities}\n",
    "temps"
   ]
  },
  {
   "cell_type": "code",
   "execution_count": 25,
   "metadata": {},
   "outputs": [
    {
     "data": {
      "text/plain": [
       "{'Austin': 55, 'Tacoma': 72, 'Topeka': 64, 'Sacramento': 47, 'Charlotte': 70}"
      ]
     },
     "execution_count": 25,
     "metadata": {},
     "output_type": "execute_result"
    }
   ],
   "source": [
    "from random import randint\n",
    "cities = ['Austin', 'Tacoma', 'Topeka', 'Sacramento', 'Charlotte']\n",
    "temps = {city:randint(40,90) for city in cities}\n",
    "temps"
   ]
  },
  {
   "cell_type": "code",
   "execution_count": 28,
   "metadata": {},
   "outputs": [
    {
     "data": {
      "text/plain": [
       "['yes', 'no', 'yes', 'no', 'idle', 'idle', 'idle', 'idle', 'no']"
      ]
     },
     "execution_count": 28,
     "metadata": {},
     "output_type": "execute_result"
    }
   ],
   "source": [
    "# using a dictionary and list to generate a new list\n",
    "l = [1,2,1,2,3,4,5,6,2]\n",
    "d = {1:'yes',2:'no'}\n",
    "lst = [d.get(n,'idle') for n in l] \n",
    "lst\n"
   ]
  },
  {
   "cell_type": "code",
   "execution_count": 31,
   "metadata": {},
   "outputs": [
    {
     "data": {
      "text/plain": [
       "['yes', 'no', 'yes', 'no', 'idle', 'idle', 'idle', 'idle', 'no']"
      ]
     },
     "execution_count": 31,
     "metadata": {},
     "output_type": "execute_result"
    }
   ],
   "source": [
    "# No direct access to elif in list comprehension\n",
    "lst = [1,2,1,2,3,4,5,6,2]\n",
    "new_lst = ['yes' if n == 1 else 'no' if n == 2 else 'idle' for n in lst]\n",
    "new_lst"
   ]
  },
  {
   "cell_type": "code",
   "execution_count": 34,
   "metadata": {},
   "outputs": [
    {
     "data": {
      "text/plain": [
       "[0, 1, 4, 9, 16, 25, 36, 49, 64, 81, 10, 11, 12, 13, 14, 15, 16, 17, 18, 19]"
      ]
     },
     "execution_count": 34,
     "metadata": {},
     "output_type": "execute_result"
    }
   ],
   "source": [
    "lst = [n**2 if n < 10 else n for n in range(20)]\n",
    "lst"
   ]
  },
  {
   "cell_type": "code",
   "execution_count": 35,
   "metadata": {},
   "outputs": [
    {
     "data": {
      "text/plain": [
       "['accept',\n",
       " 'reject',\n",
       " 'reject',\n",
       " 'reject',\n",
       " 'accept',\n",
       " 'reject',\n",
       " 'reject',\n",
       " 'reject']"
      ]
     },
     "execution_count": 35,
     "metadata": {},
     "output_type": "execute_result"
    }
   ],
   "source": [
    "x = [5, 2, 1, 4, 5, 2,1,3]\n",
    "answer = ['accept' if n > 4 else 'reject' for n in x]\n",
    "answer"
   ]
  },
  {
   "cell_type": "code",
   "execution_count": null,
   "metadata": {},
   "outputs": [],
   "source": []
  }
 ],
 "metadata": {
  "kernelspec": {
   "display_name": "Python 3.7 - default",
   "language": "python",
   "name": "py37_default"
  },
  "language_info": {
   "codemirror_mode": {
    "name": "ipython",
    "version": 3
   },
   "file_extension": ".py",
   "mimetype": "text/x-python",
   "name": "python",
   "nbconvert_exporter": "python",
   "pygments_lexer": "ipython3",
   "version": "3.7.7"
  }
 },
 "nbformat": 4,
 "nbformat_minor": 4
}
