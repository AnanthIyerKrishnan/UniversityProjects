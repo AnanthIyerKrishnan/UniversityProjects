{
 "cells": [
  {
   "cell_type": "markdown",
   "metadata": {},
   "source": [
    "# Ramadan Abdunabi\n",
    "##  wk6 02/25/2025\n",
    "## Python for and while Loops"
   ]
  },
  {
   "cell_type": "markdown",
   "metadata": {},
   "source": [
    "**General for loops format:**\n",
    "<code>\n",
    "     for item in iterable_object:\n",
    "        statements to do work\n",
    "    </code>"
   ]
  },
  {
   "cell_type": "code",
   "execution_count": 1,
   "metadata": {},
   "outputs": [
    {
     "data": {
      "text/plain": [
       "[10, 15, 20, 25, 30, 35, 40, 45]"
      ]
     },
     "execution_count": 1,
     "metadata": {},
     "output_type": "execute_result"
    }
   ],
   "source": [
    "ls = list(range(10,50,5))\n",
    "ls"
   ]
  },
  {
   "cell_type": "code",
   "execution_count": 2,
   "metadata": {},
   "outputs": [
    {
     "name": "stdout",
     "output_type": "stream",
     "text": [
      "n= 10\n",
      "n= 15\n",
      "n= 20\n",
      "n= 25\n",
      "n= 30\n",
      "n= 35\n",
      "n= 40\n",
      "n= 45\n"
     ]
    }
   ],
   "source": [
    "for n in ls:\n",
    "    print(f'n= {n}')"
   ]
  },
  {
   "cell_type": "code",
   "execution_count": 3,
   "metadata": {},
   "outputs": [
    {
     "name": "stdout",
     "output_type": "stream",
     "text": [
      "n= 10\n",
      "n= 15\n",
      "n= 20\n",
      "n= 25\n",
      "n= 30\n",
      "n= 35\n",
      "n= 40\n",
      "n= 45\n"
     ]
    }
   ],
   "source": [
    "for n in range(10,50,5):\n",
    "    print(f'n= {n}')"
   ]
  },
  {
   "cell_type": "code",
   "execution_count": 4,
   "metadata": {},
   "outputs": [
    {
     "name": "stdout",
     "output_type": "stream",
     "text": [
      "n= 10\n",
      "n= 20\n",
      "n= 30\n",
      "n= 40\n"
     ]
    }
   ],
   "source": [
    "for n in range(10,50,5):\n",
    "    if n % 2 ==0:\n",
    "        print(f'n= {n}')"
   ]
  },
  {
   "cell_type": "code",
   "execution_count": 5,
   "metadata": {},
   "outputs": [
    {
     "name": "stdout",
     "output_type": "stream",
     "text": [
      "even= 10\n",
      "odd= 15\n",
      "even= 20\n",
      "odd= 25\n",
      "even= 30\n",
      "odd= 35\n",
      "even= 40\n",
      "odd= 45\n"
     ]
    }
   ],
   "source": [
    "for n in range(10,50,5):\n",
    "    if n % 2 ==0:\n",
    "        print(f'even= {n}')\n",
    "    else:\n",
    "        print(f'odd= {n}')"
   ]
  },
  {
   "cell_type": "code",
   "execution_count": 6,
   "metadata": {},
   "outputs": [],
   "source": [
    "even = []\n",
    "odd = []\n",
    "for n in range(10,50,5):\n",
    "    if n % 2 ==0:\n",
    "        even.append(n)\n",
    "    else:\n",
    "        odd.append(n)"
   ]
  },
  {
   "cell_type": "code",
   "execution_count": 7,
   "metadata": {},
   "outputs": [
    {
     "data": {
      "text/plain": [
       "[10, 20, 30, 40]"
      ]
     },
     "execution_count": 7,
     "metadata": {},
     "output_type": "execute_result"
    }
   ],
   "source": [
    "even"
   ]
  },
  {
   "cell_type": "code",
   "execution_count": 8,
   "metadata": {},
   "outputs": [
    {
     "data": {
      "text/plain": [
       "[15, 25, 35, 45]"
      ]
     },
     "execution_count": 8,
     "metadata": {},
     "output_type": "execute_result"
    }
   ],
   "source": [
    "odd"
   ]
  },
  {
   "cell_type": "code",
   "execution_count": 10,
   "metadata": {},
   "outputs": [
    {
     "name": "stdout",
     "output_type": "stream",
     "text": [
      "iamastudentincis310"
     ]
    }
   ],
   "source": [
    "m = 'i am a student in cis310'\n",
    "for letter in m:\n",
    "    if not letter.isspace():\n",
    "        print(letter, end='')"
   ]
  },
  {
   "cell_type": "code",
   "execution_count": 11,
   "metadata": {},
   "outputs": [
    {
     "name": "stdout",
     "output_type": "stream",
     "text": [
      "150\n"
     ]
    }
   ],
   "source": [
    "t = (10,20,30,40,50)\n",
    "s =0\n",
    "for n in t:\n",
    "    s+=n\n",
    "\n",
    "print(s)"
   ]
  },
  {
   "cell_type": "code",
   "execution_count": 12,
   "metadata": {},
   "outputs": [
    {
     "data": {
      "text/plain": [
       "150"
      ]
     },
     "execution_count": 12,
     "metadata": {},
     "output_type": "execute_result"
    }
   ],
   "source": [
    "sum(t)"
   ]
  },
  {
   "cell_type": "code",
   "execution_count": 13,
   "metadata": {},
   "outputs": [
    {
     "name": "stdout",
     "output_type": "stream",
     "text": [
      "150\n"
     ]
    }
   ],
   "source": [
    "s = {10,20,30,40,50}\n",
    "total = 0\n",
    "for n in s:\n",
    "    total+=n\n",
    "\n",
    "print(total)"
   ]
  },
  {
   "cell_type": "code",
   "execution_count": 14,
   "metadata": {},
   "outputs": [
    {
     "name": "stdout",
     "output_type": "stream",
     "text": [
      "name\n",
      "age\n",
      "id\n"
     ]
    }
   ],
   "source": [
    "d = {'name':'Alice', 'age':35, 'id':222222}\n",
    "for item in d:\n",
    "    print(item)"
   ]
  },
  {
   "cell_type": "code",
   "execution_count": 15,
   "metadata": {},
   "outputs": [
    {
     "name": "stdout",
     "output_type": "stream",
     "text": [
      "Alice\n",
      "35\n",
      "222222\n"
     ]
    }
   ],
   "source": [
    "for item in d:\n",
    "    print(d[item])"
   ]
  },
  {
   "cell_type": "code",
   "execution_count": 16,
   "metadata": {},
   "outputs": [
    {
     "name": "stdout",
     "output_type": "stream",
     "text": [
      "Alice\n",
      "35\n",
      "222222\n"
     ]
    }
   ],
   "source": [
    "for value in d.values():\n",
    "    print(value)"
   ]
  },
  {
   "cell_type": "code",
   "execution_count": 17,
   "metadata": {},
   "outputs": [
    {
     "name": "stdout",
     "output_type": "stream",
     "text": [
      "('name', 'Alice')\n",
      "('age', 35)\n",
      "('id', 222222)\n"
     ]
    }
   ],
   "source": [
    "for item in d.items():\n",
    "    print(item)"
   ]
  },
  {
   "cell_type": "code",
   "execution_count": 18,
   "metadata": {},
   "outputs": [
    {
     "name": "stdout",
     "output_type": "stream",
     "text": [
      "name\n",
      "Alice\n",
      "age\n",
      "35\n",
      "id\n",
      "222222\n"
     ]
    }
   ],
   "source": [
    "for (k,v) in d.items():\n",
    "    print(k)\n",
    "    print(v)"
   ]
  },
  {
   "cell_type": "code",
   "execution_count": 19,
   "metadata": {},
   "outputs": [
    {
     "name": "stdout",
     "output_type": "stream",
     "text": [
      "0\n",
      "1\n",
      "2\n",
      "3\n",
      "4\n",
      "5\n",
      "6\n",
      "7\n",
      "8\n",
      "9\n",
      "10\n",
      "11\n",
      "12\n",
      "13\n",
      "14\n",
      "15\n",
      "16\n",
      "17\n",
      "18\n",
      "19\n"
     ]
    }
   ],
   "source": [
    "for n in range(20):\n",
    "    print(n)"
   ]
  },
  {
   "cell_type": "code",
   "execution_count": 28,
   "metadata": {},
   "outputs": [],
   "source": [
    "import random\n",
    "lst = []\n",
    "for _ in range(20):\n",
    "    lst.append(int(random.random() * 100))"
   ]
  },
  {
   "cell_type": "code",
   "execution_count": 29,
   "metadata": {},
   "outputs": [
    {
     "data": {
      "text/plain": [
       "[86, 66, 52, 60, 29, 15, 28, 38, 5, 21, 17, 17, 84, 26, 52, 36, 32, 0, 53, 69]"
      ]
     },
     "execution_count": 29,
     "metadata": {},
     "output_type": "execute_result"
    }
   ],
   "source": [
    "lst"
   ]
  },
  {
   "cell_type": "code",
   "execution_count": 31,
   "metadata": {},
   "outputs": [
    {
     "name": "stdout",
     "output_type": "stream",
     "text": [
      "('red', 10)\n",
      "('blue', 8)\n",
      "('green', 6)\n"
     ]
    }
   ],
   "source": [
    "# loop over zipped objects\n",
    "colors = ['red', 'blue', 'green']\n",
    "ratio = [10, 8, 6,9 ]\n",
    "\n",
    "for item in zip(colors,ratio):\n",
    "    print(item)\n"
   ]
  },
  {
   "cell_type": "code",
   "execution_count": 32,
   "metadata": {},
   "outputs": [
    {
     "name": "stdout",
     "output_type": "stream",
     "text": [
      "red\n",
      "blue\n",
      "green\n"
     ]
    }
   ],
   "source": [
    "for c,r in zip(colors,ratio):\n",
    "    print(c)"
   ]
  },
  {
   "cell_type": "code",
   "execution_count": 33,
   "metadata": {},
   "outputs": [
    {
     "name": "stdout",
     "output_type": "stream",
     "text": [
      "10\n",
      "8\n",
      "6\n"
     ]
    }
   ],
   "source": [
    "for c,r in zip(colors,ratio):\n",
    "    print(r)"
   ]
  },
  {
   "cell_type": "code",
   "execution_count": 34,
   "metadata": {},
   "outputs": [
    {
     "name": "stdout",
     "output_type": "stream",
     "text": [
      "('red', 10)\n",
      "('blue', 8)\n",
      "('green', 6)\n"
     ]
    }
   ],
   "source": [
    "for item in zip(colors,ratio):\n",
    "    print(item)"
   ]
  },
  {
   "cell_type": "code",
   "execution_count": 35,
   "metadata": {},
   "outputs": [
    {
     "name": "stdout",
     "output_type": "stream",
     "text": [
      "red\n",
      "blue\n",
      "green\n"
     ]
    }
   ],
   "source": [
    "for item in zip(colors,ratio):\n",
    "    print(item[0])"
   ]
  },
  {
   "cell_type": "code",
   "execution_count": 36,
   "metadata": {},
   "outputs": [
    {
     "name": "stdout",
     "output_type": "stream",
     "text": [
      "10\n",
      "8\n",
      "6\n"
     ]
    }
   ],
   "source": [
    "for item in zip(colors,ratio):\n",
    "    print(item[1])"
   ]
  },
  {
   "cell_type": "code",
   "execution_count": 37,
   "metadata": {},
   "outputs": [],
   "source": [
    "d = {}\n",
    "for item in zip(colors,ratio):\n",
    "    d[item[0]] = item[1]"
   ]
  },
  {
   "cell_type": "code",
   "execution_count": 38,
   "metadata": {},
   "outputs": [
    {
     "data": {
      "text/plain": [
       "{'red': 10, 'blue': 8, 'green': 6}"
      ]
     },
     "execution_count": 38,
     "metadata": {},
     "output_type": "execute_result"
    }
   ],
   "source": [
    "d"
   ]
  },
  {
   "cell_type": "code",
   "execution_count": 1,
   "metadata": {},
   "outputs": [
    {
     "name": "stdout",
     "output_type": "stream",
     "text": [
      "Apple\n",
      "Banana\n",
      "Cherry\n",
      "Orange\n"
     ]
    }
   ],
   "source": [
    "# break and continue\n",
    "fruits = ['Apple', \"Banana\", 'Cherry', 'Orange']\n",
    "for fruit in fruits:\n",
    "    print(fruit)"
   ]
  },
  {
   "cell_type": "code",
   "execution_count": 4,
   "metadata": {},
   "outputs": [
    {
     "name": "stdout",
     "output_type": "stream",
     "text": [
      "Apple\n"
     ]
    }
   ],
   "source": [
    "for fruit in fruits:\n",
    "    if fruit == 'Banana':\n",
    "        break\n",
    "    print(fruit)"
   ]
  },
  {
   "cell_type": "code",
   "execution_count": 5,
   "metadata": {},
   "outputs": [
    {
     "name": "stdout",
     "output_type": "stream",
     "text": [
      "Apple\n",
      "Cherry\n",
      "Orange\n"
     ]
    }
   ],
   "source": [
    "# continue\n",
    "for fruit in fruits:\n",
    "    if fruit == 'Banana':\n",
    "        continue\n",
    "    print(fruit)"
   ]
  },
  {
   "cell_type": "code",
   "execution_count": 6,
   "metadata": {},
   "outputs": [
    {
     "name": "stdout",
     "output_type": "stream",
     "text": [
      "Apple\n",
      "Banana\n",
      "Cherry\n",
      "Orange\n"
     ]
    }
   ],
   "source": [
    "# How to loop with index in python\n",
    "for fruit in fruits:\n",
    "    print(fruit)"
   ]
  },
  {
   "cell_type": "code",
   "execution_count": 7,
   "metadata": {},
   "outputs": [
    {
     "name": "stdout",
     "output_type": "stream",
     "text": [
      "Orange\n",
      "Cherry\n",
      "Banana\n",
      "Apple\n"
     ]
    }
   ],
   "source": [
    "for fruit in fruits[::-1]:\n",
    "    print(fruit)"
   ]
  },
  {
   "cell_type": "code",
   "execution_count": 8,
   "metadata": {},
   "outputs": [
    {
     "data": {
      "text/plain": [
       "4"
      ]
     },
     "execution_count": 8,
     "metadata": {},
     "output_type": "execute_result"
    }
   ],
   "source": [
    "# index\n",
    "len(fruits)"
   ]
  },
  {
   "cell_type": "code",
   "execution_count": 9,
   "metadata": {},
   "outputs": [
    {
     "name": "stdout",
     "output_type": "stream",
     "text": [
      "Apple\n",
      "Banana\n",
      "Cherry\n",
      "Orange\n"
     ]
    }
   ],
   "source": [
    "index = 0\n",
    "for _ in fruits:\n",
    "    print(fruits[index])\n",
    "    index+=1"
   ]
  },
  {
   "cell_type": "code",
   "execution_count": 11,
   "metadata": {},
   "outputs": [
    {
     "data": {
      "text/plain": [
       "range(0, 4)"
      ]
     },
     "execution_count": 11,
     "metadata": {},
     "output_type": "execute_result"
    }
   ],
   "source": [
    "range(len(fruits))"
   ]
  },
  {
   "cell_type": "code",
   "execution_count": 12,
   "metadata": {},
   "outputs": [
    {
     "name": "stdout",
     "output_type": "stream",
     "text": [
      "Apple\n",
      "Banana\n",
      "Cherry\n",
      "Orange\n"
     ]
    }
   ],
   "source": [
    "for i in range(len(fruits)):\n",
    "    print(fruits[i])"
   ]
  },
  {
   "cell_type": "code",
   "execution_count": 13,
   "metadata": {},
   "outputs": [
    {
     "name": "stdout",
     "output_type": "stream",
     "text": [
      "0 Apple\n",
      "1 Banana\n",
      "2 Cherry\n",
      "3 Orange\n"
     ]
    }
   ],
   "source": [
    "#Pythons built in enumerate function\n",
    "for idx, item  in enumerate(fruits):\n",
    "    print(idx, item)"
   ]
  },
  {
   "cell_type": "code",
   "execution_count": 14,
   "metadata": {},
   "outputs": [
    {
     "name": "stdout",
     "output_type": "stream",
     "text": [
      "1 Apple\n",
      "2 Banana\n",
      "3 Cherry\n",
      "4 Orange\n"
     ]
    }
   ],
   "source": [
    "for idx, item  in enumerate(fruits,start=1):\n",
    "    print(idx, item)"
   ]
  },
  {
   "cell_type": "code",
   "execution_count": 18,
   "metadata": {},
   "outputs": [
    {
     "name": "stdout",
     "output_type": "stream",
     "text": [
      "20%, red\n",
      "30%, green\n",
      "40%, blue\n",
      "10%, purple\n"
     ]
    }
   ],
   "source": [
    "# what we should do if we need to loop over multiple collections? \n",
    "# Without nested loop\n",
    "colors =['red', 'green', 'blue','purple']\n",
    "ratios= (0.2,0.3,0.4,0.1)\n",
    "\n",
    "# index\n",
    "for idx in range(len(colors)):\n",
    "    print(f\"{int(ratios[idx]*100)}%, {colors[idx]}\")"
   ]
  },
  {
   "cell_type": "code",
   "execution_count": 20,
   "metadata": {},
   "outputs": [
    {
     "name": "stdout",
     "output_type": "stream",
     "text": [
      "20%, red\n",
      "30%, green\n",
      "40%, blue\n",
      "10%, purple\n"
     ]
    }
   ],
   "source": [
    "#enumerate\n",
    "for idx, color in enumerate(colors):\n",
    "    print(f\"{int(ratios[idx]*100)}%, {color}\")"
   ]
  },
  {
   "cell_type": "code",
   "execution_count": 21,
   "metadata": {},
   "outputs": [
    {
     "name": "stdout",
     "output_type": "stream",
     "text": [
      "20%, red\n",
      "30%, green\n",
      "40%, blue\n",
      "10%, purple\n"
     ]
    }
   ],
   "source": [
    "#zip\n",
    "for item in zip(ratios,colors):\n",
    "    print(f\"{int(item[0]*100)}%, {item[1]}\")"
   ]
  },
  {
   "cell_type": "code",
   "execution_count": 22,
   "metadata": {},
   "outputs": [
    {
     "name": "stdout",
     "output_type": "stream",
     "text": [
      "20%, red\n",
      "30%, green\n",
      "40%, blue\n",
      "10%, purple\n"
     ]
    }
   ],
   "source": [
    "for r,c in zip(ratios,colors):\n",
    "    print(f\"{int(r*100)}%, {c}\")"
   ]
  },
  {
   "cell_type": "code",
   "execution_count": 24,
   "metadata": {},
   "outputs": [],
   "source": [
    "# pass\n",
    "for r,c in zip(ratios,colors):\n",
    "    pass"
   ]
  },
  {
   "cell_type": "code",
   "execution_count": null,
   "metadata": {},
   "outputs": [],
   "source": [
    "|"
   ]
  }
 ],
 "metadata": {
  "kernelspec": {
   "display_name": "Python 3.7 - default",
   "language": "python",
   "name": "py37_default"
  },
  "language_info": {
   "codemirror_mode": {
    "name": "ipython",
    "version": 3
   },
   "file_extension": ".py",
   "mimetype": "text/x-python",
   "name": "python",
   "nbconvert_exporter": "python",
   "pygments_lexer": "ipython3",
   "version": "3.7.7"
  }
 },
 "nbformat": 4,
 "nbformat_minor": 4
}
