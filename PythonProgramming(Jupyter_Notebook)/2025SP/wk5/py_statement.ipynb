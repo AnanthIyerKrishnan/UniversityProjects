{
 "cells": [
  {
   "cell_type": "markdown",
   "metadata": {},
   "source": [
    "# Ramadan Abdunabi\n",
    "## Date: 02/20/2025 - 02/25/2025\n",
    "### Python Statements [if,else,elif]"
   ]
  },
  {
   "cell_type": "markdown",
   "metadata": {},
   "source": [
    "**the format of the if-statement**\n",
    "```\n",
    "if condition1:\n",
    "   perform action1\n",
    "elif condition2:\n",
    "   perform action2\n",
    "else:\n",
    "    perform action3\n",
    "```\n"
   ]
  },
  {
   "cell_type": "code",
   "execution_count": 4,
   "metadata": {},
   "outputs": [
    {
     "name": "stdout",
     "output_type": "stream",
     "text": [
      "Let's Try Again\n"
     ]
    }
   ],
   "source": [
    "value = 6\n",
    "\n",
    "if value == 5:\n",
    "    print('Hi Five!')\n",
    "else:\n",
    "    print(\"Let's Try Again\")"
   ]
  },
  {
   "cell_type": "code",
   "execution_count": 7,
   "metadata": {},
   "outputs": [
    {
     "name": "stdout",
     "output_type": "stream",
     "text": [
      "test1 and test2 scores are equal!\n"
     ]
    }
   ],
   "source": [
    "#if-elif statement\n",
    "\n",
    "test1, test2 = 75, 75\n",
    "if (test1 > test2):\n",
    "    print(\"test1 is greater than test2\")\n",
    "    print(\"You may think to redo test2!\")\n",
    "elif test2 > test1:\n",
    "    print(\"test2 is greater than test1\")\n",
    "    print(\"you may think about redoing test1, instead\")\n",
    "else:\n",
    "    print(\"test1 and test2 scores are equal!\")"
   ]
  },
  {
   "cell_type": "code",
   "execution_count": 8,
   "metadata": {},
   "outputs": [
    {
     "name": "stdout",
     "output_type": "stream",
     "text": [
      "Enter Integer Value: 80\n",
      "s is above 40\n",
      " and s is also above 60!\n"
     ]
    }
   ],
   "source": [
    "#Nested if statement\n",
    "s = int(input('Enter Integer Value: '))\n",
    "\n",
    "if s > 40:\n",
    "    print(\"s is above 40\") \n",
    "    if s > 60:\n",
    "        print(\" and s is also above 60!\")\n",
    "    elif s > 50:\n",
    "        print(\" and s is also above 50!\")\n",
    "    else:\n",
    "        print (\"s is below 50\")\n",
    "else:\n",
    "    print(\" s is also below 40!\")"
   ]
  },
  {
   "cell_type": "code",
   "execution_count": 10,
   "metadata": {},
   "outputs": [
    {
     "name": "stdout",
     "output_type": "stream",
     "text": [
      "test1 is greater than test2\n"
     ]
    }
   ],
   "source": [
    "# One-Line if Statements\n",
    "test1 , test2 = 80,70\n",
    "if test1 > test2: print(\"test1 is greater than test2\") "
   ]
  },
  {
   "cell_type": "code",
   "execution_count": 11,
   "metadata": {},
   "outputs": [
    {
     "name": "stdout",
     "output_type": "stream",
     "text": [
      "1\n",
      "2\n",
      "3\n"
     ]
    }
   ],
   "source": [
    "if 'c' in 'cis': print('1'); print('2'); print('3')"
   ]
  },
  {
   "cell_type": "code",
   "execution_count": 13,
   "metadata": {},
   "outputs": [
    {
     "name": "stdout",
     "output_type": "stream",
     "text": [
      "Alice\n",
      "Alice\n"
     ]
    }
   ],
   "source": [
    "d = {'name': 'Alice', 'age':25}\n",
    "if 'name' in d.keys(): print(d['name'])\n",
    "if 'Alice' in d.values(): print(d['name'])"
   ]
  },
  {
   "cell_type": "code",
   "execution_count": 2,
   "metadata": {},
   "outputs": [
    {
     "name": "stdout",
     "output_type": "stream",
     "text": [
      "test1\n"
     ]
    }
   ],
   "source": [
    "test1, test2 = 80, 75\n",
    "print('test1') if test1 > test2 else print('test2')"
   ]
  },
  {
   "cell_type": "code",
   "execution_count": 3,
   "metadata": {},
   "outputs": [
    {
     "name": "stdout",
     "output_type": "stream",
     "text": [
      "Let's head out for a run\n"
     ]
    }
   ],
   "source": [
    "raining = False\n",
    "print(\"Let's head out for a\",'run' if not raining else 'rec center')"
   ]
  },
  {
   "cell_type": "code",
   "execution_count": 4,
   "metadata": {},
   "outputs": [
    {
     "data": {
      "text/plain": [
       "dict_keys(['Fred', 'Remi', 'Joe', 'Alice'])"
      ]
     },
     "execution_count": 4,
     "metadata": {},
     "output_type": "execute_result"
    }
   ],
   "source": [
    "# easy way to use built in functions,instead of if statement\n",
    "names = {'Fred': 'Hello Fred', 'Remi': 'Hello Remi', 'Joe': 'Hello Joe', 'Alice': 'Hello Alice'}\n",
    "names.keys()"
   ]
  },
  {
   "cell_type": "code",
   "execution_count": 5,
   "metadata": {},
   "outputs": [
    {
     "name": "stdout",
     "output_type": "stream",
     "text": [
      "Hello Joe\n"
     ]
    }
   ],
   "source": [
    "if 'Joe' in names.keys():\n",
    "    print(names['Joe'])\n",
    "else:\n",
    "    print(\"I don't know who you are!\")"
   ]
  },
  {
   "cell_type": "code",
   "execution_count": 8,
   "metadata": {},
   "outputs": [
    {
     "name": "stdout",
     "output_type": "stream",
     "text": [
      "I don't know who you are!\n"
     ]
    }
   ],
   "source": [
    "print(names['joe']) if 'joe' in names.keys() else print(\"I don't know who you are!\")  "
   ]
  },
  {
   "cell_type": "code",
   "execution_count": 11,
   "metadata": {},
   "outputs": [
    {
     "data": {
      "text/plain": [
       "'Hello Joe'"
      ]
     },
     "execution_count": 11,
     "metadata": {},
     "output_type": "execute_result"
    }
   ],
   "source": [
    "# Using dictionary function\n",
    "names.get('Joe',\"I don't know who you are!\")"
   ]
  },
  {
   "cell_type": "code",
   "execution_count": 12,
   "metadata": {},
   "outputs": [
    {
     "ename": "KeyError",
     "evalue": "'joe'",
     "output_type": "error",
     "traceback": [
      "\u001b[1;31m---------------------------------------------------------------------------\u001b[0m",
      "\u001b[1;31mKeyError\u001b[0m                                  Traceback (most recent call last)",
      "\u001b[1;32m<ipython-input-12-9ab2cfe29218>\u001b[0m in \u001b[0;36m<module>\u001b[1;34m\u001b[0m\n\u001b[1;32m----> 1\u001b[1;33m \u001b[0mnames\u001b[0m\u001b[1;33m[\u001b[0m\u001b[1;34m'joe'\u001b[0m\u001b[1;33m]\u001b[0m\u001b[1;33m\u001b[0m\u001b[1;33m\u001b[0m\u001b[0m\n\u001b[0m",
      "\u001b[1;31mKeyError\u001b[0m: 'joe'"
     ]
    }
   ],
   "source": [
    "names['joe']"
   ]
  },
  {
   "cell_type": "code",
   "execution_count": null,
   "metadata": {},
   "outputs": [],
   "source": []
  }
 ],
 "metadata": {
  "kernelspec": {
   "display_name": "Python 3.7 - default",
   "language": "python",
   "name": "py37_default"
  },
  "language_info": {
   "codemirror_mode": {
    "name": "ipython",
    "version": 3
   },
   "file_extension": ".py",
   "mimetype": "text/x-python",
   "name": "python",
   "nbconvert_exporter": "python",
   "pygments_lexer": "ipython3",
   "version": "3.7.7"
  }
 },
 "nbformat": 4,
 "nbformat_minor": 4
}
