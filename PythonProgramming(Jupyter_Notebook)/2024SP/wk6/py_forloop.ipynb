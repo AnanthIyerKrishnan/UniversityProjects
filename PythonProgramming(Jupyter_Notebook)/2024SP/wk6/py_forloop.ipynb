{
 "cells": [
  {
   "cell_type": "markdown",
   "metadata": {},
   "source": [
    "# Ramadan Abdunabi\n",
    "## Wekk5 02/20/2024\n",
    "### Python For Loop"
   ]
  },
  {
   "cell_type": "markdown",
   "metadata": {},
   "source": [
    "** General for loops format: **\n",
    "<code> \n",
    "    for item in object:\n",
    "        statements to do work </code>"
   ]
  },
  {
   "cell_type": "code",
   "execution_count": 1,
   "metadata": {},
   "outputs": [],
   "source": [
    "sc =[68,87,90,89, 92, 78, 88, 75, 79, 85]"
   ]
  },
  {
   "cell_type": "code",
   "execution_count": 2,
   "metadata": {},
   "outputs": [
    {
     "name": "stdout",
     "output_type": "stream",
     "text": [
      "n = 68\n",
      "n = 87\n",
      "n = 90\n",
      "n = 89\n",
      "n = 92\n",
      "n = 78\n",
      "n = 88\n",
      "n = 75\n",
      "n = 79\n",
      "n = 85\n"
     ]
    }
   ],
   "source": [
    "for n in sc:\n",
    "    print(f'n = {n}')"
   ]
  },
  {
   "cell_type": "code",
   "execution_count": 3,
   "metadata": {},
   "outputs": [
    {
     "name": "stdout",
     "output_type": "stream",
     "text": [
      "n = 85\n",
      "n = 79\n",
      "n = 75\n",
      "n = 88\n",
      "n = 78\n",
      "n = 92\n",
      "n = 89\n",
      "n = 90\n",
      "n = 87\n",
      "n = 68\n"
     ]
    }
   ],
   "source": [
    "for n in sc[::-1]:\n",
    "    print(f'n = {n}')"
   ]
  },
  {
   "cell_type": "code",
   "execution_count": 4,
   "metadata": {},
   "outputs": [
    {
     "data": {
      "text/plain": [
       "0"
      ]
     },
     "execution_count": 4,
     "metadata": {},
     "output_type": "execute_result"
    }
   ],
   "source": [
    "#print even and odd numbers in the list\n",
    "4%2"
   ]
  },
  {
   "cell_type": "code",
   "execution_count": 6,
   "metadata": {},
   "outputs": [
    {
     "name": "stdout",
     "output_type": "stream",
     "text": [
      "even = 68\n",
      "even = 90\n",
      "even = 92\n",
      "even = 78\n",
      "even = 88\n"
     ]
    }
   ],
   "source": [
    "for n in sc:\n",
    "    if n%2 == 0:\n",
    "        print(f'even = {n}')"
   ]
  },
  {
   "cell_type": "code",
   "execution_count": 8,
   "metadata": {},
   "outputs": [
    {
     "name": "stdout",
     "output_type": "stream",
     "text": [
      "even = 68\n",
      "odd = 87\n",
      "even = 90\n",
      "odd = 89\n",
      "even = 92\n",
      "even = 78\n",
      "even = 88\n",
      "odd = 75\n",
      "odd = 79\n",
      "odd = 85\n"
     ]
    }
   ],
   "source": [
    "for n in sc:\n",
    "    if n%2 == 0:\n",
    "        print(f'even = {n}')\n",
    "    else:\n",
    "        print(f'odd = {n}')"
   ]
  },
  {
   "cell_type": "code",
   "execution_count": 9,
   "metadata": {},
   "outputs": [
    {
     "name": "stdout",
     "output_type": "stream",
     "text": [
      "even = 68\n",
      "odd = 87\n",
      "even = 90\n",
      "odd = 89\n",
      "even = 92\n",
      "even = 78\n",
      "even = 88\n",
      "odd = 75\n",
      "odd = 79\n",
      "odd = 85\n"
     ]
    }
   ],
   "source": [
    "for n in sc:\n",
    "    if n%2 == 0:\n",
    "        print(f'even = {n}')\n",
    "    else:\n",
    "        print(f'odd = {n}')"
   ]
  },
  {
   "cell_type": "code",
   "execution_count": 10,
   "metadata": {},
   "outputs": [],
   "source": [
    "even=[]\n",
    "odd = []\n",
    "for n in sc:\n",
    "    if n%2== 0:\n",
    "        even.append(n)"
   ]
  },
  {
   "cell_type": "code",
   "execution_count": 12,
   "metadata": {},
   "outputs": [
    {
     "name": "stdout",
     "output_type": "stream",
     "text": [
      "[68, 90, 92, 78, 88]\n"
     ]
    }
   ],
   "source": [
    "print(even)"
   ]
  },
  {
   "cell_type": "code",
   "execution_count": 13,
   "metadata": {},
   "outputs": [
    {
     "name": "stdout",
     "output_type": "stream",
     "text": [
      "[68, 90, 92, 78, 88]\n"
     ]
    }
   ],
   "source": [
    "print(even)"
   ]
  },
  {
   "cell_type": "code",
   "execution_count": 14,
   "metadata": {},
   "outputs": [],
   "source": [
    "even=[]\n",
    "odd = []\n",
    "for n in sc:\n",
    "    if n%2== 0:\n",
    "        even.append(n)\n",
    "    else:\n",
    "        odd.append(n)"
   ]
  },
  {
   "cell_type": "code",
   "execution_count": 16,
   "metadata": {},
   "outputs": [
    {
     "data": {
      "text/plain": [
       "[68, 90, 92, 78, 88]"
      ]
     },
     "execution_count": 16,
     "metadata": {},
     "output_type": "execute_result"
    }
   ],
   "source": [
    "even"
   ]
  },
  {
   "cell_type": "code",
   "execution_count": 17,
   "metadata": {},
   "outputs": [
    {
     "data": {
      "text/plain": [
       "[87, 89, 75, 79, 85]"
      ]
     },
     "execution_count": 17,
     "metadata": {},
     "output_type": "execute_result"
    }
   ],
   "source": [
    "odd"
   ]
  },
  {
   "cell_type": "code",
   "execution_count": 19,
   "metadata": {},
   "outputs": [
    {
     "name": "stdout",
     "output_type": "stream",
     "text": [
      "n= 68\n",
      "n= 87\n",
      "n= 90\n",
      "n= 89\n",
      "n= 92\n",
      "n= 78\n",
      "n= 88\n",
      "n= 75\n",
      "n= 79\n",
      "n= 85\n",
      "831\n"
     ]
    }
   ],
   "source": [
    "# average of the scores\n",
    "sum = 0\n",
    "for n in sc:\n",
    "    sum+=n\n",
    "    print(f'n= {n}')\n",
    "    \n",
    "print(sum)"
   ]
  },
  {
   "cell_type": "code",
   "execution_count": 22,
   "metadata": {},
   "outputs": [
    {
     "name": "stdout",
     "output_type": "stream",
     "text": [
      "av= 83.1\n"
     ]
    }
   ],
   "source": [
    "sum = 0\n",
    "for n in sc:\n",
    "    sum+=n\n",
    "    \n",
    "print(f'av= {sum/len(sc)}')"
   ]
  },
  {
   "cell_type": "code",
   "execution_count": 23,
   "metadata": {},
   "outputs": [
    {
     "name": "stdout",
     "output_type": "stream",
     "text": [
      "av= 6.8\n",
      "av= 15.5\n",
      "av= 24.5\n",
      "av= 33.4\n",
      "av= 42.6\n",
      "av= 50.4\n",
      "av= 59.2\n",
      "av= 66.7\n",
      "av= 74.6\n",
      "av= 83.1\n"
     ]
    }
   ],
   "source": [
    "s=0\n",
    "for n in sc:\n",
    "    s+=n\n",
    "    print(f'av= {s/len(sc)}')"
   ]
  },
  {
   "cell_type": "code",
   "execution_count": 24,
   "metadata": {},
   "outputs": [
    {
     "name": "stdout",
     "output_type": "stream",
     "text": [
      "av= 6.8\n",
      "av= 15.5\n",
      "av= 24.5\n",
      "av= 33.4\n",
      "av= 42.6\n",
      "av= 50.4\n",
      "av= 59.2\n",
      "av= 66.7\n",
      "av= 74.6\n",
      "av= 83.1\n"
     ]
    }
   ],
   "source": [
    "s=0\n",
    "for n in sc:\n",
    "    s+=n\n",
    "    \n",
    "    print(f'av= {s/len(sc)}')"
   ]
  },
  {
   "cell_type": "code",
   "execution_count": 26,
   "metadata": {},
   "outputs": [
    {
     "name": "stdout",
     "output_type": "stream",
     "text": [
      "i am a student in cis310"
     ]
    }
   ],
   "source": [
    "for letter in 'i am a student in cis310':\n",
    "    if letter.isspace:\n",
    "        print(letter, end='')"
   ]
  },
  {
   "cell_type": "code",
   "execution_count": 29,
   "metadata": {},
   "outputs": [
    {
     "name": "stdout",
     "output_type": "stream",
     "text": [
      "iamastudentincis310"
     ]
    }
   ],
   "source": [
    "for letter in 'i am a student in cis310':\n",
    "    if not letter.isspace():\n",
    "        print(letter, end='')"
   ]
  },
  {
   "cell_type": "code",
   "execution_count": 30,
   "metadata": {},
   "outputs": [
    {
     "name": "stdout",
     "output_type": "stream",
     "text": [
      "iamastudentincis310"
     ]
    }
   ],
   "source": [
    "for letter in 'i am a student in cis310':\n",
    "    if not letter.isspace():\n",
    "        print(letter, end='')"
   ]
  },
  {
   "cell_type": "code",
   "execution_count": 31,
   "metadata": {},
   "outputs": [
    {
     "name": "stdout",
     "output_type": "stream",
     "text": [
      "5\n",
      "6\n",
      "8\n"
     ]
    }
   ],
   "source": [
    "#tuple\n",
    "t= (5,6,8)\n",
    "for n in t:\n",
    "    print(n)"
   ]
  },
  {
   "cell_type": "code",
   "execution_count": 32,
   "metadata": {},
   "outputs": [
    {
     "name": "stdout",
     "output_type": "stream",
     "text": [
      "8\n",
      "5\n",
      "6\n"
     ]
    }
   ],
   "source": [
    "#set\n",
    "s= {5,6,8}\n",
    "for n in s:\n",
    "    print(n)"
   ]
  },
  {
   "cell_type": "code",
   "execution_count": 33,
   "metadata": {},
   "outputs": [],
   "source": [
    "lst1=['red', 'blue', 'green']\n",
    "lst2 =[10, 8, 6,9 ]\n",
    "lst = list(zip(lst1,lst2))"
   ]
  },
  {
   "cell_type": "code",
   "execution_count": 34,
   "metadata": {},
   "outputs": [
    {
     "data": {
      "text/plain": [
       "[('red', 10), ('blue', 8), ('green', 6)]"
      ]
     },
     "execution_count": 34,
     "metadata": {},
     "output_type": "execute_result"
    }
   ],
   "source": [
    "lst"
   ]
  },
  {
   "cell_type": "code",
   "execution_count": 35,
   "metadata": {},
   "outputs": [
    {
     "name": "stdout",
     "output_type": "stream",
     "text": [
      "('red', 10)\n",
      "('blue', 8)\n",
      "('green', 6)\n"
     ]
    }
   ],
   "source": [
    "for item in lst:\n",
    "    print(item)"
   ]
  },
  {
   "cell_type": "code",
   "execution_count": 36,
   "metadata": {},
   "outputs": [
    {
     "name": "stdout",
     "output_type": "stream",
     "text": [
      "red\n",
      "blue\n",
      "green\n"
     ]
    }
   ],
   "source": [
    "for (t1,t2) in lst:\n",
    "    print(t1)"
   ]
  },
  {
   "cell_type": "code",
   "execution_count": 37,
   "metadata": {},
   "outputs": [
    {
     "name": "stdout",
     "output_type": "stream",
     "text": [
      "10\n",
      "8\n",
      "6\n"
     ]
    }
   ],
   "source": [
    "for (t1,t2) in lst:\n",
    "    print(t2)"
   ]
  },
  {
   "cell_type": "code",
   "execution_count": 38,
   "metadata": {},
   "outputs": [
    {
     "name": "stdout",
     "output_type": "stream",
     "text": [
      "red\n",
      "blue\n",
      "green\n"
     ]
    }
   ],
   "source": [
    "for item in lst:\n",
    "    print (item[0])"
   ]
  },
  {
   "cell_type": "code",
   "execution_count": 39,
   "metadata": {},
   "outputs": [
    {
     "name": "stdout",
     "output_type": "stream",
     "text": [
      "10\n",
      "8\n",
      "6\n"
     ]
    }
   ],
   "source": [
    "for item in lst:\n",
    "    print (item[-1])"
   ]
  },
  {
   "cell_type": "code",
   "execution_count": 40,
   "metadata": {},
   "outputs": [],
   "source": [
    "d= {\"brand\": \"ford\", \"model\": \"mustang\", \"year\":1964}"
   ]
  },
  {
   "cell_type": "code",
   "execution_count": 41,
   "metadata": {},
   "outputs": [
    {
     "data": {
      "text/plain": [
       "dict_keys(['brand', 'model', 'year'])"
      ]
     },
     "execution_count": 41,
     "metadata": {},
     "output_type": "execute_result"
    }
   ],
   "source": [
    "d.keys()"
   ]
  },
  {
   "cell_type": "code",
   "execution_count": 42,
   "metadata": {},
   "outputs": [
    {
     "data": {
      "text/plain": [
       "dict_values(['ford', 'mustang', 1964])"
      ]
     },
     "execution_count": 42,
     "metadata": {},
     "output_type": "execute_result"
    }
   ],
   "source": [
    "d.values()"
   ]
  },
  {
   "cell_type": "code",
   "execution_count": 43,
   "metadata": {},
   "outputs": [
    {
     "name": "stdout",
     "output_type": "stream",
     "text": [
      "brand\n",
      "model\n",
      "year\n"
     ]
    }
   ],
   "source": [
    "for item in d:\n",
    "    print(item)"
   ]
  },
  {
   "cell_type": "code",
   "execution_count": 45,
   "metadata": {},
   "outputs": [
    {
     "name": "stdout",
     "output_type": "stream",
     "text": [
      "ford\n",
      "mustang\n",
      "1964\n"
     ]
    }
   ],
   "source": [
    "for item in d:\n",
    "    print(d[item])"
   ]
  },
  {
   "cell_type": "code",
   "execution_count": 48,
   "metadata": {},
   "outputs": [
    {
     "name": "stdout",
     "output_type": "stream",
     "text": [
      "ford\n",
      "mustang\n",
      "1964\n"
     ]
    }
   ],
   "source": [
    "for v in d.values():\n",
    "    print(v)"
   ]
  },
  {
   "cell_type": "code",
   "execution_count": 49,
   "metadata": {},
   "outputs": [
    {
     "name": "stdout",
     "output_type": "stream",
     "text": [
      "ford\n",
      "mustang\n",
      "1964\n"
     ]
    }
   ],
   "source": [
    "for item in d.values():\n",
    "    print(item)"
   ]
  },
  {
   "cell_type": "code",
   "execution_count": 50,
   "metadata": {},
   "outputs": [
    {
     "name": "stdout",
     "output_type": "stream",
     "text": [
      "('brand', 'ford')\n",
      "('model', 'mustang')\n",
      "('year', 1964)\n"
     ]
    }
   ],
   "source": [
    "for item in d.items():\n",
    "    print(item)"
   ]
  },
  {
   "cell_type": "code",
   "execution_count": 51,
   "metadata": {},
   "outputs": [
    {
     "name": "stdout",
     "output_type": "stream",
     "text": [
      "brand\n",
      "model\n",
      "year\n"
     ]
    }
   ],
   "source": [
    "for item in d.items():\n",
    "    print(item[0])"
   ]
  },
  {
   "cell_type": "code",
   "execution_count": 52,
   "metadata": {},
   "outputs": [
    {
     "name": "stdout",
     "output_type": "stream",
     "text": [
      "ford\n",
      "mustang\n",
      "1964\n"
     ]
    }
   ],
   "source": [
    "for item in d.items():\n",
    "    print(item[1])"
   ]
  },
  {
   "cell_type": "code",
   "execution_count": 53,
   "metadata": {},
   "outputs": [
    {
     "name": "stdout",
     "output_type": "stream",
     "text": [
      "brand\n",
      "model\n",
      "year\n"
     ]
    }
   ],
   "source": [
    "for k,v in d.items():\n",
    "    print(k)"
   ]
  },
  {
   "cell_type": "code",
   "execution_count": 54,
   "metadata": {},
   "outputs": [
    {
     "name": "stdout",
     "output_type": "stream",
     "text": [
      "ford\n",
      "mustang\n",
      "1964\n"
     ]
    }
   ],
   "source": [
    "for k,v in d.items():\n",
    "    print(v)"
   ]
  },
  {
   "cell_type": "code",
   "execution_count": 55,
   "metadata": {},
   "outputs": [
    {
     "name": "stdout",
     "output_type": "stream",
     "text": [
      "Apple\n",
      "Banana\n",
      "Cherry\n",
      "Orange\n"
     ]
    }
   ],
   "source": [
    "#break and continue\n",
    "fruits = ['Apple', \"Banana\", 'Cherry', 'Orange']\n",
    "for f in fruits:\n",
    "    print(f)"
   ]
  },
  {
   "cell_type": "code",
   "execution_count": 56,
   "metadata": {},
   "outputs": [
    {
     "name": "stdout",
     "output_type": "stream",
     "text": [
      "Apple\n",
      "Banana\n"
     ]
    }
   ],
   "source": [
    "for f in fruits:\n",
    "    print(f)\n",
    "    if f =='Banana':\n",
    "        break"
   ]
  },
  {
   "cell_type": "code",
   "execution_count": 57,
   "metadata": {},
   "outputs": [
    {
     "name": "stdout",
     "output_type": "stream",
     "text": [
      "Apple\n",
      "Cherry\n",
      "Orange\n"
     ]
    }
   ],
   "source": [
    "#continue keyword\n",
    "for f in fruits:\n",
    "    if f =='Banana':\n",
    "        continue\n",
    "    print(f)"
   ]
  },
  {
   "cell_type": "code",
   "execution_count": 58,
   "metadata": {},
   "outputs": [
    {
     "name": "stdout",
     "output_type": "stream",
     "text": [
      "10\n",
      "6\n",
      "8\n",
      "2\n"
     ]
    }
   ],
   "source": [
    "t = (10,5,6,3,9,8,2)\n",
    "for n in t:\n",
    "    if n%2 !=0:\n",
    "        continue\n",
    "    print(n)"
   ]
  },
  {
   "cell_type": "code",
   "execution_count": null,
   "metadata": {},
   "outputs": [],
   "source": [
    "# Python built-in fuction - range()\n",
    "range(6)"
   ]
  },
  {
   "cell_type": "code",
   "execution_count": 59,
   "metadata": {},
   "outputs": [
    {
     "name": "stdout",
     "output_type": "stream",
     "text": [
      "0\n",
      "1\n",
      "2\n",
      "3\n",
      "4\n",
      "5\n"
     ]
    }
   ],
   "source": [
    "for num in range(6):\n",
    "    print(num)"
   ]
  },
  {
   "cell_type": "code",
   "execution_count": 60,
   "metadata": {},
   "outputs": [
    {
     "name": "stdout",
     "output_type": "stream",
     "text": [
      "5\n",
      "6\n",
      "7\n",
      "8\n",
      "9\n",
      "10\n",
      "11\n",
      "12\n",
      "13\n",
      "14\n"
     ]
    }
   ],
   "source": [
    "for num in range(5,15):\n",
    "    print(num)"
   ]
  },
  {
   "cell_type": "code",
   "execution_count": 61,
   "metadata": {},
   "outputs": [
    {
     "name": "stdout",
     "output_type": "stream",
     "text": [
      "5\n",
      "7\n",
      "9\n",
      "11\n",
      "13\n"
     ]
    }
   ],
   "source": [
    "for num in range(5,15,2):\n",
    "    print(num)"
   ]
  },
  {
   "cell_type": "code",
   "execution_count": 62,
   "metadata": {},
   "outputs": [
    {
     "data": {
      "text/plain": [
       "range(0, 10)"
      ]
     },
     "execution_count": 62,
     "metadata": {},
     "output_type": "execute_result"
    }
   ],
   "source": [
    "range(10)"
   ]
  },
  {
   "cell_type": "code",
   "execution_count": 63,
   "metadata": {},
   "outputs": [
    {
     "data": {
      "text/plain": [
       "[0, 1, 2, 3, 4, 5, 6, 7, 8, 9]"
      ]
     },
     "execution_count": 63,
     "metadata": {},
     "output_type": "execute_result"
    }
   ],
   "source": [
    "list(range(10))"
   ]
  },
  {
   "cell_type": "code",
   "execution_count": 64,
   "metadata": {},
   "outputs": [
    {
     "name": "stdout",
     "output_type": "stream",
     "text": [
      "red\n",
      "green\n",
      "blue\n",
      "purple\n"
     ]
    }
   ],
   "source": [
    "#How to loop with index in python\n",
    "colors = ['red','green', 'blue','purple']\n",
    "for c in colors:\n",
    "    print(c)"
   ]
  },
  {
   "cell_type": "code",
   "execution_count": 65,
   "metadata": {},
   "outputs": [
    {
     "data": {
      "text/plain": [
       "4"
      ]
     },
     "execution_count": 65,
     "metadata": {},
     "output_type": "execute_result"
    }
   ],
   "source": [
    "len(colors)"
   ]
  },
  {
   "cell_type": "code",
   "execution_count": 66,
   "metadata": {},
   "outputs": [
    {
     "data": {
      "text/plain": [
       "range(0, 4)"
      ]
     },
     "execution_count": 66,
     "metadata": {},
     "output_type": "execute_result"
    }
   ],
   "source": [
    "range(len(colors))"
   ]
  },
  {
   "cell_type": "code",
   "execution_count": 67,
   "metadata": {},
   "outputs": [
    {
     "name": "stdout",
     "output_type": "stream",
     "text": [
      "0 red\n",
      "1 green\n",
      "2 blue\n",
      "3 purple\n"
     ]
    }
   ],
   "source": [
    "for index in range(len(colors)):\n",
    "    print(index,colors[index])"
   ]
  },
  {
   "cell_type": "code",
   "execution_count": 68,
   "metadata": {},
   "outputs": [
    {
     "name": "stdout",
     "output_type": "stream",
     "text": [
      "0 Washington\n",
      "1 Adams\n",
      "2 Jefferson\n",
      "3 Madison\n",
      "4 Monroe\n",
      "5 Adams\n",
      "6 Jackson\n"
     ]
    }
   ],
   "source": [
    "names = ['Washington', 'Adams', 'Jefferson',\"Madison\",\"Monroe\",'Adams','Jackson']\n",
    "for index in range(len(names)):\n",
    "    print(index,names[index])"
   ]
  },
  {
   "cell_type": "code",
   "execution_count": 69,
   "metadata": {},
   "outputs": [
    {
     "name": "stdout",
     "output_type": "stream",
     "text": [
      "1 Washington\n",
      "2 Adams\n",
      "3 Jefferson\n",
      "4 Madison\n",
      "5 Monroe\n",
      "6 Adams\n",
      "7 Jackson\n"
     ]
    }
   ],
   "source": [
    "names = ['Washington', 'Adams', 'Jefferson',\"Madison\",\"Monroe\",'Adams','Jackson']\n",
    "for index in range(len(names)):\n",
    "    print(index+1,names[index])"
   ]
  },
  {
   "cell_type": "code",
   "execution_count": 70,
   "metadata": {},
   "outputs": [
    {
     "name": "stdout",
     "output_type": "stream",
     "text": [
      "0 Washington\n",
      "1 Adams\n",
      "2 Jefferson\n",
      "3 Madison\n",
      "4 Monroe\n",
      "5 Adams\n",
      "6 Jackson\n"
     ]
    }
   ],
   "source": [
    "#Pythons built in enumerate function\n",
    "for idx, n in enumerate(names):\n",
    "    print(idx,n)"
   ]
  },
  {
   "cell_type": "code",
   "execution_count": 71,
   "metadata": {},
   "outputs": [
    {
     "name": "stdout",
     "output_type": "stream",
     "text": [
      "1 Washington\n",
      "2 Adams\n",
      "3 Jefferson\n",
      "4 Madison\n",
      "5 Monroe\n",
      "6 Adams\n",
      "7 Jackson\n"
     ]
    }
   ],
   "source": [
    "for idx, n in enumerate(names, start=1):\n",
    "    print(idx,n)"
   ]
  },
  {
   "cell_type": "code",
   "execution_count": 72,
   "metadata": {},
   "outputs": [
    {
     "name": "stdout",
     "output_type": "stream",
     "text": [
      "20.0 red\n",
      "30.0 green\n",
      "40.0 blue\n",
      "10.0 purple\n"
     ]
    }
   ],
   "source": [
    "#what we should do if we need to loop over multiple things? Without nested loop\n",
    "colors =['red', 'green', 'blue','purple']\n",
    "ratios= [0.2,0.3,0.4,0.1]\n",
    "for index in range(len(colors)):\n",
    "    print(ratios[index]*100,colors[index])"
   ]
  },
  {
   "cell_type": "code",
   "execution_count": 73,
   "metadata": {},
   "outputs": [
    {
     "name": "stdout",
     "output_type": "stream",
     "text": [
      "20% red\n",
      "30% green\n",
      "40% blue\n",
      "10% purple\n"
     ]
    }
   ],
   "source": [
    "colors =['red', 'green', 'blue','purple']\n",
    "ratios= [0.2,0.3,0.4,0.1]\n",
    "for index in range(len(colors)):\n",
    "    print(str(int(ratios[index]*100))+'%',colors[index])"
   ]
  },
  {
   "cell_type": "code",
   "execution_count": 74,
   "metadata": {},
   "outputs": [
    {
     "name": "stdout",
     "output_type": "stream",
     "text": [
      "20% red\n",
      "30% green\n",
      "40% blue\n",
      "10% purple\n"
     ]
    }
   ],
   "source": [
    "for index , n in enumerate(colors):\n",
    "    print(str(int(ratios[index]*100))+'%',colors[index])"
   ]
  },
  {
   "cell_type": "code",
   "execution_count": 76,
   "metadata": {},
   "outputs": [
    {
     "name": "stdout",
     "output_type": "stream",
     "text": [
      "20% purple\n",
      "30% purple\n",
      "40% purple\n",
      "10% purple\n"
     ]
    }
   ],
   "source": [
    "for t in list(zip(ratios,colors)):\n",
    "    print(str(int(t[0]*100))+'%',colors[index])"
   ]
  },
  {
   "cell_type": "code",
   "execution_count": 79,
   "metadata": {},
   "outputs": [
    {
     "name": "stdout",
     "output_type": "stream",
     "text": [
      "20% red\n",
      "30% green\n",
      "40% blue\n",
      "10% purple\n"
     ]
    }
   ],
   "source": [
    "for t in list(zip(ratios,colors)):\n",
    "       print(str(int(t[0]*100))+'%',t[1])"
   ]
  },
  {
   "cell_type": "code",
   "execution_count": 80,
   "metadata": {},
   "outputs": [
    {
     "name": "stdout",
     "output_type": "stream",
     "text": [
      "20% red\n",
      "30% green\n",
      "40% blue\n",
      "10% purple\n"
     ]
    }
   ],
   "source": [
    "for r,n in list(zip(ratios,colors)):\n",
    "    print(str(int(r*100))+'%',n)"
   ]
  },
  {
   "cell_type": "code",
   "execution_count": 81,
   "metadata": {},
   "outputs": [
    {
     "name": "stdout",
     "output_type": "stream",
     "text": [
      "20% red\n",
      "30% green\n",
      "40% blue\n",
      "10% purple\n"
     ]
    }
   ],
   "source": [
    "for t in (zip(ratios,colors)):\n",
    "    print(str(int(t[0]*100))+'%',t[1])"
   ]
  },
  {
   "cell_type": "code",
   "execution_count": 82,
   "metadata": {},
   "outputs": [
    {
     "data": {
      "text/plain": [
       "[(0.2, 'red'), (0.3, 'green'), (0.4, 'blue'), (0.1, 'purple')]"
      ]
     },
     "execution_count": 82,
     "metadata": {},
     "output_type": "execute_result"
    }
   ],
   "source": [
    "list(zip(ratios,colors))"
   ]
  },
  {
   "cell_type": "code",
   "execution_count": 83,
   "metadata": {},
   "outputs": [
    {
     "data": {
      "text/plain": [
       "['P', 'L']"
      ]
     },
     "execution_count": 83,
     "metadata": {},
     "output_type": "execute_result"
    }
   ],
   "source": [
    "s= 'Python provides an efficent and streamLined approach to data wrangling'\n",
    "upper_case = []\n",
    "for l in s:\n",
    "    if l.isupper():\n",
    "        upper_case.append(l)\n",
    "upper_case"
   ]
  },
  {
   "cell_type": "code",
   "execution_count": 84,
   "metadata": {},
   "outputs": [
    {
     "data": {
      "text/plain": [
       "['Apple', 'Banana', 'Cherry', 'Orange']"
      ]
     },
     "execution_count": 84,
     "metadata": {},
     "output_type": "execute_result"
    }
   ],
   "source": [
    "#pass\n",
    "fruits"
   ]
  },
  {
   "cell_type": "code",
   "execution_count": 85,
   "metadata": {},
   "outputs": [],
   "source": [
    "for f in fruits:\n",
    "    pass"
   ]
  },
  {
   "cell_type": "code",
   "execution_count": 87,
   "metadata": {},
   "outputs": [
    {
     "name": "stdout",
     "output_type": "stream",
     "text": [
      "Apple Banana Cherry Orange \n",
      "Done Printing\n"
     ]
    }
   ],
   "source": [
    "#else\n",
    "for f in fruits:\n",
    "    print(f, end= ' ')\n",
    "else:\n",
    "    print (\"\\nDone Printing\")"
   ]
  },
  {
   "cell_type": "code",
   "execution_count": null,
   "metadata": {},
   "outputs": [],
   "source": []
  }
 ],
 "metadata": {
  "kernelspec": {
   "display_name": "Python 3",
   "language": "python",
   "name": "python3"
  },
  "language_info": {
   "codemirror_mode": {
    "name": "ipython",
    "version": 3
   },
   "file_extension": ".py",
   "mimetype": "text/x-python",
   "name": "python",
   "nbconvert_exporter": "python",
   "pygments_lexer": "ipython3",
   "version": "3.7.7"
  }
 },
 "nbformat": 4,
 "nbformat_minor": 4
}
